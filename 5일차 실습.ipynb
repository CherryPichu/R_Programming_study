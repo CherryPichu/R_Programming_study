{
 "cells": [
  {
   "cell_type": "code",
   "execution_count": 2,
   "metadata": {},
   "outputs": [
    {
     "name": "stderr",
     "output_type": "stream",
     "text": [
      "Warning message:\n",
      "\"package 'tidyverse' was built under R version 3.6.3\"-- Attaching packages --------------------------------------- tidyverse 1.3.0 --\n",
      "√ ggplot2 3.3.3     √ purrr   0.3.4\n",
      "√ tibble  3.1.0     √ dplyr   1.0.5\n",
      "√ tidyr   1.1.3     √ stringr 1.4.0\n",
      "√ readr   1.3.1     √ forcats 0.4.0\n",
      "Warning message:\n",
      "\"package 'ggplot2' was built under R version 3.6.3\"Warning message:\n",
      "\"package 'tibble' was built under R version 3.6.3\"Warning message:\n",
      "\"package 'tidyr' was built under R version 3.6.3\"Warning message:\n",
      "\"package 'purrr' was built under R version 3.6.3\"Warning message:\n",
      "\"package 'dplyr' was built under R version 3.6.3\"-- Conflicts ------------------------------------------ tidyverse_conflicts() --\n",
      "x dplyr::filter() masks stats::filter()\n",
      "x dplyr::lag()    masks stats::lag()\n"
     ]
    }
   ],
   "source": [
    "library(tidyverse)"
   ]
  },
  {
   "cell_type": "code",
   "execution_count": 3,
   "metadata": {},
   "outputs": [
    {
     "data": {
      "text/html": [
       "15"
      ],
      "text/latex": [
       "15"
      ],
      "text/markdown": [
       "15"
      ],
      "text/plain": [
       "[1] 15"
      ]
     },
     "metadata": {},
     "output_type": "display_data"
    }
   ],
   "source": [
    "#사용자 함수\n",
    "mymax <- function(x, y){\n",
    "    num.max <- x\n",
    "    if(y > x){\n",
    "        num.max <- y\n",
    "    }\n",
    "    return(num.max)\n",
    "}\n",
    "mymax(10, 15)"
   ]
  },
  {
   "cell_type": "code",
   "execution_count": 4,
   "metadata": {},
   "outputs": [
    {
     "data": {
      "text/html": [
       "20"
      ],
      "text/latex": [
       "20"
      ],
      "text/markdown": [
       "20"
      ],
      "text/plain": [
       "[1] 20"
      ]
     },
     "metadata": {},
     "output_type": "display_data"
    }
   ],
   "source": [
    "mymax(20, 15)"
   ]
  },
  {
   "cell_type": "markdown",
   "metadata": {},
   "source": [
    "#### default Value"
   ]
  },
  {
   "cell_type": "code",
   "execution_count": 5,
   "metadata": {},
   "outputs": [],
   "source": [
    "mydiv <- function(x, y=2){\n",
    "    result <- x/y\n",
    "    return(result)\n",
    "}"
   ]
  },
  {
   "cell_type": "code",
   "execution_count": 6,
   "metadata": {},
   "outputs": [
    {
     "data": {
      "text/html": [
       "3.33333333333333"
      ],
      "text/latex": [
       "3.33333333333333"
      ],
      "text/markdown": [
       "3.33333333333333"
      ],
      "text/plain": [
       "[1] 3.333333"
      ]
     },
     "metadata": {},
     "output_type": "display_data"
    }
   ],
   "source": [
    "mydiv(x=10, y=3)"
   ]
  },
  {
   "cell_type": "code",
   "execution_count": 7,
   "metadata": {},
   "outputs": [
    {
     "data": {
      "text/html": [
       "3.33333333333333"
      ],
      "text/latex": [
       "3.33333333333333"
      ],
      "text/markdown": [
       "3.33333333333333"
      ],
      "text/plain": [
       "[1] 3.333333"
      ]
     },
     "metadata": {},
     "output_type": "display_data"
    }
   ],
   "source": [
    "mydiv(10, 3)"
   ]
  },
  {
   "cell_type": "code",
   "execution_count": 8,
   "metadata": {},
   "outputs": [
    {
     "data": {
      "text/html": [
       "5"
      ],
      "text/latex": [
       "5"
      ],
      "text/markdown": [
       "5"
      ],
      "text/plain": [
       "[1] 5"
      ]
     },
     "metadata": {},
     "output_type": "display_data"
    }
   ],
   "source": [
    "mydiv(10)"
   ]
  },
  {
   "cell_type": "markdown",
   "metadata": {},
   "source": [
    "#### 함수 다중 리턴값 예제"
   ]
  },
  {
   "cell_type": "code",
   "execution_count": 9,
   "metadata": {},
   "outputs": [
    {
     "data": {
      "text/html": [
       "13"
      ],
      "text/latex": [
       "13"
      ],
      "text/markdown": [
       "13"
      ],
      "text/plain": [
       "[1] 13"
      ]
     },
     "metadata": {},
     "output_type": "display_data"
    }
   ],
   "source": [
    "myfunc <- function(x,y){\n",
    "    val.sum <- x + y\n",
    "    val.mul <- x * y\n",
    "    return(list(sum=val.sum, mul =val.mul))\n",
    "}\n",
    "result <- myfunc(5, 8)\n",
    "result$sum"
   ]
  },
  {
   "cell_type": "code",
   "execution_count": 10,
   "metadata": {},
   "outputs": [
    {
     "data": {
      "text/html": [
       "40"
      ],
      "text/latex": [
       "40"
      ],
      "text/markdown": [
       "40"
      ],
      "text/plain": [
       "[1] 40"
      ]
     },
     "metadata": {},
     "output_type": "display_data"
    }
   ],
   "source": [
    "result$mul"
   ]
  },
  {
   "cell_type": "markdown",
   "metadata": {},
   "source": [
    "함수 내의 변수(지역변수)를 전역변수로 설정하기 <br>\n",
    "**<-** 가 아닌 **<<-** 를 사용하면 됨!"
   ]
  },
  {
   "cell_type": "code",
   "execution_count": 11,
   "metadata": {},
   "outputs": [
    {
     "name": "stdout",
     "output_type": "stream",
     "text": [
      "[1] 1\n",
      "[1] 3\n",
      "[1] 6\n",
      "[1] 10\n",
      "[1] 15\n",
      "[1] 21\n",
      "[1] 28\n",
      "[1] 36\n",
      "[1] 45\n",
      "[1] 55\n"
     ]
    },
    {
     "data": {
      "text/html": [
       "55"
      ],
      "text/latex": [
       "55"
      ],
      "text/markdown": [
       "55"
      ],
      "text/plain": [
       "[1] 55"
      ]
     },
     "metadata": {},
     "output_type": "display_data"
    }
   ],
   "source": [
    "a <- 1:10\n",
    "b <- 10:50 # a 벡터와 b 벡터를 생성\n",
    "\n",
    "a_sum <- 0\n",
    "b_sum <- 0\n",
    "\n",
    "vec_sum <- function(values){\n",
    "    return_sum <- 0\n",
    "    for(value in values){\n",
    "        return_sum <- return_sum + value\n",
    "        print(return_sum)\n",
    "    }\n",
    "    return(return_sum)\n",
    "}\n",
    "\n",
    "a_sum2 <- vec_sum(a)\n",
    "# b_sum2 <- vec_sum(b)\n",
    "\n",
    "a_sum2"
   ]
  },
  {
   "cell_type": "markdown",
   "metadata": {},
   "source": [
    "### 결측값 처리\n",
    "- 함수의 속성 이용 : na.rm = T 를 사용하여, 함수 사용시 NA를 제외하고 수행한다.\n",
    "<small>na.rm argument가 존재하는 함수가 제한적이다.</small>\n",
    "- is.na() : NA인 데이터가 있으면 T, 없으면 F 를 반환 (시퀀스 지원)\n",
    "- na.omit() : NA인 데이터를 지운다. !!NA가 포함된 행 전체를 지우기 때문에 주의 필요"
   ]
  },
  {
   "cell_type": "code",
   "execution_count": 12,
   "metadata": {},
   "outputs": [
    {
     "name": "stderr",
     "output_type": "stream",
     "text": [
      "\n",
      "Attaching package: 'data.table'\n",
      "\n",
      "The following objects are masked from 'package:dplyr':\n",
      "\n",
      "    between, first, last\n",
      "\n",
      "The following object is masked from 'package:purrr':\n",
      "\n",
      "    transpose\n",
      "\n"
     ]
    }
   ],
   "source": [
    "library(data.table)\n",
    "library(tidyverse)"
   ]
  },
  {
   "cell_type": "code",
   "execution_count": 13,
   "metadata": {},
   "outputs": [],
   "source": [
    "df <- read.table(file= \"Pre_Season_Batter.csv\" ,sep=\",\", header=TRUE)"
   ]
  },
  {
   "cell_type": "code",
   "execution_count": 14,
   "metadata": {},
   "outputs": [
    {
     "data": {
      "text/html": [
       "1393"
      ],
      "text/latex": [
       "1393"
      ],
      "text/markdown": [
       "1393"
      ],
      "text/plain": [
       "[1] 1393"
      ]
     },
     "metadata": {},
     "output_type": "display_data"
    }
   ],
   "source": [
    "nrow(df)"
   ]
  },
  {
   "cell_type": "code",
   "execution_count": 15,
   "metadata": {},
   "outputs": [
    {
     "data": {
      "text/plain": [
       "\n",
       "FALSE  TRUE \n",
       "40314    83 "
      ]
     },
     "metadata": {},
     "output_type": "display_data"
    },
    {
     "data": {
      "text/html": [
       "83"
      ],
      "text/latex": [
       "83"
      ],
      "text/markdown": [
       "83"
      ],
      "text/plain": [
       "[1] 83"
      ]
     },
     "metadata": {},
     "output_type": "display_data"
    }
   ],
   "source": [
    "table(is.na(df)) # 데이터를 확인하는 방법\n",
    "sum(is.na(df)) # 파이썬 방식"
   ]
  },
  {
   "cell_type": "code",
   "execution_count": 16,
   "metadata": {},
   "outputs": [
    {
     "data": {
      "text/html": [
       "<table>\n",
       "<thead><tr><th scope=col>batter_id</th><th scope=col>batter_name</th><th scope=col>year</th><th scope=col>team</th><th scope=col>avg</th><th scope=col>G</th><th scope=col>AB</th><th scope=col>R</th><th scope=col>H</th><th scope=col>X2B</th><th scope=col>...</th><th scope=col>GDP</th><th scope=col>SLG</th><th scope=col>OBP</th><th scope=col>E</th><th scope=col>height.weight</th><th scope=col>year_born</th><th scope=col>position</th><th scope=col>career</th><th scope=col>starting_salary</th><th scope=col>OPS</th></tr></thead>\n",
       "<tbody>\n",
       "\t<tr><td>0                                        </td><td>가르시아                                 </td><td>2018                                     </td><td>LG                                       </td><td>0.35                                     </td><td> 7                                       </td><td>20                                       </td><td>1                                        </td><td>7                                        </td><td>1                                        </td><td>...                                      </td><td>1                                        </td><td>0.550                                    </td><td>0.409                                    </td><td>1                                        </td><td>177cm/93kg                               </td><td>1985년 04월 12일                         </td><td>내야수(우투우타)                         </td><td>쿠바 Ciego de Avila Maximo Gomez Baez(대)</td><td>                                         </td><td>0.959                                    </td></tr>\n",
       "\t<tr><td>1                                        </td><td>강경학                                   </td><td>2011                                     </td><td>한화                                     </td><td>0                                        </td><td> 4                                       </td><td> 2                                       </td><td>2                                        </td><td>0                                        </td><td>0                                        </td><td>...                                      </td><td>0                                        </td><td>0.000                                    </td><td>0.500                                    </td><td>0                                        </td><td>180cm/72kg                               </td><td>1992년 08월 11일                         </td><td>내야수(우투좌타)                         </td><td>광주대성초-광주동성중-광주동성고         </td><td>10000만원                                </td><td>0.500                                    </td></tr>\n",
       "\t<tr><td>1                                        </td><td>강경학                                   </td><td>2014                                     </td><td>한화                                     </td><td>-                                        </td><td> 4                                       </td><td> 0                                       </td><td>2                                        </td><td>0                                        </td><td>0                                        </td><td>...                                      </td><td>0                                        </td><td>   NA                                    </td><td>   NA                                    </td><td>0                                        </td><td>180cm/72kg                               </td><td>1992년 08월 11일                         </td><td>내야수(우투좌타)                         </td><td>광주대성초-광주동성중-광주동성고         </td><td>10000만원                                </td><td>   NA                                    </td></tr>\n",
       "\t<tr><td>1                                        </td><td>강경학                                   </td><td>2015                                     </td><td>한화                                     </td><td>0.13                                     </td><td>10                                       </td><td>23                                       </td><td>3                                        </td><td>3                                        </td><td>0                                        </td><td>...                                      </td><td>0                                        </td><td>0.130                                    </td><td>0.286                                    </td><td>2                                        </td><td>180cm/72kg                               </td><td>1992년 08월 11일                         </td><td>내야수(우투좌타)                         </td><td>광주대성초-광주동성중-광주동성고         </td><td>10000만원                                </td><td>0.416                                    </td></tr>\n",
       "\t<tr><td>1                                        </td><td>강경학                                   </td><td>2016                                     </td><td>한화                                     </td><td>0.188                                    </td><td>14                                       </td><td>32                                       </td><td>4                                        </td><td>6                                        </td><td>1                                        </td><td>...                                      </td><td>0                                        </td><td>0.281                                    </td><td>0.212                                    </td><td>0                                        </td><td>180cm/72kg                               </td><td>1992년 08월 11일                         </td><td>내야수(우투좌타)                         </td><td>광주대성초-광주동성중-광주동성고         </td><td>10000만원                                </td><td>0.493                                    </td></tr>\n",
       "</tbody>\n",
       "</table>\n"
      ],
      "text/latex": [
       "\\begin{tabular}{r|lllllllllllllllllllllllllllll}\n",
       " batter\\_id & batter\\_name & year & team & avg & G & AB & R & H & X2B & ... & GDP & SLG & OBP & E & height.weight & year\\_born & position & career & starting\\_salary & OPS\\\\\n",
       "\\hline\n",
       "\t 0                                         & 가르시아                                  & 2018                                      & LG                                        & 0.35                                      &  7                                        & 20                                        & 1                                         & 7                                         & 1                                         & ...                                       & 1                                         & 0.550                                     & 0.409                                     & 1                                         & 177cm/93kg                                & 1985년 04월 12일                          & 내야수(우투우타)                          & 쿠바 Ciego de Avila Maximo Gomez Baez(대) &                                           & 0.959                                    \\\\\n",
       "\t 1                                         & 강경학                                    & 2011                                      & 한화                                      & 0                                         &  4                                        &  2                                        & 2                                         & 0                                         & 0                                         & ...                                       & 0                                         & 0.000                                     & 0.500                                     & 0                                         & 180cm/72kg                                & 1992년 08월 11일                          & 내야수(우투좌타)                          & 광주대성초-광주동성중-광주동성고          & 10000만원                                 & 0.500                                    \\\\\n",
       "\t 1                                         & 강경학                                    & 2014                                      & 한화                                      & -                                         &  4                                        &  0                                        & 2                                         & 0                                         & 0                                         & ...                                       & 0                                         &    NA                                     &    NA                                     & 0                                         & 180cm/72kg                                & 1992년 08월 11일                          & 내야수(우투좌타)                          & 광주대성초-광주동성중-광주동성고          & 10000만원                                 &    NA                                    \\\\\n",
       "\t 1                                         & 강경학                                    & 2015                                      & 한화                                      & 0.13                                      & 10                                        & 23                                        & 3                                         & 3                                         & 0                                         & ...                                       & 0                                         & 0.130                                     & 0.286                                     & 2                                         & 180cm/72kg                                & 1992년 08월 11일                          & 내야수(우투좌타)                          & 광주대성초-광주동성중-광주동성고          & 10000만원                                 & 0.416                                    \\\\\n",
       "\t 1                                         & 강경학                                    & 2016                                      & 한화                                      & 0.188                                     & 14                                        & 32                                        & 4                                         & 6                                         & 1                                         & ...                                       & 0                                         & 0.281                                     & 0.212                                     & 0                                         & 180cm/72kg                                & 1992년 08월 11일                          & 내야수(우투좌타)                          & 광주대성초-광주동성중-광주동성고          & 10000만원                                 & 0.493                                    \\\\\n",
       "\\end{tabular}\n"
      ],
      "text/markdown": [
       "\n",
       "| batter_id | batter_name | year | team | avg | G | AB | R | H | X2B | ... | GDP | SLG | OBP | E | height.weight | year_born | position | career | starting_salary | OPS |\n",
       "|---|---|---|---|---|---|---|---|---|---|---|---|---|---|---|---|---|---|---|---|---|\n",
       "| 0                                         | 가르시아                                  | 2018                                      | LG                                        | 0.35                                      |  7                                        | 20                                        | 1                                         | 7                                         | 1                                         | ...                                       | 1                                         | 0.550                                     | 0.409                                     | 1                                         | 177cm/93kg                                | 1985년 04월 12일                          | 내야수(우투우타)                          | 쿠바 Ciego de Avila Maximo Gomez Baez(대) |                                           | 0.959                                     |\n",
       "| 1                                         | 강경학                                    | 2011                                      | 한화                                      | 0                                         |  4                                        |  2                                        | 2                                         | 0                                         | 0                                         | ...                                       | 0                                         | 0.000                                     | 0.500                                     | 0                                         | 180cm/72kg                                | 1992년 08월 11일                          | 내야수(우투좌타)                          | 광주대성초-광주동성중-광주동성고          | 10000만원                                 | 0.500                                     |\n",
       "| 1                                         | 강경학                                    | 2014                                      | 한화                                      | -                                         |  4                                        |  0                                        | 2                                         | 0                                         | 0                                         | ...                                       | 0                                         |    NA                                     |    NA                                     | 0                                         | 180cm/72kg                                | 1992년 08월 11일                          | 내야수(우투좌타)                          | 광주대성초-광주동성중-광주동성고          | 10000만원                                 |    NA                                     |\n",
       "| 1                                         | 강경학                                    | 2015                                      | 한화                                      | 0.13                                      | 10                                        | 23                                        | 3                                         | 3                                         | 0                                         | ...                                       | 0                                         | 0.130                                     | 0.286                                     | 2                                         | 180cm/72kg                                | 1992년 08월 11일                          | 내야수(우투좌타)                          | 광주대성초-광주동성중-광주동성고          | 10000만원                                 | 0.416                                     |\n",
       "| 1                                         | 강경학                                    | 2016                                      | 한화                                      | 0.188                                     | 14                                        | 32                                        | 4                                         | 6                                         | 1                                         | ...                                       | 0                                         | 0.281                                     | 0.212                                     | 0                                         | 180cm/72kg                                | 1992년 08월 11일                          | 내야수(우투좌타)                          | 광주대성초-광주동성중-광주동성고          | 10000만원                                 | 0.493                                     |\n",
       "\n"
      ],
      "text/plain": [
       "  batter_id batter_name year team avg   G  AB R H X2B ... GDP SLG   OBP   E\n",
       "1 0         가르시아    2018 LG   0.35   7 20 1 7 1   ... 1   0.550 0.409 1\n",
       "2 1         강경학      2011 한화 0      4  2 2 0 0   ... 0   0.000 0.500 0\n",
       "3 1         강경학      2014 한화 -      4  0 2 0 0   ... 0      NA    NA 0\n",
       "4 1         강경학      2015 한화 0.13  10 23 3 3 0   ... 0   0.130 0.286 2\n",
       "5 1         강경학      2016 한화 0.188 14 32 4 6 1   ... 0   0.281 0.212 0\n",
       "  height.weight year_born        position        \n",
       "1 177cm/93kg    1985년 04월 12일 내야수(우투우타)\n",
       "2 180cm/72kg    1992년 08월 11일 내야수(우투좌타)\n",
       "3 180cm/72kg    1992년 08월 11일 내야수(우투좌타)\n",
       "4 180cm/72kg    1992년 08월 11일 내야수(우투좌타)\n",
       "5 180cm/72kg    1992년 08월 11일 내야수(우투좌타)\n",
       "  career                                    starting_salary OPS  \n",
       "1 쿠바 Ciego de Avila Maximo Gomez Baez(대)                 0.959\n",
       "2 광주대성초-광주동성중-광주동성고          10000만원       0.500\n",
       "3 광주대성초-광주동성중-광주동성고          10000만원          NA\n",
       "4 광주대성초-광주동성중-광주동성고          10000만원       0.416\n",
       "5 광주대성초-광주동성중-광주동성고          10000만원       0.493"
      ]
     },
     "metadata": {},
     "output_type": "display_data"
    }
   ],
   "source": [
    "head(df, 5)"
   ]
  },
  {
   "cell_type": "code",
   "execution_count": 20,
   "metadata": {},
   "outputs": [
    {
     "data": {
      "text/plain": [
       "\n",
       "FALSE  TRUE \n",
       " 1364    29 "
      ]
     },
     "metadata": {},
     "output_type": "display_data"
    }
   ],
   "source": [
    "table(is.na(df$SLG)) # DF$SLG ------> 장타율"
   ]
  },
  {
   "cell_type": "code",
   "execution_count": 21,
   "metadata": {},
   "outputs": [
    {
     "data": {
      "text/plain": [
       "< table of extent 0 >"
      ]
     },
     "metadata": {},
     "output_type": "display_data"
    }
   ],
   "source": [
    "table(is.na(df$DBP)) # DF$DBP ------> 출루율"
   ]
  },
  {
   "cell_type": "code",
   "execution_count": 22,
   "metadata": {},
   "outputs": [
    {
     "data": {
      "text/plain": [
       "\n",
       "FALSE \n",
       " 1393 "
      ]
     },
     "metadata": {},
     "output_type": "display_data"
    }
   ],
   "source": [
    "table(is.na(df$E)) # DF$SLG ------> 실책 \n",
    "# na값이 없다."
   ]
  },
  {
   "cell_type": "code",
   "execution_count": 24,
   "metadata": {},
   "outputs": [
    {
     "data": {
      "text/plain": [
       "< table of extent 0 >"
      ]
     },
     "metadata": {},
     "output_type": "display_data"
    }
   ],
   "source": [
    "table(is.na(df$'height/weight')) # DF$'height/weight' ------> 키 / 몸무게!\n",
    "# < table of extent 0 > char 이기 때문에 뜬다."
   ]
  },
  {
   "cell_type": "code",
   "execution_count": 31,
   "metadata": {},
   "outputs": [
    {
     "data": {
      "text/html": [
       "&lt;NA&gt;"
      ],
      "text/latex": [
       "<NA>"
      ],
      "text/markdown": [
       "&lt;NA&gt;"
      ],
      "text/plain": [
       "[1] NA"
      ]
     },
     "metadata": {},
     "output_type": "display_data"
    },
    {
     "data": {
      "text/html": [
       "&lt;NA&gt;"
      ],
      "text/latex": [
       "<NA>"
      ],
      "text/markdown": [
       "&lt;NA&gt;"
      ],
      "text/plain": [
       "[1] NA"
      ]
     },
     "metadata": {},
     "output_type": "display_data"
    },
    {
     "data": {
      "text/html": [
       "0.381909547738693"
      ],
      "text/latex": [
       "0.381909547738693"
      ],
      "text/markdown": [
       "0.381909547738693"
      ],
      "text/plain": [
       "[1] 0.3819095"
      ]
     },
     "metadata": {},
     "output_type": "display_data"
    }
   ],
   "source": [
    "mean(df$SLG) # NA가 존재, 결과도 NA!\n",
    "mean(df$OBP)\n",
    "mean(df$E)\n",
    "# mean(df$'height/weight') #chr 형채"
   ]
  },
  {
   "cell_type": "code",
   "execution_count": 32,
   "metadata": {},
   "outputs": [
    {
     "data": {
      "text/html": [
       "0.361012463343108"
      ],
      "text/latex": [
       "0.361012463343108"
      ],
      "text/markdown": [
       "0.361012463343108"
      ],
      "text/plain": [
       "[1] 0.3610125"
      ]
     },
     "metadata": {},
     "output_type": "display_data"
    },
    {
     "data": {
      "text/html": [
       "0.317911549707602"
      ],
      "text/latex": [
       "0.317911549707602"
      ],
      "text/markdown": [
       "0.317911549707602"
      ],
      "text/plain": [
       "[1] 0.3179115"
      ]
     },
     "metadata": {},
     "output_type": "display_data"
    },
    {
     "data": {
      "text/html": [
       "0.381909547738693"
      ],
      "text/latex": [
       "0.381909547738693"
      ],
      "text/markdown": [
       "0.381909547738693"
      ],
      "text/plain": [
       "[1] 0.3819095"
      ]
     },
     "metadata": {},
     "output_type": "display_data"
    }
   ],
   "source": [
    "# mean에는 na.rm argument 가 존재!!\n",
    "# 함수의 속성을 이용해서 결측값은 무시\n",
    "mean(df$SLG, na.rm=T) # NA가 존재, 결과도 NA!\n",
    "mean(df$OBP, na.rm=T)\n",
    "mean(df$E)\n",
    "# mean(df$'height/weight') #chr 형채"
   ]
  },
  {
   "cell_type": "code",
   "execution_count": 40,
   "metadata": {},
   "outputs": [
    {
     "data": {
      "text/html": [
       "1364"
      ],
      "text/latex": [
       "1364"
      ],
      "text/markdown": [
       "1364"
      ],
      "text/plain": [
       "[1] 1364"
      ]
     },
     "metadata": {},
     "output_type": "display_data"
    }
   ],
   "source": [
    "df_not_na_slg <- df[!is.na(df$SLG),]\n",
    "nrow(df_not_na_slg)"
   ]
  },
  {
   "cell_type": "code",
   "execution_count": 50,
   "metadata": {},
   "outputs": [
    {
     "data": {
      "text/html": [
       "1364"
      ],
      "text/latex": [
       "1364"
      ],
      "text/markdown": [
       "1364"
      ],
      "text/plain": [
       "[1] 1364"
      ]
     },
     "metadata": {},
     "output_type": "display_data"
    }
   ],
   "source": [
    "df_not_na_slg <- df[is.na(df$SLG) == F,]\n",
    "nrow(df_not_na_slg)"
   ]
  },
  {
   "cell_type": "markdown",
   "metadata": {},
   "source": [
    "#### na.omit() -------> NA인 데이터를 지운다. 주의 NA가 포함된 행 전체를 지운다."
   ]
  },
  {
   "cell_type": "code",
   "execution_count": 55,
   "metadata": {},
   "outputs": [],
   "source": [
    "df_not_omit <- na.omit(df)"
   ]
  },
  {
   "cell_type": "code",
   "execution_count": 57,
   "metadata": {},
   "outputs": [
    {
     "data": {
      "text/html": [
       "0.315911290322581"
      ],
      "text/latex": [
       "0.315911290322581"
      ],
      "text/markdown": [
       "0.315911290322581"
      ],
      "text/plain": [
       "[1] 0.3159113"
      ]
     },
     "metadata": {},
     "output_type": "display_data"
    }
   ],
   "source": [
    "mean(df_not_omit$OBP) # NA가 있으면 해당 행을 다 지우기 때문에\n",
    "# 데이터 분석에 있어서 쓰기 힘든 함수이다."
   ]
  },
  {
   "cell_type": "code",
   "execution_count": 58,
   "metadata": {},
   "outputs": [
    {
     "data": {
      "text/html": [
       "0.317911549707602"
      ],
      "text/latex": [
       "0.317911549707602"
      ],
      "text/markdown": [
       "0.317911549707602"
      ],
      "text/plain": [
       "[1] 0.3179115"
      ]
     },
     "metadata": {},
     "output_type": "display_data"
    }
   ],
   "source": [
    "mean(df$OBP, na.rm =T)"
   ]
  },
  {
   "cell_type": "code",
   "execution_count": 62,
   "metadata": {},
   "outputs": [],
   "source": [
    "df$SLG <- ifelse(is.na(df$SLG), 0 , df$SLG) # 결측값은 전부 0으로 치환"
   ]
  },
  {
   "cell_type": "code",
   "execution_count": null,
   "metadata": {},
   "outputs": [],
   "source": []
  },
  {
   "cell_type": "markdown",
   "metadata": {},
   "source": [
    "### 이상값 처리\n",
    "- 모든 열의 4분의 수 구하기!!!<br>"
   ]
  },
  {
   "cell_type": "code",
   "execution_count": 71,
   "metadata": {},
   "outputs": [
    {
     "data": {
      "text/plain": [
       "     Ozone           Solar.R           Wind             Temp      \n",
       " Min.   :  1.00   Min.   :  7.0   Min.   : 1.700   Min.   :56.00  \n",
       " 1st Qu.: 18.00   1st Qu.:115.8   1st Qu.: 7.400   1st Qu.:72.00  \n",
       " Median : 31.50   Median :205.0   Median : 9.700   Median :79.00  \n",
       " Mean   : 42.13   Mean   :185.9   Mean   : 9.958   Mean   :77.88  \n",
       " 3rd Qu.: 63.25   3rd Qu.:258.8   3rd Qu.:11.500   3rd Qu.:85.00  \n",
       " Max.   :168.00   Max.   :334.0   Max.   :20.700   Max.   :97.00  \n",
       " NA's   :37       NA's   :7                                       \n",
       "     Month            Day      \n",
       " Min.   :5.000   Min.   : 1.0  \n",
       " 1st Qu.:6.000   1st Qu.: 8.0  \n",
       " Median :7.000   Median :16.0  \n",
       " Mean   :6.993   Mean   :15.8  \n",
       " 3rd Qu.:8.000   3rd Qu.:23.0  \n",
       " Max.   :9.000   Max.   :31.0  \n",
       "                               "
      ]
     },
     "metadata": {},
     "output_type": "display_data"
    }
   ],
   "source": [
    "summary(airquality) #  요약"
   ]
  },
  {
   "cell_type": "code",
   "execution_count": 72,
   "metadata": {},
   "outputs": [
    {
     "name": "stdout",
     "output_type": "stream",
     "text": [
      " 'table' chr [1:7, 1:6] \"Min.   :  1.00  \" \"1st Qu.: 18.00  \" ...\n",
      " - attr(*, \"dimnames\")=List of 2\n",
      "  ..$ : chr [1:7] \"\" \"\" \"\" \"\" ...\n",
      "  ..$ : chr [1:6] \"    Ozone\" \"   Solar.R\" \"     Wind\" \"     Temp\" ...\n"
     ]
    }
   ],
   "source": [
    "quar <- summary(airquality)\n",
    "str(quar)"
   ]
  },
  {
   "cell_type": "code",
   "execution_count": 73,
   "metadata": {},
   "outputs": [
    {
     "data": {
      "text/html": [
       "<dl class=dl-horizontal>\n",
       "\t<dt>1</dt>\n",
       "\t\t<dd><span style=white-space:pre-wrap>'Min.   :  1.00  '</span></dd>\n",
       "\t<dt>2</dt>\n",
       "\t\t<dd><span style=white-space:pre-wrap>'1st Qu.: 18.00  '</span></dd>\n",
       "\t<dt>3</dt>\n",
       "\t\t<dd><span style=white-space:pre-wrap>'Median : 31.50  '</span></dd>\n",
       "\t<dt>4</dt>\n",
       "\t\t<dd><span style=white-space:pre-wrap>'Mean   : 42.13  '</span></dd>\n",
       "\t<dt>5</dt>\n",
       "\t\t<dd><span style=white-space:pre-wrap>'3rd Qu.: 63.25  '</span></dd>\n",
       "\t<dt>6</dt>\n",
       "\t\t<dd><span style=white-space:pre-wrap>'Max.   :168.00  '</span></dd>\n",
       "\t<dt>7</dt>\n",
       "\t\t<dd><span style=white-space:pre-wrap>'NA\\'s   :37  '</span></dd>\n",
       "</dl>\n"
      ],
      "text/latex": [
       "\\begin{description*}\n",
       "\\item[1] 'Min.   :  1.00  '\n",
       "\\item[2] '1st Qu.: 18.00  '\n",
       "\\item[3] 'Median : 31.50  '\n",
       "\\item[4] 'Mean   : 42.13  '\n",
       "\\item[5] '3rd Qu.: 63.25  '\n",
       "\\item[6] 'Max.   :168.00  '\n",
       "\\item[7] 'NA\\textbackslash{}'s   :37  '\n",
       "\\end{description*}\n"
      ],
      "text/markdown": [
       "1\n",
       ":   <span style=white-space:pre-wrap>'Min.   :  1.00  '</span>2\n",
       ":   <span style=white-space:pre-wrap>'1st Qu.: 18.00  '</span>3\n",
       ":   <span style=white-space:pre-wrap>'Median : 31.50  '</span>4\n",
       ":   <span style=white-space:pre-wrap>'Mean   : 42.13  '</span>5\n",
       ":   <span style=white-space:pre-wrap>'3rd Qu.: 63.25  '</span>6\n",
       ":   <span style=white-space:pre-wrap>'Max.   :168.00  '</span>7\n",
       ":   <span style=white-space:pre-wrap>'NA\\'s   :37  '</span>\n",
       "\n"
      ],
      "text/plain": [
       "                                                                            \n",
       "\"Min.   :  1.00  \" \"1st Qu.: 18.00  \" \"Median : 31.50  \" \"Mean   : 42.13  \" \n",
       "                                                         \n",
       "\"3rd Qu.: 63.25  \" \"Max.   :168.00  \"     \"NA's   :37  \" "
      ]
     },
     "metadata": {},
     "output_type": "display_data"
    }
   ],
   "source": [
    "quar[, 1] # 첫번째 열, Ozone"
   ]
  },
  {
   "cell_type": "code",
   "execution_count": 74,
   "metadata": {},
   "outputs": [
    {
     "data": {
      "text/html": [
       "<ol class=list-inline>\n",
       "\t<li>1</li>\n",
       "\t<li>18</li>\n",
       "\t<li>31.5</li>\n",
       "\t<li>63.5</li>\n",
       "\t<li>122</li>\n",
       "</ol>\n"
      ],
      "text/latex": [
       "\\begin{enumerate*}\n",
       "\\item 1\n",
       "\\item 18\n",
       "\\item 31.5\n",
       "\\item 63.5\n",
       "\\item 122\n",
       "\\end{enumerate*}\n"
      ],
      "text/markdown": [
       "1. 1\n",
       "2. 18\n",
       "3. 31.5\n",
       "4. 63.5\n",
       "5. 122\n",
       "\n",
       "\n"
      ],
      "text/plain": [
       "      [,1]\n",
       "[1,]   1.0\n",
       "[2,]  18.0\n",
       "[3,]  31.5\n",
       "[4,]  63.5\n",
       "[5,] 122.0\n",
       "attr(,\"class\")\n",
       "        1 \n",
       "\"integer\" "
      ]
     },
     "metadata": {},
     "output_type": "display_data"
    },
    {
     "data": {
      "image/png": "[encoded data removed]",
      "text/plain": [
       "plot without title"
      ]
     },
     "metadata": {},
     "output_type": "display_data"
    }
   ],
   "source": [
    "boxplot(airquality$Ozone)$stats"
   ]
  },
  {
   "cell_type": "code",
   "execution_count": 75,
   "metadata": {},
   "outputs": [
    {
     "data": {
      "text/html": [
       "<ol class=list-inline>\n",
       "\t<li>1</li>\n",
       "\t<li>18</li>\n",
       "\t<li>31.5</li>\n",
       "\t<li>63.5</li>\n",
       "\t<li>122</li>\n",
       "</ol>\n"
      ],
      "text/latex": [
       "\\begin{enumerate*}\n",
       "\\item 1\n",
       "\\item 18\n",
       "\\item 31.5\n",
       "\\item 63.5\n",
       "\\item 122\n",
       "\\end{enumerate*}\n"
      ],
      "text/markdown": [
       "1. 1\n",
       "2. 18\n",
       "3. 31.5\n",
       "4. 63.5\n",
       "5. 122\n",
       "\n",
       "\n"
      ],
      "text/plain": [
       "      [,1]\n",
       "[1,]   1.0\n",
       "[2,]  18.0\n",
       "[3,]  31.5\n",
       "[4,]  63.5\n",
       "[5,] 122.0\n",
       "attr(,\"class\")\n",
       "        1 \n",
       "\"integer\" "
      ]
     },
     "metadata": {},
     "output_type": "display_data"
    },
    {
     "data": {
      "image/png": "[encoded data removed]",
      "text/plain": [
       "plot without title"
      ]
     },
     "metadata": {},
     "output_type": "display_data"
    }
   ],
   "source": [
    "boxplot(airquality$Ozone)$stats"
   ]
  },
  {
   "cell_type": "code",
   "execution_count": 78,
   "metadata": {},
   "outputs": [
    {
     "data": {
      "text/html": [
       "<table>\n",
       "<tbody>\n",
       "\t<tr><td>  1.0</td><td>  7  </td><td> 1.7 </td><td>56   </td></tr>\n",
       "\t<tr><td> 18.0</td><td>115  </td><td> 7.4 </td><td>72   </td></tr>\n",
       "\t<tr><td> 31.5</td><td>205  </td><td> 9.7 </td><td>79   </td></tr>\n",
       "\t<tr><td> 63.5</td><td>259  </td><td>11.5 </td><td>85   </td></tr>\n",
       "\t<tr><td>122.0</td><td>334  </td><td>16.6 </td><td>97   </td></tr>\n",
       "</tbody>\n",
       "</table>\n"
      ],
      "text/latex": [
       "\\begin{tabular}{llll}\n",
       "\t   1.0 &   7   &  1.7  & 56   \\\\\n",
       "\t  18.0 & 115   &  7.4  & 72   \\\\\n",
       "\t  31.5 & 205   &  9.7  & 79   \\\\\n",
       "\t  63.5 & 259   & 11.5  & 85   \\\\\n",
       "\t 122.0 & 334   & 16.6  & 97   \\\\\n",
       "\\end{tabular}\n"
      ],
      "text/markdown": [
       "\n",
       "|   1.0 |   7   |  1.7  | 56    |\n",
       "|  18.0 | 115   |  7.4  | 72    |\n",
       "|  31.5 | 205   |  9.7  | 79    |\n",
       "|  63.5 | 259   | 11.5  | 85    |\n",
       "| 122.0 | 334   | 16.6  | 97    |\n",
       "\n"
      ],
      "text/plain": [
       "     [,1]  [,2] [,3] [,4]\n",
       "[1,]   1.0   7   1.7 56  \n",
       "[2,]  18.0 115   7.4 72  \n",
       "[3,]  31.5 205   9.7 79  \n",
       "[4,]  63.5 259  11.5 85  \n",
       "[5,] 122.0 334  16.6 97  "
      ]
     },
     "metadata": {},
     "output_type": "display_data"
    },
    {
     "data": {
      "image/png": "[encoded data removed]",
      "text/plain": [
       "plot without title"
      ]
     },
     "metadata": {},
     "output_type": "display_data"
    }
   ],
   "source": [
    "boxplot(airquality[,c(1:4)])$stats\n",
    "#최소값, 1분위 값(25%), 중앙값, 3분위 값(75%), 최대값"
   ]
  },
  {
   "cell_type": "code",
   "execution_count": 80,
   "metadata": {},
   "outputs": [
    {
     "data": {
      "text/html": [
       "45.25"
      ],
      "text/latex": [
       "45.25"
      ],
      "text/markdown": [
       "45.25"
      ],
      "text/plain": [
       "[1] 45.25"
      ]
     },
     "metadata": {},
     "output_type": "display_data"
    }
   ],
   "source": [
    "# 3사분위 수에서  1사분위 수를 뺀 값을 IQR 이라고 한다.\n",
    "IQR(airquality$Ozone, na.rm = T) # na 값이 있으면 계산이 안된다."
   ]
  },
  {
   "cell_type": "code",
   "execution_count": 83,
   "metadata": {},
   "outputs": [
    {
     "data": {
      "text/html": [
       "15"
      ],
      "text/latex": [
       "15"
      ],
      "text/markdown": [
       "15"
      ],
      "text/plain": [
       "[1] 15"
      ]
     },
     "metadata": {},
     "output_type": "display_data"
    }
   ],
   "source": [
    "IQR(airquality$Day, na.rm = T)"
   ]
  },
  {
   "cell_type": "code",
   "execution_count": 84,
   "metadata": {},
   "outputs": [],
   "source": [
    "df <- read.table(file=\"Pre_Season_Batter.csv\" , sep = \",\" , header = TRUE)"
   ]
  },
  {
   "cell_type": "code",
   "execution_count": 85,
   "metadata": {},
   "outputs": [
    {
     "data": {
      "text/plain": [
       "   batter_id      batter_name        year           team          avg     \n",
       " Min.   :  0.0   박용택 :  17   Min.   :2002   두산   :186   0      :142  \n",
       " 1st Qu.: 99.0   이진영 :  17   1st Qu.:2010   LG     :174   0.25   : 81  \n",
       " Median :178.0   정성훈 :  17   Median :2014   SK     :169   0.333  : 68  \n",
       " Mean   :173.4   김강민 :  16   Mean   :2013   롯데   :166   0.2    : 62  \n",
       " 3rd Qu.:254.0   박한이 :  16   3rd Qu.:2017   삼성   :149   0.286  : 37  \n",
       " Max.   :344.0   이범호 :  16   Max.   :2018   KIA    :132   0.167  : 30  \n",
       "                 (Other):1294                  (Other):417   (Other):973  \n",
       "       G                 AB              R               H         \n",
       " Min.   :  1.000   Min.   :  0.0   Min.   : 0.00   Min.   : 0.000  \n",
       " 1st Qu.:  6.000   1st Qu.:  9.0   1st Qu.: 1.00   1st Qu.: 2.000  \n",
       " Median :  9.000   Median : 18.0   Median : 2.00   Median : 4.000  \n",
       " Mean   :  8.706   Mean   : 19.2   Mean   : 2.68   Mean   : 5.022  \n",
       " 3rd Qu.: 11.000   3rd Qu.: 28.0   3rd Qu.: 4.00   3rd Qu.: 8.000  \n",
       " Max.   :119.000   Max.   :183.0   Max.   :35.00   Max.   :51.000  \n",
       "                                                                   \n",
       "      X2B               X3B               HR              TB        \n",
       " Min.   : 0.0000   Min.   :0.0000   Min.   :0.000   Min.   : 0.000  \n",
       " 1st Qu.: 0.0000   1st Qu.:0.0000   1st Qu.:0.000   1st Qu.: 2.000  \n",
       " Median : 1.0000   Median :0.0000   Median :0.000   Median : 6.000  \n",
       " Mean   : 0.9548   Mean   :0.1199   Mean   :0.392   Mean   : 7.392  \n",
       " 3rd Qu.: 2.0000   3rd Qu.:0.0000   3rd Qu.:1.000   3rd Qu.:11.000  \n",
       " Max.   :11.0000   Max.   :4.0000   Max.   :5.000   Max.   :68.000  \n",
       "                                                                    \n",
       "      RBI               SB               CS               BB        \n",
       " Min.   : 0.000   Min.   :0.0000   Min.   :0.0000   Min.   : 0.000  \n",
       " 1st Qu.: 0.000   1st Qu.:0.0000   1st Qu.:0.0000   1st Qu.: 0.000  \n",
       " Median : 2.000   Median :0.0000   Median :0.0000   Median : 1.000  \n",
       " Mean   : 2.431   Mean   :0.6296   Mean   :0.2915   Mean   : 1.878  \n",
       " 3rd Qu.: 4.000   3rd Qu.:1.0000   3rd Qu.:0.0000   3rd Qu.: 3.000  \n",
       " Max.   :24.000   Max.   :9.0000   Max.   :4.0000   Max.   :21.000  \n",
       "                                                                    \n",
       "      HBP               SO              GDP              SLG        \n",
       " Min.   :0.0000   Min.   : 0.000   Min.   :0.0000   Min.   :0.0000  \n",
       " 1st Qu.:0.0000   1st Qu.: 1.000   1st Qu.:0.0000   1st Qu.:0.2170  \n",
       " Median :0.0000   Median : 3.000   Median :0.0000   Median :0.3445  \n",
       " Mean   :0.3302   Mean   : 3.714   Mean   :0.4472   Mean   :0.3610  \n",
       " 3rd Qu.:1.0000   3rd Qu.: 5.000   3rd Qu.:1.0000   3rd Qu.:0.4780  \n",
       " Max.   :4.0000   Max.   :36.000   Max.   :5.0000   Max.   :4.0000  \n",
       "                                                    NA's   :29      \n",
       "      OBP               E              height.weight             year_born   \n",
       " Min.   :0.0000   Min.   :0.0000   185cm/90kg :  48   1979년 04월 21일:  17  \n",
       " 1st Qu.:0.2500   1st Qu.:0.0000   175cm/75kg :  29   1980년 06월 15일:  17  \n",
       " Median :0.3330   Median :0.0000   183cm/96kg :  26   1980년 06월 27일:  17  \n",
       " Mean   :0.3179   Mean   :0.3819   182cm/85kg :  25   1979년 01월 28일:  16  \n",
       " 3rd Qu.:0.4000   3rd Qu.:1.0000   185cm/102kg:  25   1981년 11월 25일:  16  \n",
       " Max.   :1.0000   Max.   :5.0000   183cm/89kg :  24   1982년 09월 13일:  16  \n",
       " NA's   :25                        (Other)    :1216   (Other)         :1294  \n",
       "             position                                                career    \n",
       " 내야수(우투우타):548   고명초-휘문중-휘문고-고려대                     :  17  \n",
       " 외야수(우투우타):198   군산초-군산남중-군산상고-쌍방울-SK-LG           :  17  \n",
       " 외야수(좌투좌타):169   송정동초-무등중-광주제일고-해태-KIA-현대-우리-LG:  17  \n",
       " 외야수(우투좌타):162   대구수창초-경운중-대구고-한화                   :  16  \n",
       " 포수(우투우타)  :154   본리초-대구중-경북고                            :  16  \n",
       " 내야수(우투좌타):108   초량초-부산중-부산고-동국대                     :  16  \n",
       " (Other)         : 54   (Other)                                         :1294  \n",
       "  starting_salary      OPS        \n",
       "          :214    Min.   :0.0000  \n",
       " 10000만원:154    1st Qu.:0.4720  \n",
       " 6000만원 :100    Median :0.6750  \n",
       " 3000만원 : 86    Mean   :0.6769  \n",
       " 9000만원 : 79    3rd Qu.:0.8670  \n",
       " 5000만원 : 70    Max.   :5.0000  \n",
       " (Other)  :690    NA's   :29      "
      ]
     },
     "metadata": {},
     "output_type": "display_data"
    }
   ],
   "source": [
    "summary(df)"
   ]
  },
  {
   "cell_type": "code",
   "execution_count": 87,
   "metadata": {},
   "outputs": [
    {
     "data": {
      "text/html": [
       "<table>\n",
       "<tbody>\n",
       "\t<tr><td>0.0000</td></tr>\n",
       "\t<tr><td>0.2170</td></tr>\n",
       "\t<tr><td>0.3445</td></tr>\n",
       "\t<tr><td>0.4780</td></tr>\n",
       "\t<tr><td>0.8640</td></tr>\n",
       "</tbody>\n",
       "</table>\n"
      ],
      "text/latex": [
       "\\begin{tabular}{l}\n",
       "\t 0.0000\\\\\n",
       "\t 0.2170\\\\\n",
       "\t 0.3445\\\\\n",
       "\t 0.4780\\\\\n",
       "\t 0.8640\\\\\n",
       "\\end{tabular}\n"
      ],
      "text/markdown": [
       "\n",
       "| 0.0000 |\n",
       "| 0.2170 |\n",
       "| 0.3445 |\n",
       "| 0.4780 |\n",
       "| 0.8640 |\n",
       "\n"
      ],
      "text/plain": [
       "     [,1]  \n",
       "[1,] 0.0000\n",
       "[2,] 0.2170\n",
       "[3,] 0.3445\n",
       "[4,] 0.4780\n",
       "[5,] 0.8640"
      ]
     },
     "metadata": {},
     "output_type": "display_data"
    },
    {
     "data": {
      "image/png": "[encoded data removed]",
      "text/plain": [
       "plot without title"
      ]
     },
     "metadata": {},
     "output_type": "display_data"
    }
   ],
   "source": [
    "boxplot(df$SLG)$stats"
   ]
  },
  {
   "cell_type": "code",
   "execution_count": 89,
   "metadata": {},
   "outputs": [
    {
     "data": {
      "text/html": [
       "<table>\n",
       "<tbody>\n",
       "\t<tr><td>0.063</td></tr>\n",
       "\t<tr><td>0.250</td></tr>\n",
       "\t<tr><td>0.333</td></tr>\n",
       "\t<tr><td>0.400</td></tr>\n",
       "\t<tr><td>0.625</td></tr>\n",
       "</tbody>\n",
       "</table>\n"
      ],
      "text/latex": [
       "\\begin{tabular}{l}\n",
       "\t 0.063\\\\\n",
       "\t 0.250\\\\\n",
       "\t 0.333\\\\\n",
       "\t 0.400\\\\\n",
       "\t 0.625\\\\\n",
       "\\end{tabular}\n"
      ],
      "text/markdown": [
       "\n",
       "| 0.063 |\n",
       "| 0.250 |\n",
       "| 0.333 |\n",
       "| 0.400 |\n",
       "| 0.625 |\n",
       "\n"
      ],
      "text/plain": [
       "     [,1] \n",
       "[1,] 0.063\n",
       "[2,] 0.250\n",
       "[3,] 0.333\n",
       "[4,] 0.400\n",
       "[5,] 0.625"
      ]
     },
     "metadata": {},
     "output_type": "display_data"
    },
    {
     "data": {
      "image/png": "[encoded data removed]",
      "text/plain": [
       "plot without title"
      ]
     },
     "metadata": {},
     "output_type": "display_data"
    }
   ],
   "source": [
    "boxplot(df$OBP)$stats"
   ]
  },
  {
   "cell_type": "code",
   "execution_count": 92,
   "metadata": {},
   "outputs": [
    {
     "data": {
      "text/html": [
       "<ol class=list-inline>\n",
       "\t<li>1</li>\n",
       "\t<li>6</li>\n",
       "\t<li>9</li>\n",
       "\t<li>11</li>\n",
       "\t<li>17</li>\n",
       "\t<li>0</li>\n",
       "\t<li>9</li>\n",
       "\t<li>18</li>\n",
       "\t<li>28</li>\n",
       "\t<li>56</li>\n",
       "\t<li>0</li>\n",
       "\t<li>1</li>\n",
       "\t<li>2</li>\n",
       "\t<li>4</li>\n",
       "\t<li>8</li>\n",
       "\t<li>0</li>\n",
       "\t<li>2</li>\n",
       "\t<li>4</li>\n",
       "\t<li>8</li>\n",
       "\t<li>17</li>\n",
       "\t<li>0</li>\n",
       "\t<li>0</li>\n",
       "\t<li>1</li>\n",
       "\t<li>2</li>\n",
       "\t<li>5</li>\n",
       "\t<li>0</li>\n",
       "\t<li>0</li>\n",
       "\t<li>0</li>\n",
       "\t<li>0</li>\n",
       "\t<li>0</li>\n",
       "\t<li>0</li>\n",
       "\t<li>0</li>\n",
       "\t<li>0</li>\n",
       "\t<li>1</li>\n",
       "\t<li>2</li>\n",
       "\t<li>0</li>\n",
       "\t<li>2</li>\n",
       "\t<li>6</li>\n",
       "\t<li>11</li>\n",
       "\t<li>24</li>\n",
       "\t<li>0</li>\n",
       "\t<li>0</li>\n",
       "\t<li>2</li>\n",
       "\t<li>4</li>\n",
       "\t<li>10</li>\n",
       "</ol>\n"
      ],
      "text/latex": [
       "\\begin{enumerate*}\n",
       "\\item 1\n",
       "\\item 6\n",
       "\\item 9\n",
       "\\item 11\n",
       "\\item 17\n",
       "\\item 0\n",
       "\\item 9\n",
       "\\item 18\n",
       "\\item 28\n",
       "\\item 56\n",
       "\\item 0\n",
       "\\item 1\n",
       "\\item 2\n",
       "\\item 4\n",
       "\\item 8\n",
       "\\item 0\n",
       "\\item 2\n",
       "\\item 4\n",
       "\\item 8\n",
       "\\item 17\n",
       "\\item 0\n",
       "\\item 0\n",
       "\\item 1\n",
       "\\item 2\n",
       "\\item 5\n",
       "\\item 0\n",
       "\\item 0\n",
       "\\item 0\n",
       "\\item 0\n",
       "\\item 0\n",
       "\\item 0\n",
       "\\item 0\n",
       "\\item 0\n",
       "\\item 1\n",
       "\\item 2\n",
       "\\item 0\n",
       "\\item 2\n",
       "\\item 6\n",
       "\\item 11\n",
       "\\item 24\n",
       "\\item 0\n",
       "\\item 0\n",
       "\\item 2\n",
       "\\item 4\n",
       "\\item 10\n",
       "\\end{enumerate*}\n"
      ],
      "text/markdown": [
       "1. 1\n",
       "2. 6\n",
       "3. 9\n",
       "4. 11\n",
       "5. 17\n",
       "6. 0\n",
       "7. 9\n",
       "8. 18\n",
       "9. 28\n",
       "10. 56\n",
       "11. 0\n",
       "12. 1\n",
       "13. 2\n",
       "14. 4\n",
       "15. 8\n",
       "16. 0\n",
       "17. 2\n",
       "18. 4\n",
       "19. 8\n",
       "20. 17\n",
       "21. 0\n",
       "22. 0\n",
       "23. 1\n",
       "24. 2\n",
       "25. 5\n",
       "26. 0\n",
       "27. 0\n",
       "28. 0\n",
       "29. 0\n",
       "30. 0\n",
       "31. 0\n",
       "32. 0\n",
       "33. 0\n",
       "34. 1\n",
       "35. 2\n",
       "36. 0\n",
       "37. 2\n",
       "38. 6\n",
       "39. 11\n",
       "40. 24\n",
       "41. 0\n",
       "42. 0\n",
       "43. 2\n",
       "44. 4\n",
       "45. 10\n",
       "\n",
       "\n"
      ],
      "text/plain": [
       "     [,1] [,2] [,3] [,4] [,5] [,6] [,7] [,8] [,9]\n",
       "[1,]    1    0    0    0    0    0    0    0    0\n",
       "[2,]    6    9    1    2    0    0    0    2    0\n",
       "[3,]    9   18    2    4    1    0    0    6    2\n",
       "[4,]   11   28    4    8    2    0    1   11    4\n",
       "[5,]   17   56    8   17    5    0    2   24   10\n",
       "attr(,\"class\")\n",
       "        G \n",
       "\"integer\" "
      ]
     },
     "metadata": {},
     "output_type": "display_data"
    },
    {
     "data": {
      "image/png": "[encoded data removed]",
      "text/plain": [
       "plot without title"
      ]
     },
     "metadata": {},
     "output_type": "display_data"
    }
   ],
   "source": [
    "boxplot(df[,6:14])$stats"
   ]
  },
  {
   "cell_type": "markdown",
   "metadata": {},
   "source": [
    "#### 모든 열의 IQR구하기!\n",
    " - IQR = Q3 - Q1\n",
    " - 하지만 우리는 이미 존재하는 함수, IQR를 이용한다."
   ]
  },
  {
   "cell_type": "code",
   "execution_count": 98,
   "metadata": {},
   "outputs": [],
   "source": [
    "IQRs <- function(df){\n",
    "    iqrs <- lapply(X=df, function(col){\n",
    "        return_value <- NULL\n",
    "        if(class(col) !='character'){\n",
    "        return_value <- IQR(col, na.rm = T)\n",
    "    }else{\n",
    "        return_value <- -999\n",
    "    }\n",
    "    return(return_value)\n",
    "    })\n",
    "    return(iqrs)\n",
    "}"
   ]
  },
  {
   "cell_type": "markdown",
   "metadata": {},
   "source": [
    "- what is lower and upper fence?\n",
    "- The lower fence(LF) is the \"lower limit\" and the upper fence is the \"upper limit\"<br>\n",
    "   of data, and any data lying outside this defined bouds can be considered and outlier(이상치).<br>\n",
    "  LF = Q1 - 1.5 * IQR<br>\n",
    "  UF = Q3 + 1.5 * IQR(이상치)\n",
    "  "
   ]
  },
  {
   "cell_type": "code",
   "execution_count": 100,
   "metadata": {},
   "outputs": [
    {
     "data": {
      "text/html": [
       "<table>\n",
       "<thead><tr><th scope=col>batter_id</th><th scope=col>batter_name</th><th scope=col>year</th><th scope=col>team</th><th scope=col>avg</th><th scope=col>G</th><th scope=col>AB</th><th scope=col>R</th><th scope=col>H</th><th scope=col>X2B</th><th scope=col>...</th><th scope=col>GDP</th><th scope=col>SLG</th><th scope=col>OBP</th><th scope=col>E</th><th scope=col>height.weight</th><th scope=col>year_born</th><th scope=col>position</th><th scope=col>career</th><th scope=col>starting_salary</th><th scope=col>OPS</th></tr></thead>\n",
       "<tbody>\n",
       "\t<tr><td>155  </td><td>103  </td><td>7    </td><td>5    </td><td>86   </td><td>5    </td><td>19   </td><td>3    </td><td>6    </td><td>2    </td><td>...  </td><td>1    </td><td>0.261</td><td>0.15 </td><td>1    </td><td>82   </td><td>99   </td><td>5    </td><td>119  </td><td>22   </td><td>0.395</td></tr>\n",
       "</tbody>\n",
       "</table>\n"
      ],
      "text/latex": [
       "\\begin{tabular}{r|lllllllllllllllllllllllllllll}\n",
       " batter\\_id & batter\\_name & year & team & avg & G & AB & R & H & X2B & ... & GDP & SLG & OBP & E & height.weight & year\\_born & position & career & starting\\_salary & OPS\\\\\n",
       "\\hline\n",
       "\t 155   & 103   & 7     & 5     & 86    & 5     & 19    & 3     & 6     & 2     & ...   & 1     & 0.261 & 0.15  & 1     & 82    & 99    & 5     & 119   & 22    & 0.395\\\\\n",
       "\\end{tabular}\n"
      ],
      "text/markdown": [
       "\n",
       "| batter_id | batter_name | year | team | avg | G | AB | R | H | X2B | ... | GDP | SLG | OBP | E | height.weight | year_born | position | career | starting_salary | OPS |\n",
       "|---|---|---|---|---|---|---|---|---|---|---|---|---|---|---|---|---|---|---|---|---|\n",
       "| 155   | 103   | 7     | 5     | 86    | 5     | 19    | 3     | 6     | 2     | ...   | 1     | 0.261 | 0.15  | 1     | 82    | 99    | 5     | 119   | 22    | 0.395 |\n",
       "\n"
      ],
      "text/plain": [
       "  batter_id batter_name year team avg G AB R H X2B ... GDP SLG   OBP  E\n",
       "1 155       103         7    5    86  5 19 3 6 2   ... 1   0.261 0.15 1\n",
       "  height.weight year_born position career starting_salary OPS  \n",
       "1 82            99        5        119    22              0.395"
      ]
     },
     "metadata": {},
     "output_type": "display_data"
    }
   ],
   "source": [
    "IQRs(df)  %>% bind_cols()"
   ]
  },
  {
   "cell_type": "code",
   "execution_count": null,
   "metadata": {},
   "outputs": [],
   "source": []
  },
  {
   "cell_type": "code",
   "execution_count": null,
   "metadata": {},
   "outputs": [],
   "source": []
  }
 ],
 "metadata": {
  "kernelspec": {
   "display_name": "R",
   "language": "R",
   "name": "ir"
  },
  "language_info": {
   "codemirror_mode": "r",
   "file_extension": ".r",
   "mimetype": "text/x-r-source",
   "name": "R",
   "pygments_lexer": "r",
   "version": "3.6.1"
  }
 },
 "nbformat": 4,
 "nbformat_minor": 4
}
