{
 "cells": [
  {
   "cell_type": "markdown",
   "metadata": {},
   "source": []
  },
  {
   "cell_type": "code",
   "execution_count": 1,
   "metadata": {},
   "outputs": [
    {
     "data": {
      "text/html": [
       "'C:/Users/uskaw/R프로그래밍 실습'"
      ],
      "text/latex": [
       "'C:/Users/uskaw/R프로그래밍 실습'"
      ],
      "text/markdown": [
       "'C:/Users/uskaw/R프로그래밍 실습'"
      ],
      "text/plain": [
       "[1] \"C:/Users/uskaw/R프로그래밍 실습\""
      ]
     },
     "metadata": {},
     "output_type": "display_data"
    }
   ],
   "source": [
    "getwd() # 현재 작업하고 있는 디렉토리 확인"
   ]
  },
  {
   "cell_type": "code",
   "execution_count": 3,
   "metadata": {},
   "outputs": [],
   "source": [
    "setwd('C:/Users/uskaw/R프로그래밍 실습')# 디렉토리 변경(한글로 된 디렉토리는 인식을 못함)"
   ]
  },
  {
   "cell_type": "markdown",
   "metadata": {},
   "source": [
    "#### base의 read.table , read.csv\n",
    "- file : 읽어올 csv, text 파일\n",
    "- header : 기본값을 True로 첫 줄을 변수면으로 읽을 것인지 결정\n",
    "- sep : 기본값은 콤마(,)로 열을 구분하는 기호를 전달\n",
    "- quote : 기본값은 큰따음표(\")로 각 열을 감싸는 문자 지정.\n",
    "- fill : 기본값은 TRUE 로 행 별로 열의 길이가 다를 때는 FALSE를 사용\n",
    "\n"
   ]
  },
  {
   "cell_type": "code",
   "execution_count": 9,
   "metadata": {},
   "outputs": [],
   "source": [
    "df = read.csv(\"feeds (10).csv\", header=T)"
   ]
  },
  {
   "cell_type": "code",
   "execution_count": 10,
   "metadata": {},
   "outputs": [
    {
     "data": {
      "text/html": [
       "'data.frame'"
      ],
      "text/latex": [
       "'data.frame'"
      ],
      "text/markdown": [
       "'data.frame'"
      ],
      "text/plain": [
       "[1] \"data.frame\""
      ]
     },
     "metadata": {},
     "output_type": "display_data"
    }
   ],
   "source": [
    "class(df)"
   ]
  },
  {
   "cell_type": "code",
   "execution_count": 11,
   "metadata": {},
   "outputs": [
    {
     "name": "stdout",
     "output_type": "stream",
     "text": [
      "'data.frame':\t18046 obs. of  6 variables:\n",
      " $ created_at: Factor w/ 18046 levels \"2021-03-12 14:24:34 KST\",..: 1 2 3 4 5 6 7 8 9 10 ...\n",
      " $ entry_id  : int  1 2 3 4 5 6 7 8 9 10 ...\n",
      " $ field1    : int  1 1 0 0 2 1 1 0 0 0 ...\n",
      " $ field2    : num  215 215 215 215 215 ...\n",
      " $ field3    : num  24.3 23.9 23.6 23.3 23.1 22.9 22.8 22.7 22.6 22.5 ...\n",
      " $ field4    : num  33.6 32 33.7 34 34.4 34.7 34.8 35 35.2 35.3 ...\n"
     ]
    }
   ],
   "source": [
    "str(df)"
   ]
  },
  {
   "cell_type": "code",
   "execution_count": 49,
   "metadata": {},
   "outputs": [
    {
     "data": {
      "text/html": [
       "<table>\n",
       "<thead><tr><th scope=col>created_at</th><th scope=col>entry_id</th><th scope=col>field1</th><th scope=col>field2</th><th scope=col>field3</th><th scope=col>field4</th></tr></thead>\n",
       "<tbody>\n",
       "</tbody>\n",
       "</table>\n"
      ],
      "text/latex": [
       "\\begin{tabular}{r|llllll}\n",
       " created\\_at & entry\\_id & field1 & field2 & field3 & field4\\\\\n",
       "\\hline\n",
       "\\end{tabular}\n"
      ],
      "text/markdown": [
       "\n",
       "| created_at | entry_id | field1 | field2 | field3 | field4 |\n",
       "|---|---|---|---|---|---|\n",
       "\n"
      ],
      "text/plain": [
       "     created_at entry_id field1 field2 field3 field4"
      ]
     },
     "metadata": {},
     "output_type": "display_data"
    }
   ],
   "source": [
    "df[(df$entry_id > 100) && (df$entry_id < 200) , ]"
   ]
  },
  {
   "cell_type": "code",
   "execution_count": 92,
   "metadata": {},
   "outputs": [
    {
     "name": "stderr",
     "output_type": "stream",
     "text": [
      "Warning message:\n",
      "\"package 'tidyverse' was built under R version 3.6.3\"-- Attaching packages --------------------------------------- tidyverse 1.3.0 --\n",
      "√ ggplot2 3.3.3     √ purrr   0.3.4\n",
      "√ tibble  3.1.0     √ dplyr   1.0.5\n",
      "√ tidyr   1.1.3     √ stringr 1.4.0\n",
      "√ readr   1.3.1     √ forcats 0.4.0\n",
      "Warning message:\n",
      "\"package 'ggplot2' was built under R version 3.6.3\"Warning message:\n",
      "\"package 'tibble' was built under R version 3.6.3\"Warning message:\n",
      "\"package 'tidyr' was built under R version 3.6.3\"Warning message:\n",
      "\"package 'purrr' was built under R version 3.6.3\"Warning message:\n",
      "\"package 'dplyr' was built under R version 3.6.3\"-- Conflicts ------------------------------------------ tidyverse_conflicts() --\n",
      "x dplyr::filter() masks stats::filter()\n",
      "x dplyr::lag()    masks stats::lag()\n"
     ]
    }
   ],
   "source": [
    "library(tidyverse)"
   ]
  },
  {
   "cell_type": "code",
   "execution_count": 103,
   "metadata": {},
   "outputs": [
    {
     "data": {
      "text/html": [
       "<ol class=list-inline>\n",
       "\t<li>'인사부'</li>\n",
       "\t<li>'총무부'</li>\n",
       "\t<li>'총무부'</li>\n",
       "</ol>\n"
      ],
      "text/latex": [
       "\\begin{enumerate*}\n",
       "\\item '인사부'\n",
       "\\item '총무부'\n",
       "\\item '총무부'\n",
       "\\end{enumerate*}\n"
      ],
      "text/markdown": [
       "1. '인사부'\n",
       "2. '총무부'\n",
       "3. '총무부'\n",
       "\n",
       "\n"
      ],
      "text/plain": [
       "[1] \"인사부\" \"총무부\" \"총무부\""
      ]
     },
     "metadata": {},
     "output_type": "display_data"
    }
   ],
   "source": [
    "vec1 <- c(10, 20, 30)\n",
    "lapply(X = vec1, FUN = function(value){\n",
    "    reutrn_value <- NULL\n",
    "    if(value == 10){\n",
    "        return_value <- \"인사부\"\n",
    "    }else{\n",
    "        return_value <- \"총무부\"\n",
    "    } \n",
    "}) %>% unlist() # library(tidyverse) 후에 %>% 연산자를 쓸 수가 있다. unlist(lapply())  리스트가 아닌 값을 출력"
   ]
  },
  {
   "cell_type": "code",
   "execution_count": 113,
   "metadata": {},
   "outputs": [
    {
     "data": {
      "text/html": [
       "<ol>\n",
       "\t<li>'인사부'</li>\n",
       "\t<li>'총무부'</li>\n",
       "\t<li>'총무부'</li>\n",
       "</ol>\n"
      ],
      "text/latex": [
       "\\begin{enumerate}\n",
       "\\item '인사부'\n",
       "\\item '총무부'\n",
       "\\item '총무부'\n",
       "\\end{enumerate}\n"
      ],
      "text/markdown": [
       "1. '인사부'\n",
       "2. '총무부'\n",
       "3. '총무부'\n",
       "\n",
       "\n"
      ],
      "text/plain": [
       "[[1]]\n",
       "[1] \"인사부\"\n",
       "\n",
       "[[2]]\n",
       "[1] \"총무부\"\n",
       "\n",
       "[[3]]\n",
       "[1] \"총무부\"\n"
      ]
     },
     "metadata": {},
     "output_type": "display_data"
    }
   ],
   "source": [
    "vec1 %>% lapply(X  = ., FUN = function(value){ # . 을 이용해 함수에 인자를  넣을 수 있다.\n",
    "    reutrn_value <- NULL\n",
    "    if(value == 10){\n",
    "        return_value <- \"인사부\"\n",
    "    }else{\n",
    "        return_value <- \"총무부\"\n",
    "    } \n",
    "})"
   ]
  },
  {
   "cell_type": "code",
   "execution_count": 116,
   "metadata": {},
   "outputs": [
    {
     "data": {
      "text/html": [
       "<table>\n",
       "<thead><tr><th scope=col>speed</th><th scope=col>dist</th><th scope=col>new2</th></tr></thead>\n",
       "<tbody>\n",
       "\t<tr><td> 4         </td><td>  2        </td><td>가깝다..(?)</td></tr>\n",
       "\t<tr><td> 4         </td><td> 10        </td><td>가깝다..(?)</td></tr>\n",
       "\t<tr><td> 7         </td><td>  4        </td><td>가깝다..(?)</td></tr>\n",
       "\t<tr><td> 7         </td><td> 22        </td><td>가깝다..(?)</td></tr>\n",
       "\t<tr><td> 8         </td><td> 16        </td><td>가깝다..(?)</td></tr>\n",
       "\t<tr><td> 9         </td><td> 10        </td><td>가깝다..(?)</td></tr>\n",
       "\t<tr><td>10         </td><td> 18        </td><td>가깝다..(?)</td></tr>\n",
       "\t<tr><td>10         </td><td> 26        </td><td>가깝다..(?)</td></tr>\n",
       "\t<tr><td>10         </td><td> 34        </td><td>가깝다..(?)</td></tr>\n",
       "\t<tr><td>11         </td><td> 17        </td><td>가깝다..(?)</td></tr>\n",
       "\t<tr><td>11         </td><td> 28        </td><td>가깝다..(?)</td></tr>\n",
       "\t<tr><td>12         </td><td> 14        </td><td>가깝다..(?)</td></tr>\n",
       "\t<tr><td>12         </td><td> 20        </td><td>가깝다..(?)</td></tr>\n",
       "\t<tr><td>12         </td><td> 24        </td><td>가깝다..(?)</td></tr>\n",
       "\t<tr><td>12         </td><td> 28        </td><td>가깝다..(?)</td></tr>\n",
       "\t<tr><td>13         </td><td> 26        </td><td>가깝다..(?)</td></tr>\n",
       "\t<tr><td>13         </td><td> 34        </td><td>가깝다..(?)</td></tr>\n",
       "\t<tr><td>13         </td><td> 34        </td><td>가깝다..(?)</td></tr>\n",
       "\t<tr><td>13         </td><td> 46        </td><td>멀다       </td></tr>\n",
       "\t<tr><td>14         </td><td> 26        </td><td>가깝다..(?)</td></tr>\n",
       "\t<tr><td>14         </td><td> 36        </td><td>가깝다..(?)</td></tr>\n",
       "\t<tr><td>14         </td><td> 60        </td><td>멀다       </td></tr>\n",
       "\t<tr><td>14         </td><td> 80        </td><td>멀다       </td></tr>\n",
       "\t<tr><td>15         </td><td> 20        </td><td>가깝다..(?)</td></tr>\n",
       "\t<tr><td>15         </td><td> 26        </td><td>가깝다..(?)</td></tr>\n",
       "\t<tr><td>15         </td><td> 54        </td><td>멀다       </td></tr>\n",
       "\t<tr><td>16         </td><td> 32        </td><td>가깝다..(?)</td></tr>\n",
       "\t<tr><td>16         </td><td> 40        </td><td>가깝다..(?)</td></tr>\n",
       "\t<tr><td>17         </td><td> 32        </td><td>가깝다..(?)</td></tr>\n",
       "\t<tr><td>17         </td><td> 40        </td><td>가깝다..(?)</td></tr>\n",
       "\t<tr><td>17         </td><td> 50        </td><td>멀다       </td></tr>\n",
       "\t<tr><td>18         </td><td> 42        </td><td>가깝다..(?)</td></tr>\n",
       "\t<tr><td>18         </td><td> 56        </td><td>멀다       </td></tr>\n",
       "\t<tr><td>18         </td><td> 76        </td><td>멀다       </td></tr>\n",
       "\t<tr><td>18         </td><td> 84        </td><td>멀다       </td></tr>\n",
       "\t<tr><td>19         </td><td> 36        </td><td>가깝다..(?)</td></tr>\n",
       "\t<tr><td>19         </td><td> 46        </td><td>멀다       </td></tr>\n",
       "\t<tr><td>19         </td><td> 68        </td><td>멀다       </td></tr>\n",
       "\t<tr><td>20         </td><td> 32        </td><td>가깝다..(?)</td></tr>\n",
       "\t<tr><td>20         </td><td> 48        </td><td>멀다       </td></tr>\n",
       "\t<tr><td>20         </td><td> 52        </td><td>멀다       </td></tr>\n",
       "\t<tr><td>20         </td><td> 56        </td><td>멀다       </td></tr>\n",
       "\t<tr><td>20         </td><td> 64        </td><td>멀다       </td></tr>\n",
       "\t<tr><td>22         </td><td> 66        </td><td>멀다       </td></tr>\n",
       "\t<tr><td>23         </td><td> 54        </td><td>멀다       </td></tr>\n",
       "\t<tr><td>24         </td><td> 70        </td><td>멀다       </td></tr>\n",
       "\t<tr><td>24         </td><td> 92        </td><td>멀다       </td></tr>\n",
       "\t<tr><td>24         </td><td> 93        </td><td>멀다       </td></tr>\n",
       "\t<tr><td>24         </td><td>120        </td><td>멀다       </td></tr>\n",
       "\t<tr><td>25         </td><td> 85        </td><td>멀다       </td></tr>\n",
       "</tbody>\n",
       "</table>\n"
      ],
      "text/latex": [
       "\\begin{tabular}{r|lll}\n",
       " speed & dist & new2\\\\\n",
       "\\hline\n",
       "\t  4          &   2         & 가깝다..(?)\\\\\n",
       "\t  4          &  10         & 가깝다..(?)\\\\\n",
       "\t  7          &   4         & 가깝다..(?)\\\\\n",
       "\t  7          &  22         & 가깝다..(?)\\\\\n",
       "\t  8          &  16         & 가깝다..(?)\\\\\n",
       "\t  9          &  10         & 가깝다..(?)\\\\\n",
       "\t 10          &  18         & 가깝다..(?)\\\\\n",
       "\t 10          &  26         & 가깝다..(?)\\\\\n",
       "\t 10          &  34         & 가깝다..(?)\\\\\n",
       "\t 11          &  17         & 가깝다..(?)\\\\\n",
       "\t 11          &  28         & 가깝다..(?)\\\\\n",
       "\t 12          &  14         & 가깝다..(?)\\\\\n",
       "\t 12          &  20         & 가깝다..(?)\\\\\n",
       "\t 12          &  24         & 가깝다..(?)\\\\\n",
       "\t 12          &  28         & 가깝다..(?)\\\\\n",
       "\t 13          &  26         & 가깝다..(?)\\\\\n",
       "\t 13          &  34         & 가깝다..(?)\\\\\n",
       "\t 13          &  34         & 가깝다..(?)\\\\\n",
       "\t 13          &  46         & 멀다       \\\\\n",
       "\t 14          &  26         & 가깝다..(?)\\\\\n",
       "\t 14          &  36         & 가깝다..(?)\\\\\n",
       "\t 14          &  60         & 멀다       \\\\\n",
       "\t 14          &  80         & 멀다       \\\\\n",
       "\t 15          &  20         & 가깝다..(?)\\\\\n",
       "\t 15          &  26         & 가깝다..(?)\\\\\n",
       "\t 15          &  54         & 멀다       \\\\\n",
       "\t 16          &  32         & 가깝다..(?)\\\\\n",
       "\t 16          &  40         & 가깝다..(?)\\\\\n",
       "\t 17          &  32         & 가깝다..(?)\\\\\n",
       "\t 17          &  40         & 가깝다..(?)\\\\\n",
       "\t 17          &  50         & 멀다       \\\\\n",
       "\t 18          &  42         & 가깝다..(?)\\\\\n",
       "\t 18          &  56         & 멀다       \\\\\n",
       "\t 18          &  76         & 멀다       \\\\\n",
       "\t 18          &  84         & 멀다       \\\\\n",
       "\t 19          &  36         & 가깝다..(?)\\\\\n",
       "\t 19          &  46         & 멀다       \\\\\n",
       "\t 19          &  68         & 멀다       \\\\\n",
       "\t 20          &  32         & 가깝다..(?)\\\\\n",
       "\t 20          &  48         & 멀다       \\\\\n",
       "\t 20          &  52         & 멀다       \\\\\n",
       "\t 20          &  56         & 멀다       \\\\\n",
       "\t 20          &  64         & 멀다       \\\\\n",
       "\t 22          &  66         & 멀다       \\\\\n",
       "\t 23          &  54         & 멀다       \\\\\n",
       "\t 24          &  70         & 멀다       \\\\\n",
       "\t 24          &  92         & 멀다       \\\\\n",
       "\t 24          &  93         & 멀다       \\\\\n",
       "\t 24          & 120         & 멀다       \\\\\n",
       "\t 25          &  85         & 멀다       \\\\\n",
       "\\end{tabular}\n"
      ],
      "text/markdown": [
       "\n",
       "| speed | dist | new2 |\n",
       "|---|---|---|\n",
       "|  4          |   2         | 가깝다..(?) |\n",
       "|  4          |  10         | 가깝다..(?) |\n",
       "|  7          |   4         | 가깝다..(?) |\n",
       "|  7          |  22         | 가깝다..(?) |\n",
       "|  8          |  16         | 가깝다..(?) |\n",
       "|  9          |  10         | 가깝다..(?) |\n",
       "| 10          |  18         | 가깝다..(?) |\n",
       "| 10          |  26         | 가깝다..(?) |\n",
       "| 10          |  34         | 가깝다..(?) |\n",
       "| 11          |  17         | 가깝다..(?) |\n",
       "| 11          |  28         | 가깝다..(?) |\n",
       "| 12          |  14         | 가깝다..(?) |\n",
       "| 12          |  20         | 가깝다..(?) |\n",
       "| 12          |  24         | 가깝다..(?) |\n",
       "| 12          |  28         | 가깝다..(?) |\n",
       "| 13          |  26         | 가깝다..(?) |\n",
       "| 13          |  34         | 가깝다..(?) |\n",
       "| 13          |  34         | 가깝다..(?) |\n",
       "| 13          |  46         | 멀다        |\n",
       "| 14          |  26         | 가깝다..(?) |\n",
       "| 14          |  36         | 가깝다..(?) |\n",
       "| 14          |  60         | 멀다        |\n",
       "| 14          |  80         | 멀다        |\n",
       "| 15          |  20         | 가깝다..(?) |\n",
       "| 15          |  26         | 가깝다..(?) |\n",
       "| 15          |  54         | 멀다        |\n",
       "| 16          |  32         | 가깝다..(?) |\n",
       "| 16          |  40         | 가깝다..(?) |\n",
       "| 17          |  32         | 가깝다..(?) |\n",
       "| 17          |  40         | 가깝다..(?) |\n",
       "| 17          |  50         | 멀다        |\n",
       "| 18          |  42         | 가깝다..(?) |\n",
       "| 18          |  56         | 멀다        |\n",
       "| 18          |  76         | 멀다        |\n",
       "| 18          |  84         | 멀다        |\n",
       "| 19          |  36         | 가깝다..(?) |\n",
       "| 19          |  46         | 멀다        |\n",
       "| 19          |  68         | 멀다        |\n",
       "| 20          |  32         | 가깝다..(?) |\n",
       "| 20          |  48         | 멀다        |\n",
       "| 20          |  52         | 멀다        |\n",
       "| 20          |  56         | 멀다        |\n",
       "| 20          |  64         | 멀다        |\n",
       "| 22          |  66         | 멀다        |\n",
       "| 23          |  54         | 멀다        |\n",
       "| 24          |  70         | 멀다        |\n",
       "| 24          |  92         | 멀다        |\n",
       "| 24          |  93         | 멀다        |\n",
       "| 24          | 120         | 멀다        |\n",
       "| 25          |  85         | 멀다        |\n",
       "\n"
      ],
      "text/plain": [
       "   speed dist new2       \n",
       "1   4      2  가깝다..(?)\n",
       "2   4     10  가깝다..(?)\n",
       "3   7      4  가깝다..(?)\n",
       "4   7     22  가깝다..(?)\n",
       "5   8     16  가깝다..(?)\n",
       "6   9     10  가깝다..(?)\n",
       "7  10     18  가깝다..(?)\n",
       "8  10     26  가깝다..(?)\n",
       "9  10     34  가깝다..(?)\n",
       "10 11     17  가깝다..(?)\n",
       "11 11     28  가깝다..(?)\n",
       "12 12     14  가깝다..(?)\n",
       "13 12     20  가깝다..(?)\n",
       "14 12     24  가깝다..(?)\n",
       "15 12     28  가깝다..(?)\n",
       "16 13     26  가깝다..(?)\n",
       "17 13     34  가깝다..(?)\n",
       "18 13     34  가깝다..(?)\n",
       "19 13     46  멀다       \n",
       "20 14     26  가깝다..(?)\n",
       "21 14     36  가깝다..(?)\n",
       "22 14     60  멀다       \n",
       "23 14     80  멀다       \n",
       "24 15     20  가깝다..(?)\n",
       "25 15     26  가깝다..(?)\n",
       "26 15     54  멀다       \n",
       "27 16     32  가깝다..(?)\n",
       "28 16     40  가깝다..(?)\n",
       "29 17     32  가깝다..(?)\n",
       "30 17     40  가깝다..(?)\n",
       "31 17     50  멀다       \n",
       "32 18     42  가깝다..(?)\n",
       "33 18     56  멀다       \n",
       "34 18     76  멀다       \n",
       "35 18     84  멀다       \n",
       "36 19     36  가깝다..(?)\n",
       "37 19     46  멀다       \n",
       "38 19     68  멀다       \n",
       "39 20     32  가깝다..(?)\n",
       "40 20     48  멀다       \n",
       "41 20     52  멀다       \n",
       "42 20     56  멀다       \n",
       "43 20     64  멀다       \n",
       "44 22     66  멀다       \n",
       "45 23     54  멀다       \n",
       "46 24     70  멀다       \n",
       "47 24     92  멀다       \n",
       "48 24     93  멀다       \n",
       "49 24    120  멀다       \n",
       "50 25     85  멀다       "
      ]
     },
     "metadata": {},
     "output_type": "display_data"
    }
   ],
   "source": [
    "cars %>% dplyr::mutate(., new2=ifelse(dist >= 45, \"멀다\", \"가깝다..(?)\")) # dplyr의 mutate를 사용해서 새로운 컬럼을 추가했다."
   ]
  },
  {
   "cell_type": "code",
   "execution_count": 130,
   "metadata": {},
   "outputs": [],
   "source": [
    "i <- 0\n",
    "\n",
    "for(value in df){\n",
    "    \n",
    "}"
   ]
  },
  {
   "cell_type": "code",
   "execution_count": null,
   "metadata": {},
   "outputs": [],
   "source": []
  }
 ],
 "metadata": {
  "kernelspec": {
   "display_name": "R",
   "language": "R",
   "name": "ir"
  },
  "language_info": {
   "codemirror_mode": "r",
   "file_extension": ".r",
   "mimetype": "text/x-r-source",
   "name": "R",
   "pygments_lexer": "r",
   "version": "3.6.1"
  }
 },
 "nbformat": 4,
 "nbformat_minor": 4
}
