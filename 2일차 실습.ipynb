{
 "cells": [
  {
   "cell_type": "code",
   "execution_count": null,
   "metadata": {},
   "outputs": [
    {
     "name": "stderr",
     "output_type": "stream",
     "text": [
      "also installing the dependencies 'processx', 'xfun', 'blob', 'lifecycle', 'vctrs', 'glue', 'tidyselect', 'isoband', 'callr', 'knitr', 'withr', 'ellipsis', 'cpp11', 'dbplyr', 'dplyr', 'ggplot2', 'haven', 'hms', 'httr', 'modelr', 'pillar', 'purrr', 'reprex', 'rlang', 'rvest', 'tibble', 'tidyr', 'xml2'\n",
      "\n"
     ]
    }
   ],
   "source": [
    "# install.packages(\"tidyverse\") # install.packages(\"패키지명\") R 패키지 설치 방법"
   ]
  },
  {
   "cell_type": "code",
   "execution_count": 2,
   "metadata": {},
   "outputs": [
    {
     "name": "stderr",
     "output_type": "stream",
     "text": [
      "Warning message:\n",
      "\"package 'tidyverse' was built under R version 3.6.3\"-- Attaching packages --------------------------------------- tidyverse 1.3.0 --\n",
      "√ ggplot2 3.3.3     √ purrr   0.3.4\n",
      "√ tibble  3.1.0     √ dplyr   1.0.5\n",
      "√ tidyr   1.1.3     √ stringr 1.4.0\n",
      "√ readr   1.3.1     √ forcats 0.4.0\n",
      "Warning message:\n",
      "\"package 'ggplot2' was built under R version 3.6.3\"Warning message:\n",
      "\"package 'tibble' was built under R version 3.6.3\"Warning message:\n",
      "\"package 'tidyr' was built under R version 3.6.3\"Warning message:\n",
      "\"package 'purrr' was built under R version 3.6.3\"Warning message:\n",
      "\"package 'dplyr' was built under R version 3.6.3\"-- Conflicts ------------------------------------------ tidyverse_conflicts() --\n",
      "x dplyr::filter() masks stats::filter()\n",
      "x dplyr::lag()    masks stats::lag()\n"
     ]
    }
   ],
   "source": [
    "library(tidyverse) # 설치된 패키지 실행 tidyverse : 여러가지 패키지들이 모아둔 패키지. "
   ]
  },
  {
   "cell_type": "code",
   "execution_count": 4,
   "metadata": {},
   "outputs": [
    {
     "data": {
      "text/html": [
       "<ol class=list-inline>\n",
       "\t<li>'.GlobalEnv'</li>\n",
       "\t<li>'package:forcats'</li>\n",
       "\t<li>'package:stringr'</li>\n",
       "\t<li>'package:dplyr'</li>\n",
       "\t<li>'package:purrr'</li>\n",
       "\t<li>'package:readr'</li>\n",
       "\t<li>'package:tidyr'</li>\n",
       "\t<li>'package:tibble'</li>\n",
       "\t<li>'package:ggplot2'</li>\n",
       "\t<li>'package:tidyverse'</li>\n",
       "\t<li>'jupyter:irkernel'</li>\n",
       "\t<li>'package:stats'</li>\n",
       "\t<li>'package:graphics'</li>\n",
       "\t<li>'package:grDevices'</li>\n",
       "\t<li>'package:utils'</li>\n",
       "\t<li>'package:datasets'</li>\n",
       "\t<li>'package:methods'</li>\n",
       "\t<li>'Autoloads'</li>\n",
       "\t<li>'package:base'</li>\n",
       "</ol>\n"
      ],
      "text/latex": [
       "\\begin{enumerate*}\n",
       "\\item '.GlobalEnv'\n",
       "\\item 'package:forcats'\n",
       "\\item 'package:stringr'\n",
       "\\item 'package:dplyr'\n",
       "\\item 'package:purrr'\n",
       "\\item 'package:readr'\n",
       "\\item 'package:tidyr'\n",
       "\\item 'package:tibble'\n",
       "\\item 'package:ggplot2'\n",
       "\\item 'package:tidyverse'\n",
       "\\item 'jupyter:irkernel'\n",
       "\\item 'package:stats'\n",
       "\\item 'package:graphics'\n",
       "\\item 'package:grDevices'\n",
       "\\item 'package:utils'\n",
       "\\item 'package:datasets'\n",
       "\\item 'package:methods'\n",
       "\\item 'Autoloads'\n",
       "\\item 'package:base'\n",
       "\\end{enumerate*}\n"
      ],
      "text/markdown": [
       "1. '.GlobalEnv'\n",
       "2. 'package:forcats'\n",
       "3. 'package:stringr'\n",
       "4. 'package:dplyr'\n",
       "5. 'package:purrr'\n",
       "6. 'package:readr'\n",
       "7. 'package:tidyr'\n",
       "8. 'package:tibble'\n",
       "9. 'package:ggplot2'\n",
       "10. 'package:tidyverse'\n",
       "11. 'jupyter:irkernel'\n",
       "12. 'package:stats'\n",
       "13. 'package:graphics'\n",
       "14. 'package:grDevices'\n",
       "15. 'package:utils'\n",
       "16. 'package:datasets'\n",
       "17. 'package:methods'\n",
       "18. 'Autoloads'\n",
       "19. 'package:base'\n",
       "\n",
       "\n"
      ],
      "text/plain": [
       " [1] \".GlobalEnv\"        \"package:forcats\"   \"package:stringr\"  \n",
       " [4] \"package:dplyr\"     \"package:purrr\"     \"package:readr\"    \n",
       " [7] \"package:tidyr\"     \"package:tibble\"    \"package:ggplot2\"  \n",
       "[10] \"package:tidyverse\" \"jupyter:irkernel\"  \"package:stats\"    \n",
       "[13] \"package:graphics\"  \"package:grDevices\" \"package:utils\"    \n",
       "[16] \"package:datasets\"  \"package:methods\"   \"Autoloads\"        \n",
       "[19] \"package:base\"     "
      ]
     },
     "metadata": {},
     "output_type": "display_data"
    }
   ],
   "source": [
    "search() # 현재 수행하고 있는 R 프로그래밍에서 사용할 수 있는 패키지를 모두 보여준다."
   ]
  },
  {
   "cell_type": "code",
   "execution_count": 5,
   "metadata": {},
   "outputs": [
    {
     "name": "stderr",
     "output_type": "stream",
     "text": [
      "starting httpd help server ... done\n"
     ]
    }
   ],
   "source": [
    "??tidyver # 어떤 함수인지 정확하지 않을 때 -> 문서 조회"
   ]
  },
  {
   "cell_type": "code",
   "execution_count": 6,
   "metadata": {},
   "outputs": [
    {
     "data": {
      "text/html": [
       "\n",
       "<table width=\"100%\" summary=\"page for tidyverse-package {tidyverse}\"><tr><td>tidyverse-package {tidyverse}</td><td style=\"text-align: right;\">R Documentation</td></tr></table>\n",
       "\n",
       "<h2>tidyverse: Easily Install and Load the 'Tidyverse'</h2>\n",
       "\n",
       "<h3>Description</h3>\n",
       "\n",
       "<p><img src=\"../help/figures/logo.png\" align='right' alt='logo' width='120' />\n",
       "</p>\n",
       "<p>The 'tidyverse' is a set of packages that work in\n",
       "harmony because they share common data representations and 'API'\n",
       "design. This package is designed to make it easy to install and load\n",
       "multiple 'tidyverse' packages in a single step. Learn more about the\n",
       "'tidyverse' at &lt;https://tidyverse.org&gt;.\n",
       "</p>\n",
       "\n",
       "\n",
       "<h3>Author(s)</h3>\n",
       "\n",
       "<p><strong>Maintainer</strong>: Hadley Wickham <a href=\"mailto:hadley@rstudio.com\">hadley@rstudio.com</a>\n",
       "</p>\n",
       "<p>Other contributors:\n",
       "</p>\n",
       "\n",
       "<ul>\n",
       "<li><p> RStudio [copyright holder, funder]\n",
       "</p>\n",
       "</li></ul>\n",
       "\n",
       "\n",
       "\n",
       "<h3>See Also</h3>\n",
       "\n",
       "<p>Useful links:\n",
       "</p>\n",
       "\n",
       "<ul>\n",
       "<li> <p><a href=\"http://tidyverse.tidyverse.org\">http://tidyverse.tidyverse.org</a>\n",
       "</p>\n",
       "</li>\n",
       "<li> <p><a href=\"https://github.com/tidyverse/tidyverse\">https://github.com/tidyverse/tidyverse</a>\n",
       "</p>\n",
       "</li>\n",
       "<li><p> Report bugs at <a href=\"https://github.com/tidyverse/tidyverse/issues\">https://github.com/tidyverse/tidyverse/issues</a>\n",
       "</p>\n",
       "</li></ul>\n",
       "\n",
       "\n",
       "<hr /><div style=\"text-align: center;\">[Package <em>tidyverse</em> version 1.3.0 ]</div>"
      ],
      "text/latex": [
       "\\inputencoding{utf8}\n",
       "\\HeaderA{tidyverse-package}{tidyverse: Easily Install and Load the 'Tidyverse'}{tidyverse.Rdash.package}\n",
       "\\aliasA{tidyverse}{tidyverse-package}{tidyverse}\n",
       "\\keyword{internal}{tidyverse-package}\n",
       "%\n",
       "\\begin{Description}\\relax\n",
       "\n",
       "\n",
       "The 'tidyverse' is a set of packages that work in\n",
       "harmony because they share common data representations and 'API'\n",
       "design. This package is designed to make it easy to install and load\n",
       "multiple 'tidyverse' packages in a single step. Learn more about the\n",
       "'tidyverse' at <https://tidyverse.org>.\n",
       "\\end{Description}\n",
       "%\n",
       "\\begin{Author}\\relax\n",
       "\\strong{Maintainer}: Hadley Wickham \\email{hadley@rstudio.com}\n",
       "\n",
       "Other contributors:\n",
       "\\begin{itemize}\n",
       "\n",
       "\\item{} RStudio [copyright holder, funder]\n",
       "\n",
       "\\end{itemize}\n",
       "\n",
       "\n",
       "\\end{Author}\n",
       "%\n",
       "\\begin{SeeAlso}\\relax\n",
       "Useful links:\n",
       "\\begin{itemize}\n",
       "\n",
       "\\item{} \\url{http://tidyverse.tidyverse.org}\n",
       "\\item{} \\url{https://github.com/tidyverse/tidyverse}\n",
       "\\item{} Report bugs at \\url{https://github.com/tidyverse/tidyverse/issues}\n",
       "\n",
       "\\end{itemize}\n",
       "\n",
       "\n",
       "\\end{SeeAlso}"
      ],
      "text/plain": [
       "tidyverse-package          package:tidyverse           R Documentation\n",
       "\n",
       "_\bt_\bi_\bd_\by_\bv_\be_\br_\bs_\be: _\bE_\ba_\bs_\bi_\bl_\by _\bI_\bn_\bs_\bt_\ba_\bl_\bl _\ba_\bn_\bd _\bL_\bo_\ba_\bd _\bt_\bh_\be '_\bT_\bi_\bd_\by_\bv_\be_\br_\bs_\be'\n",
       "\n",
       "_\bD_\be_\bs_\bc_\br_\bi_\bp_\bt_\bi_\bo_\bn:\n",
       "\n",
       "     The 'tidyverse' is a set of packages that work in harmony because\n",
       "     they share common data representations and 'API' design. This\n",
       "     package is designed to make it easy to install and load multiple\n",
       "     'tidyverse' packages in a single step. Learn more about the\n",
       "     'tidyverse' at <https://tidyverse.org>.\n",
       "\n",
       "_\bA_\bu_\bt_\bh_\bo_\br(_\bs):\n",
       "\n",
       "     *Maintainer*: Hadley Wickham <email: hadley@rstudio.com>\n",
       "\n",
       "     Other contributors:\n",
       "\n",
       "        * RStudio [copyright holder, funder]\n",
       "\n",
       "_\bS_\be_\be _\bA_\bl_\bs_\bo:\n",
       "\n",
       "     Useful links:\n",
       "\n",
       "        * <URL: http://tidyverse.tidyverse.org>\n",
       "\n",
       "        * <URL: https://github.com/tidyverse/tidyverse>\n",
       "\n",
       "        * Report bugs at <URL:\n",
       "          https://github.com/tidyverse/tidyverse/issues>\n"
      ]
     },
     "metadata": {},
     "output_type": "display_data"
    }
   ],
   "source": [
    "?tidyverse # 사용 방법을 모를 때 -> 문서 조회"
   ]
  },
  {
   "cell_type": "markdown",
   "metadata": {},
   "source": [
    "패키지를 추가 설치하면 더 유연하고 강력해지는 R\n",
    " - 빠르고 쉬운 데이터 처리:\n",
    " \n",
    " \n",
    "Tidyverse.. Data Scienc를 위한 R 패키지 집합! (dplyr, ggplot2, readr, etc..)\n",
    "\n",
    "R의 변수와 데이터형\n",
    " - 변수: 정수, 실수, 문자열, 논리값 가능\n",
    " - 변수명\n",
    "   - 알파벳, 숫자, '_', '.'로 조합 가능\n",
    "   - 첫 글자는 가능하면 알파벳 문자 사용\n",
    "   - 가독성이 있도록 명명\n",
    " - 변수에 값 지정\n",
    "   - 배정(assignment) 기호 \"<-\" 사용 ( \"=\"도 사용 가능하지만 <- 을 권장)\n",
    "   \n",
    " "
   ]
  },
  {
   "cell_type": "markdown",
   "metadata": {},
   "source": [
    "데이터형 확인 함수들 <br>\n",
    "\n",
    "|함수|설명|\n",
    "|---|------|\n",
    "|class(x)|R객체 지향에서 x의 데이터형|\n",
    "|typeof(x)|R언어 자체 관점에서 x의 데이터형|\n",
    "|is.integer(x)|x가 정수이면 TRUE, 아니면 FALSE|\n",
    "|is.numeric(x)|x가 실수형이면 TRUE, 아니면 FALSE|\n",
    "|is.complex(x)|x가 복소수형이면 TRUE, 아니면 FALSE|\n",
    "|is.charactor(x)|x가 문자형이면 TRUE, 아니면 FALSE|\n",
    "|is.na(x)|x가 NA이면 TRUE, 아니면 FALSE|"
   ]
  },
  {
   "cell_type": "markdown",
   "metadata": {},
   "source": [
    "데이터형 변환 함수들\n",
    "\n",
    "\n",
    "|함수|설명|\n",
    "|---|------|\n",
    "|as.factor(x)|X를 범주형으로 변환|\n",
    "|as.integer(x)|X를 정수형으로 변환|\n",
    "|as.numeric(x)|X를 숫자형으로 변환|\n",
    "|as.charactor(x)|X를 문자형으로 변환|\n",
    "|as.matrix(x)|X를 행렬로 변환|\n",
    "|as.array(x)|X를 배열로 변환|"
   ]
  },
  {
   "cell_type": "markdown",
   "metadata": {},
   "source": [
    "|연산자|설명|예|\n",
    "|---|------|-----|\n",
    "|^또는**|지수승|5^2 -> 25|\n",
    "|x %% y|x를 y로 나눈 나머지<br>(정수 나눗셈 나머지)|5 %% 2 -> 1|\n",
    "|x %/% y|x를 y로 나눈 몫<br>(정수 나눗셈 몫)|5 %/% 2 -> 2|"
   ]
  },
  {
   "cell_type": "markdown",
   "metadata": {},
   "source": [
    "### R의 데이터 구조\n",
    " - vector, matrix , array, data frame, list\n",
    "\n",
    "vector\n",
    "  - interger, numeric, logical, ..)를 가지고 있다. 벡터의 원소는 동일한 형채이어야 한다. 벡터를 생성할 때 **c() 함수**를 이용한다.\n",
    "  - c(1,2,3,4)\n",
    "  - (\"M\",\"F\",\"F\",\"M\")\n",
    "\n",
    "1. 데이터 항목은 모두 같은 타입으로 통일\n",
    "2. 서로 다른 데이터 타입을 처리하려면 리스트(list)를 사용\n",
    "3. 여러 항목에서 필요한 항목을 찾아내는 것을 인덱싱(indexing)이라고 함"
   ]
  },
  {
   "cell_type": "code",
   "execution_count": 10,
   "metadata": {},
   "outputs": [
    {
     "data": {
      "text/html": [
       "'character'"
      ],
      "text/latex": [
       "'character'"
      ],
      "text/markdown": [
       "'character'"
      ],
      "text/plain": [
       "[1] \"character\""
      ]
     },
     "metadata": {},
     "output_type": "display_data"
    },
    {
     "data": {
      "text/html": [
       "'character'"
      ],
      "text/latex": [
       "'character'"
      ],
      "text/markdown": [
       "'character'"
      ],
      "text/plain": [
       "[1] \"character\""
      ]
     },
     "metadata": {},
     "output_type": "display_data"
    }
   ],
   "source": [
    "# Data type ----\n",
    "x <- \"Hello, R\"\n",
    "y <- 256\n",
    "z <- 0.56\n",
    "\n",
    "class(x)\n",
    "typeof(x)"
   ]
  },
  {
   "cell_type": "code",
   "execution_count": 15,
   "metadata": {},
   "outputs": [
    {
     "data": {
      "text/html": [
       "FALSE"
      ],
      "text/latex": [
       "FALSE"
      ],
      "text/markdown": [
       "FALSE"
      ],
      "text/plain": [
       "[1] FALSE"
      ]
     },
     "metadata": {},
     "output_type": "display_data"
    },
    {
     "data": {
      "text/html": [
       "FALSE"
      ],
      "text/latex": [
       "FALSE"
      ],
      "text/markdown": [
       "FALSE"
      ],
      "text/plain": [
       "[1] FALSE"
      ]
     },
     "metadata": {},
     "output_type": "display_data"
    },
    {
     "data": {
      "text/html": [
       "TRUE"
      ],
      "text/latex": [
       "TRUE"
      ],
      "text/markdown": [
       "TRUE"
      ],
      "text/plain": [
       "[1] TRUE"
      ]
     },
     "metadata": {},
     "output_type": "display_data"
    }
   ],
   "source": [
    "is.integer(x)\n",
    "is.numeric(x)\n",
    "is.character(x) # x의 자료형은 문자형(character)이다."
   ]
  },
  {
   "cell_type": "code",
   "execution_count": 18,
   "metadata": {},
   "outputs": [
    {
     "data": {
      "text/html": [
       "'256'"
      ],
      "text/latex": [
       "'256'"
      ],
      "text/markdown": [
       "'256'"
      ],
      "text/plain": [
       "[1] \"256\""
      ]
     },
     "metadata": {},
     "output_type": "display_data"
    },
    {
     "data": {
      "text/html": [
       "'character'"
      ],
      "text/latex": [
       "'character'"
      ],
      "text/markdown": [
       "'character'"
      ],
      "text/plain": [
       "[1] \"character\""
      ]
     },
     "metadata": {},
     "output_type": "display_data"
    },
    {
     "data": {
      "text/html": [
       "TRUE"
      ],
      "text/latex": [
       "TRUE"
      ],
      "text/markdown": [
       "TRUE"
      ],
      "text/plain": [
       "[1] TRUE"
      ]
     },
     "metadata": {},
     "output_type": "display_data"
    }
   ],
   "source": [
    "as.character(y)\n",
    "typeof(as.character(y))\n",
    "is.character(as.character(y))"
   ]
  },
  {
   "cell_type": "code",
   "execution_count": 20,
   "metadata": {},
   "outputs": [
    {
     "data": {
      "text/html": [
       "<ol class=list-inline>\n",
       "\t<li>1</li>\n",
       "\t<li>2</li>\n",
       "\t<li>3</li>\n",
       "\t<li>4</li>\n",
       "</ol>\n"
      ],
      "text/latex": [
       "\\begin{enumerate*}\n",
       "\\item 1\n",
       "\\item 2\n",
       "\\item 3\n",
       "\\item 4\n",
       "\\end{enumerate*}\n"
      ],
      "text/markdown": [
       "1. 1\n",
       "2. 2\n",
       "3. 3\n",
       "4. 4\n",
       "\n",
       "\n"
      ],
      "text/plain": [
       "[1] 1 2 3 4"
      ]
     },
     "metadata": {},
     "output_type": "display_data"
    },
    {
     "data": {
      "text/html": [
       "'numeric'"
      ],
      "text/latex": [
       "'numeric'"
      ],
      "text/markdown": [
       "'numeric'"
      ],
      "text/plain": [
       "[1] \"numeric\""
      ]
     },
     "metadata": {},
     "output_type": "display_data"
    }
   ],
   "source": [
    "# vector\n",
    "c(1,2,3,4)\n",
    "class(c(1,2,3,4))"
   ]
  },
  {
   "cell_type": "code",
   "execution_count": 21,
   "metadata": {},
   "outputs": [
    {
     "data": {
      "text/html": [
       "<ol class=list-inline>\n",
       "\t<li>'M'</li>\n",
       "\t<li>'F'</li>\n",
       "\t<li>'M'</li>\n",
       "\t<li>'M'</li>\n",
       "</ol>\n"
      ],
      "text/latex": [
       "\\begin{enumerate*}\n",
       "\\item 'M'\n",
       "\\item 'F'\n",
       "\\item 'M'\n",
       "\\item 'M'\n",
       "\\end{enumerate*}\n"
      ],
      "text/markdown": [
       "1. 'M'\n",
       "2. 'F'\n",
       "3. 'M'\n",
       "4. 'M'\n",
       "\n",
       "\n"
      ],
      "text/plain": [
       "[1] \"M\" \"F\" \"M\" \"M\""
      ]
     },
     "metadata": {},
     "output_type": "display_data"
    },
    {
     "data": {
      "text/html": [
       "'character'"
      ],
      "text/latex": [
       "'character'"
      ],
      "text/markdown": [
       "'character'"
      ],
      "text/plain": [
       "[1] \"character\""
      ]
     },
     "metadata": {},
     "output_type": "display_data"
    }
   ],
   "source": [
    "c(\"M\",\"F\",\"M\",\"M\")\n",
    "class(c(\"M\",\"F\",\"M\",\"M\"))"
   ]
  },
  {
   "cell_type": "code",
   "execution_count": 41,
   "metadata": {},
   "outputs": [
    {
     "data": {
      "text/html": [
       "<ol class=list-inline>\n",
       "\t<li>1</li>\n",
       "\t<li>2</li>\n",
       "\t<li>3</li>\n",
       "\t<li>4</li>\n",
       "\t<li>1</li>\n",
       "\t<li>3</li>\n",
       "\t<li>4</li>\n",
       "</ol>\n"
      ],
      "text/latex": [
       "\\begin{enumerate*}\n",
       "\\item 1\n",
       "\\item 2\n",
       "\\item 3\n",
       "\\item 4\n",
       "\\item 1\n",
       "\\item 3\n",
       "\\item 4\n",
       "\\end{enumerate*}\n"
      ],
      "text/markdown": [
       "1. 1\n",
       "2. 2\n",
       "3. 3\n",
       "4. 4\n",
       "5. 1\n",
       "6. 3\n",
       "7. 4\n",
       "\n",
       "\n"
      ],
      "text/plain": [
       "[1] 1 2 3 4 1 3 4"
      ]
     },
     "metadata": {},
     "output_type": "display_data"
    }
   ],
   "source": [
    "vec1 <- c(1,2,3,4, c(1,3,4))\n",
    "vec1"
   ]
  },
  {
   "cell_type": "code",
   "execution_count": 42,
   "metadata": {},
   "outputs": [
    {
     "data": {
      "text/html": [
       "<ol class=list-inline>\n",
       "\t<li>55</li>\n",
       "\t<li>56</li>\n",
       "\t<li>57</li>\n",
       "\t<li>58</li>\n",
       "\t<li>59</li>\n",
       "\t<li>60</li>\n",
       "\t<li>61</li>\n",
       "\t<li>62</li>\n",
       "\t<li>63</li>\n",
       "\t<li>64</li>\n",
       "\t<li>65</li>\n",
       "\t<li>66</li>\n",
       "</ol>\n"
      ],
      "text/latex": [
       "\\begin{enumerate*}\n",
       "\\item 55\n",
       "\\item 56\n",
       "\\item 57\n",
       "\\item 58\n",
       "\\item 59\n",
       "\\item 60\n",
       "\\item 61\n",
       "\\item 62\n",
       "\\item 63\n",
       "\\item 64\n",
       "\\item 65\n",
       "\\item 66\n",
       "\\end{enumerate*}\n"
      ],
      "text/markdown": [
       "1. 55\n",
       "2. 56\n",
       "3. 57\n",
       "4. 58\n",
       "5. 59\n",
       "6. 60\n",
       "7. 61\n",
       "8. 62\n",
       "9. 63\n",
       "10. 64\n",
       "11. 65\n",
       "12. 66\n",
       "\n",
       "\n"
      ],
      "text/plain": [
       " [1] 55 56 57 58 59 60 61 62 63 64 65 66"
      ]
     },
     "metadata": {},
     "output_type": "display_data"
    }
   ],
   "source": [
    "#vector merge\n",
    "vec2 <- c(55:66)\n",
    "vec2"
   ]
  },
  {
   "cell_type": "code",
   "execution_count": 43,
   "metadata": {},
   "outputs": [
    {
     "data": {
      "text/html": [
       "<ol class=list-inline>\n",
       "\t<li>1</li>\n",
       "\t<li>2</li>\n",
       "\t<li>3</li>\n",
       "\t<li>4</li>\n",
       "\t<li>1</li>\n",
       "\t<li>3</li>\n",
       "\t<li>4</li>\n",
       "\t<li>55</li>\n",
       "\t<li>56</li>\n",
       "\t<li>57</li>\n",
       "\t<li>58</li>\n",
       "\t<li>59</li>\n",
       "\t<li>60</li>\n",
       "\t<li>61</li>\n",
       "\t<li>62</li>\n",
       "\t<li>63</li>\n",
       "\t<li>64</li>\n",
       "\t<li>65</li>\n",
       "\t<li>66</li>\n",
       "</ol>\n"
      ],
      "text/latex": [
       "\\begin{enumerate*}\n",
       "\\item 1\n",
       "\\item 2\n",
       "\\item 3\n",
       "\\item 4\n",
       "\\item 1\n",
       "\\item 3\n",
       "\\item 4\n",
       "\\item 55\n",
       "\\item 56\n",
       "\\item 57\n",
       "\\item 58\n",
       "\\item 59\n",
       "\\item 60\n",
       "\\item 61\n",
       "\\item 62\n",
       "\\item 63\n",
       "\\item 64\n",
       "\\item 65\n",
       "\\item 66\n",
       "\\end{enumerate*}\n"
      ],
      "text/markdown": [
       "1. 1\n",
       "2. 2\n",
       "3. 3\n",
       "4. 4\n",
       "5. 1\n",
       "6. 3\n",
       "7. 4\n",
       "8. 55\n",
       "9. 56\n",
       "10. 57\n",
       "11. 58\n",
       "12. 59\n",
       "13. 60\n",
       "14. 61\n",
       "15. 62\n",
       "16. 63\n",
       "17. 64\n",
       "18. 65\n",
       "19. 66\n",
       "\n",
       "\n"
      ],
      "text/plain": [
       " [1]  1  2  3  4  1  3  4 55 56 57 58 59 60 61 62 63 64 65 66"
      ]
     },
     "metadata": {},
     "output_type": "display_data"
    }
   ],
   "source": [
    "vec3 <- c(vec1,vec2)# 벡터 함치기\n",
    "vec3"
   ]
  },
  {
   "cell_type": "code",
   "execution_count": 44,
   "metadata": {},
   "outputs": [
    {
     "data": {
      "text/html": [],
      "text/latex": [],
      "text/markdown": [],
      "text/plain": [
       "numeric(0)"
      ]
     },
     "metadata": {},
     "output_type": "display_data"
    }
   ],
   "source": [
    "# indexing\n",
    "# For R, The starting number for index is 0.\n",
    "vec1[0] # numeric(0) : 벡터의 시작은 0이 아니라 1 부터이다!"
   ]
  },
  {
   "cell_type": "code",
   "execution_count": 45,
   "metadata": {},
   "outputs": [
    {
     "data": {
      "text/html": [
       "1"
      ],
      "text/latex": [
       "1"
      ],
      "text/markdown": [
       "1"
      ],
      "text/plain": [
       "[1] 1"
      ]
     },
     "metadata": {},
     "output_type": "display_data"
    }
   ],
   "source": [
    "vec1[1]"
   ]
  },
  {
   "cell_type": "code",
   "execution_count": 46,
   "metadata": {},
   "outputs": [
    {
     "data": {
      "text/html": [
       "<ol class=list-inline>\n",
       "\t<li>1</li>\n",
       "\t<li>2</li>\n",
       "\t<li>3</li>\n",
       "\t<li>4</li>\n",
       "\t<li>1</li>\n",
       "</ol>\n"
      ],
      "text/latex": [
       "\\begin{enumerate*}\n",
       "\\item 1\n",
       "\\item 2\n",
       "\\item 3\n",
       "\\item 4\n",
       "\\item 1\n",
       "\\end{enumerate*}\n"
      ],
      "text/markdown": [
       "1. 1\n",
       "2. 2\n",
       "3. 3\n",
       "4. 4\n",
       "5. 1\n",
       "\n",
       "\n"
      ],
      "text/plain": [
       "[1] 1 2 3 4 1"
      ]
     },
     "metadata": {},
     "output_type": "display_data"
    }
   ],
   "source": [
    "vec1[1:5]"
   ]
  },
  {
   "cell_type": "code",
   "execution_count": 47,
   "metadata": {},
   "outputs": [
    {
     "data": {
      "text/html": [
       "<ol class=list-inline>\n",
       "\t<li>2</li>\n",
       "\t<li>3</li>\n",
       "\t<li>4</li>\n",
       "\t<li>1</li>\n",
       "\t<li>3</li>\n",
       "\t<li>4</li>\n",
       "</ol>\n"
      ],
      "text/latex": [
       "\\begin{enumerate*}\n",
       "\\item 2\n",
       "\\item 3\n",
       "\\item 4\n",
       "\\item 1\n",
       "\\item 3\n",
       "\\item 4\n",
       "\\end{enumerate*}\n"
      ],
      "text/markdown": [
       "1. 2\n",
       "2. 3\n",
       "3. 4\n",
       "4. 1\n",
       "5. 3\n",
       "6. 4\n",
       "\n",
       "\n"
      ],
      "text/plain": [
       "[1] 2 3 4 1 3 4"
      ]
     },
     "metadata": {},
     "output_type": "display_data"
    }
   ],
   "source": [
    "# element remove 요소 제거 : -\"지우고자 하는 위치\"\n",
    "vec1[-1]"
   ]
  },
  {
   "cell_type": "code",
   "execution_count": 48,
   "metadata": {},
   "outputs": [
    {
     "data": {
      "text/html": [
       "<ol class=list-inline>\n",
       "\t<li>2</li>\n",
       "\t<li>3</li>\n",
       "\t<li>4</li>\n",
       "\t<li>1</li>\n",
       "\t<li>3</li>\n",
       "\t<li>4</li>\n",
       "</ol>\n"
      ],
      "text/latex": [
       "\\begin{enumerate*}\n",
       "\\item 2\n",
       "\\item 3\n",
       "\\item 4\n",
       "\\item 1\n",
       "\\item 3\n",
       "\\item 4\n",
       "\\end{enumerate*}\n"
      ],
      "text/markdown": [
       "1. 2\n",
       "2. 3\n",
       "3. 4\n",
       "4. 1\n",
       "5. 3\n",
       "6. 4\n",
       "\n",
       "\n"
      ],
      "text/plain": [
       "[1] 2 3 4 1 3 4"
      ]
     },
     "metadata": {},
     "output_type": "display_data"
    }
   ],
   "source": [
    "vec1 <- vec1[-1] # 1번째 요소를 지우고 다시 저장\n",
    "vec1"
   ]
  },
  {
   "cell_type": "code",
   "execution_count": 49,
   "metadata": {},
   "outputs": [
    {
     "data": {
      "text/html": [
       "6"
      ],
      "text/latex": [
       "6"
      ],
      "text/markdown": [
       "6"
      ],
      "text/plain": [
       "[1] 6"
      ]
     },
     "metadata": {},
     "output_type": "display_data"
    },
    {
     "data": {
      "text/html": [
       "12"
      ],
      "text/latex": [
       "12"
      ],
      "text/markdown": [
       "12"
      ],
      "text/plain": [
       "[1] 12"
      ]
     },
     "metadata": {},
     "output_type": "display_data"
    }
   ],
   "source": [
    "# elements length\n",
    "length(vec1)\n",
    "length(vec2)"
   ]
  },
  {
   "cell_type": "code",
   "execution_count": 51,
   "metadata": {},
   "outputs": [
    {
     "data": {
      "text/html": [
       "<ol class=list-inline>\n",
       "\t<li>1</li>\n",
       "\t<li>1</li>\n",
       "\t<li>1</li>\n",
       "\t<li>1</li>\n",
       "\t<li>1</li>\n",
       "</ol>\n"
      ],
      "text/latex": [
       "\\begin{enumerate*}\n",
       "\\item 1\n",
       "\\item 1\n",
       "\\item 1\n",
       "\\item 1\n",
       "\\item 1\n",
       "\\end{enumerate*}\n"
      ],
      "text/markdown": [
       "1. 1\n",
       "2. 1\n",
       "3. 1\n",
       "4. 1\n",
       "5. 1\n",
       "\n",
       "\n"
      ],
      "text/plain": [
       "[1] 1 1 1 1 1"
      ]
     },
     "metadata": {},
     "output_type": "display_data"
    }
   ],
   "source": [
    "# repeat\n",
    "rep(1, times = 5) # 5번 복제"
   ]
  },
  {
   "cell_type": "code",
   "execution_count": 52,
   "metadata": {},
   "outputs": [
    {
     "data": {
      "text/html": [
       "<ol class=list-inline>\n",
       "\t<li>1</li>\n",
       "\t<li>1</li>\n",
       "\t<li>1</li>\n",
       "\t<li>2</li>\n",
       "\t<li>2</li>\n",
       "\t<li>2</li>\n",
       "\t<li>3</li>\n",
       "\t<li>3</li>\n",
       "\t<li>3</li>\n",
       "\t<li>4</li>\n",
       "\t<li>4</li>\n",
       "\t<li>4</li>\n",
       "\t<li>5</li>\n",
       "\t<li>5</li>\n",
       "\t<li>5</li>\n",
       "</ol>\n"
      ],
      "text/latex": [
       "\\begin{enumerate*}\n",
       "\\item 1\n",
       "\\item 1\n",
       "\\item 1\n",
       "\\item 2\n",
       "\\item 2\n",
       "\\item 2\n",
       "\\item 3\n",
       "\\item 3\n",
       "\\item 3\n",
       "\\item 4\n",
       "\\item 4\n",
       "\\item 4\n",
       "\\item 5\n",
       "\\item 5\n",
       "\\item 5\n",
       "\\end{enumerate*}\n"
      ],
      "text/markdown": [
       "1. 1\n",
       "2. 1\n",
       "3. 1\n",
       "4. 2\n",
       "5. 2\n",
       "6. 2\n",
       "7. 3\n",
       "8. 3\n",
       "9. 3\n",
       "10. 4\n",
       "11. 4\n",
       "12. 4\n",
       "13. 5\n",
       "14. 5\n",
       "15. 5\n",
       "\n",
       "\n"
      ],
      "text/plain": [
       " [1] 1 1 1 2 2 2 3 3 3 4 4 4 5 5 5"
      ]
     },
     "metadata": {},
     "output_type": "display_data"
    }
   ],
   "source": [
    "rep(1:5, each = 3) # 3번씩 입력"
   ]
  },
  {
   "cell_type": "code",
   "execution_count": 54,
   "metadata": {},
   "outputs": [
    {
     "data": {
      "text/html": [
       "<ol class=list-inline>\n",
       "\t<li>3</li>\n",
       "\t<li>6</li>\n",
       "\t<li>7</li>\n",
       "\t<li>8</li>\n",
       "\t<li>9</li>\n",
       "\t<li>10</li>\n",
       "\t<li>11</li>\n",
       "\t<li>12</li>\n",
       "\t<li>13</li>\n",
       "\t<li>14</li>\n",
       "\t<li>15</li>\n",
       "\t<li>16</li>\n",
       "\t<li>17</li>\n",
       "\t<li>18</li>\n",
       "</ol>\n"
      ],
      "text/latex": [
       "\\begin{enumerate*}\n",
       "\\item 3\n",
       "\\item 6\n",
       "\\item 7\n",
       "\\item 8\n",
       "\\item 9\n",
       "\\item 10\n",
       "\\item 11\n",
       "\\item 12\n",
       "\\item 13\n",
       "\\item 14\n",
       "\\item 15\n",
       "\\item 16\n",
       "\\item 17\n",
       "\\item 18\n",
       "\\end{enumerate*}\n"
      ],
      "text/markdown": [
       "1. 3\n",
       "2. 6\n",
       "3. 7\n",
       "4. 8\n",
       "5. 9\n",
       "6. 10\n",
       "7. 11\n",
       "8. 12\n",
       "9. 13\n",
       "10. 14\n",
       "11. 15\n",
       "12. 16\n",
       "13. 17\n",
       "14. 18\n",
       "\n",
       "\n"
      ],
      "text/plain": [
       " [1]  3  6  7  8  9 10 11 12 13 14 15 16 17 18"
      ]
     },
     "metadata": {},
     "output_type": "display_data"
    }
   ],
   "source": [
    "# which : 벡터에서 특정 값을 값고 있는 위치를 반환\n",
    "vec3 <- c(vec1, vec2)\n",
    "which(vec3 > 3) # 3보다 큰 값의 위치를 반환"
   ]
  },
  {
   "cell_type": "code",
   "execution_count": 56,
   "metadata": {},
   "outputs": [
    {
     "data": {
      "text/html": [
       "4"
      ],
      "text/latex": [
       "4"
      ],
      "text/markdown": [
       "4"
      ],
      "text/plain": [
       "[1] 4"
      ]
     },
     "metadata": {},
     "output_type": "display_data"
    }
   ],
   "source": [
    "which(vec3 == 1) # 1의 값의 위치 : 4번째"
   ]
  },
  {
   "cell_type": "code",
   "execution_count": 58,
   "metadata": {},
   "outputs": [
    {
     "data": {
      "text/html": [],
      "text/latex": [],
      "text/markdown": [],
      "text/plain": [
       "integer(0)"
      ]
     },
     "metadata": {},
     "output_type": "display_data"
    }
   ],
   "source": [
    " which(vec3 == 0) # vec3에는 0의 값이 없기 때문에 integr(0) 을 출력"
   ]
  },
  {
   "cell_type": "code",
   "execution_count": null,
   "metadata": {},
   "outputs": [],
   "source": []
  }
 ],
 "metadata": {
  "kernelspec": {
   "display_name": "R",
   "language": "R",
   "name": "ir"
  },
  "language_info": {
   "codemirror_mode": "r",
   "file_extension": ".r",
   "mimetype": "text/x-r-source",
   "name": "R",
   "pygments_lexer": "r",
   "version": "3.6.1"
  }
 },
 "nbformat": 4,
 "nbformat_minor": 4
}
