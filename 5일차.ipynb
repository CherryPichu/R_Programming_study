{
 "cells": [
  {
   "cell_type": "markdown",
   "metadata": {},
   "source": [
    "### 결측값 처리\n",
    "- 우리가 수집한 데이터에는 결측값(missing value) NA(not available) 값이 존재할 수 있다.\n",
    "- 결측값은 데이터 중 고의 또는 실수로 누락된 값을 의미한다.\n",
    "- 결측값을 그대로 놔둔 채 데이터 가공을 하면 결과값에 오류가 뜨거나 잘못된 연산이 수행될 수 있으므로 정제과정에서 **적절한 처리가 필요**하다\n",
    "\n",
    "|방법|설명            |\n",
    "|------|----------------|\n",
    "|is.na함수 이용| NA인 데이터가 있으면 T, 없응면 F로 나타낸다|\n",
    "|na.omit 함수 이용| NA인 데이터를 제거한다. 즉, NA가 포함된 행을 지운다.|\n",
    "|함수의 속성 이용| na.rm=T 로 하여 함수 수행 시, NA를 제외한다.|\n",
    "-----------------\n",
    "결측값이 들어있는 벡터에 대해서 sum(), mean(), sd(), min(), max(), range() 등의<br>\n",
    "통계 함수를 적용하면 'NA'만 나온다. 결측값을 포함하지 말고 통계 함수 계산을<br> \n",
    "하라는 옵션이  **na.rm = TRUE** 이다. (ex: **sum(x, na.rm=T)**)"
   ]
  },
  {
   "cell_type": "markdown",
   "metadata": {},
   "source": [
    "is.na 함수 이용 <br>\n",
    "예) airquality 데이터 결측값 처리"
   ]
  },
  {
   "cell_type": "code",
   "execution_count": 1,
   "metadata": {},
   "outputs": [
    {
     "data": {
      "text/plain": [
       "\n",
       "FALSE  TRUE \n",
       "  874    44 "
      ]
     },
     "metadata": {},
     "output_type": "display_data"
    }
   ],
   "source": [
    "table(is.na(airquality)) # NA가 총 44개 있음"
   ]
  },
  {
   "cell_type": "code",
   "execution_count": 3,
   "metadata": {},
   "outputs": [
    {
     "data": {
      "text/plain": [
       "\n",
       "FALSE  TRUE \n",
       "  116    37 "
      ]
     },
     "metadata": {},
     "output_type": "display_data"
    }
   ],
   "source": [
    "table(is.na(airquality$Ozone)) # na값이 있으면 mean값이 NA가 나온다."
   ]
  },
  {
   "cell_type": "code",
   "execution_count": 11,
   "metadata": {},
   "outputs": [
    {
     "data": {
      "text/html": [
       "<table>\n",
       "<thead><tr><th></th><th scope=col>Ozone</th><th scope=col>Solar.R</th><th scope=col>Wind</th><th scope=col>Temp</th><th scope=col>Month</th><th scope=col>Day</th></tr></thead>\n",
       "<tbody>\n",
       "\t<tr><th scope=row>1</th><td>41  </td><td>190 </td><td> 7.4</td><td>67  </td><td>5   </td><td>1   </td></tr>\n",
       "\t<tr><th scope=row>2</th><td>36  </td><td>118 </td><td> 8.0</td><td>72  </td><td>5   </td><td>2   </td></tr>\n",
       "\t<tr><th scope=row>3</th><td>12  </td><td>149 </td><td>12.6</td><td>74  </td><td>5   </td><td>3   </td></tr>\n",
       "\t<tr><th scope=row>4</th><td>18  </td><td>313 </td><td>11.5</td><td>62  </td><td>5   </td><td>4   </td></tr>\n",
       "\t<tr><th scope=row>6</th><td>28  </td><td> NA </td><td>14.9</td><td>66  </td><td>5   </td><td>6   </td></tr>\n",
       "\t<tr><th scope=row>7</th><td>23  </td><td>299 </td><td> 8.6</td><td>65  </td><td>5   </td><td>7   </td></tr>\n",
       "</tbody>\n",
       "</table>\n"
      ],
      "text/latex": [
       "\\begin{tabular}{r|llllll}\n",
       "  & Ozone & Solar.R & Wind & Temp & Month & Day\\\\\n",
       "\\hline\n",
       "\t1 & 41   & 190  &  7.4 & 67   & 5    & 1   \\\\\n",
       "\t2 & 36   & 118  &  8.0 & 72   & 5    & 2   \\\\\n",
       "\t3 & 12   & 149  & 12.6 & 74   & 5    & 3   \\\\\n",
       "\t4 & 18   & 313  & 11.5 & 62   & 5    & 4   \\\\\n",
       "\t6 & 28   &  NA  & 14.9 & 66   & 5    & 6   \\\\\n",
       "\t7 & 23   & 299  &  8.6 & 65   & 5    & 7   \\\\\n",
       "\\end{tabular}\n"
      ],
      "text/markdown": [
       "\n",
       "| <!--/--> | Ozone | Solar.R | Wind | Temp | Month | Day |\n",
       "|---|---|---|---|---|---|---|\n",
       "| 1 | 41   | 190  |  7.4 | 67   | 5    | 1    |\n",
       "| 2 | 36   | 118  |  8.0 | 72   | 5    | 2    |\n",
       "| 3 | 12   | 149  | 12.6 | 74   | 5    | 3    |\n",
       "| 4 | 18   | 313  | 11.5 | 62   | 5    | 4    |\n",
       "| 6 | 28   |  NA  | 14.9 | 66   | 5    | 6    |\n",
       "| 7 | 23   | 299  |  8.6 | 65   | 5    | 7    |\n",
       "\n"
      ],
      "text/plain": [
       "  Ozone Solar.R Wind Temp Month Day\n",
       "1 41    190      7.4 67   5     1  \n",
       "2 36    118      8.0 72   5     2  \n",
       "3 12    149     12.6 74   5     3  \n",
       "4 18    313     11.5 62   5     4  \n",
       "6 28     NA     14.9 66   5     6  \n",
       "7 23    299      8.6 65   5     7  "
      ]
     },
     "metadata": {},
     "output_type": "display_data"
    }
   ],
   "source": [
    "air_narm = airquality[!is.na(airquality$Ozone),] # 데이터 정제과정. Ozone의 NA가 없는 값만 추출\n",
    "head(air_narm)"
   ]
  },
  {
   "cell_type": "code",
   "execution_count": 7,
   "metadata": {},
   "outputs": [
    {
     "data": {
      "text/html": [
       "42.1293103448276"
      ],
      "text/latex": [
       "42.1293103448276"
      ],
      "text/markdown": [
       "42.1293103448276"
      ],
      "text/plain": [
       "[1] 42.12931"
      ]
     },
     "metadata": {},
     "output_type": "display_data"
    }
   ],
   "source": [
    "mean(air_narm$Ozone)"
   ]
  },
  {
   "cell_type": "code",
   "execution_count": 18,
   "metadata": {},
   "outputs": [
    {
     "name": "stdout",
     "output_type": "stream",
     "text": [
      "[1] 42.12931\n"
     ]
    },
    {
     "data": {
      "text/html": [
       "42.0990990990991"
      ],
      "text/latex": [
       "42.0990990990991"
      ],
      "text/markdown": [
       "42.0990990990991"
      ],
      "text/plain": [
       "[1] 42.0991"
      ]
     },
     "metadata": {},
     "output_type": "display_data"
    }
   ],
   "source": [
    "print(mean(na.omit(airquality$Ozone))) # na 함수를 이용해서 결측값 처리\n",
    "air_narm1 =na.omit(airquality)\n",
    "mean(air_narm1$Ozone) # na 함수를 이용해서 결측값 처리"
   ]
  },
  {
   "cell_type": "code",
   "execution_count": 19,
   "metadata": {},
   "outputs": [
    {
     "data": {
      "text/html": [
       "42.1293103448276"
      ],
      "text/latex": [
       "42.1293103448276"
      ],
      "text/markdown": [
       "42.1293103448276"
      ],
      "text/plain": [
       "[1] 42.12931"
      ]
     },
     "metadata": {},
     "output_type": "display_data"
    }
   ],
   "source": [
    "mean(airquality$Ozone, na.rm = T) # 함수 속성인 na.rm을 TRUE로 설정"
   ]
  },
  {
   "cell_type": "markdown",
   "metadata": {},
   "source": [
    "- 결측값과 더불어 데이터에는 논리적 혹은 **통계학적으로 이상한 데이터가 입력되어 있을 수 가 있다. (ex. 너무 높은 값, 작은 값) 이러한 데이터를 이상값(outlier)**이라 한다.\n",
    "- \"통계학에서 이상값이란 다른 관측값과 멀리 떨어진 관측값\""
   ]
  },
  {
   "cell_type": "code",
   "execution_count": 92,
   "metadata": {},
   "outputs": [
    {
     "data": {
      "text/html": [
       "<table>\n",
       "<thead><tr><th scope=col>name</th><th scope=col>age</th><th scope=col>gender</th><th scope=col>blood.type</th></tr></thead>\n",
       "<tbody>\n",
       "\t<tr><td>환자1</td><td>22   </td><td>M    </td><td>A    </td></tr>\n",
       "\t<tr><td>환자2</td><td>20   </td><td>F    </td><td>O    </td></tr>\n",
       "\t<tr><td>환자3</td><td>25   </td><td>M    </td><td>B    </td></tr>\n",
       "\t<tr><td>환자4</td><td>30   </td><td>K    </td><td>AB   </td></tr>\n",
       "\t<tr><td>환자5</td><td>27   </td><td>F    </td><td>C    </td></tr>\n",
       "</tbody>\n",
       "</table>\n"
      ],
      "text/latex": [
       "\\begin{tabular}{r|llll}\n",
       " name & age & gender & blood.type\\\\\n",
       "\\hline\n",
       "\t 환자1 & 22    & M     & A    \\\\\n",
       "\t 환자2 & 20    & F     & O    \\\\\n",
       "\t 환자3 & 25    & M     & B    \\\\\n",
       "\t 환자4 & 30    & K     & AB   \\\\\n",
       "\t 환자5 & 27    & F     & C    \\\\\n",
       "\\end{tabular}\n"
      ],
      "text/markdown": [
       "\n",
       "| name | age | gender | blood.type |\n",
       "|---|---|---|---|\n",
       "| 환자1 | 22    | M     | A     |\n",
       "| 환자2 | 20    | F     | O     |\n",
       "| 환자3 | 25    | M     | B     |\n",
       "| 환자4 | 30    | K     | AB    |\n",
       "| 환자5 | 27    | F     | C     |\n",
       "\n"
      ],
      "text/plain": [
       "  name  age gender blood.type\n",
       "1 환자1 22  M      A         \n",
       "2 환자2 20  F      O         \n",
       "3 환자3 25  M      B         \n",
       "4 환자4 30  K      AB        \n",
       "5 환자5 27  F      C         "
      ]
     },
     "metadata": {},
     "output_type": "display_data"
    }
   ],
   "source": [
    "patients = data.frame(name = c(\"환자1\" , \"환자2\", \"환자3\", \"환자4\", \"환자5\"), \n",
    "                      age = c(22, 20, 25, 30, 27), \n",
    "                      gender = factor(c(\"M\", \"F\", \"M\", \"K\", \"F\")) , \n",
    "                      blood.type=factor(c(\"A\", \"O\", \"B\", \"AB\", \"C\")))\n",
    "patients # gender에 K라는 이상값이 포함된 환자 데이터"
   ]
  },
  {
   "cell_type": "code",
   "execution_count": 93,
   "metadata": {},
   "outputs": [
    {
     "data": {
      "text/html": [
       "<table>\n",
       "<thead><tr><th></th><th scope=col>name</th><th scope=col>age</th><th scope=col>gender</th><th scope=col>blood.type</th></tr></thead>\n",
       "<tbody>\n",
       "\t<tr><th scope=row>1</th><td>환자1</td><td>22   </td><td>M    </td><td>A    </td></tr>\n",
       "\t<tr><th scope=row>2</th><td>환자2</td><td>20   </td><td>F    </td><td>O    </td></tr>\n",
       "\t<tr><th scope=row>3</th><td>환자3</td><td>25   </td><td>M    </td><td>B    </td></tr>\n",
       "\t<tr><th scope=row>5</th><td>환자5</td><td>27   </td><td>F    </td><td>C    </td></tr>\n",
       "</tbody>\n",
       "</table>\n"
      ],
      "text/latex": [
       "\\begin{tabular}{r|llll}\n",
       "  & name & age & gender & blood.type\\\\\n",
       "\\hline\n",
       "\t1 & 환자1 & 22    & M     & A    \\\\\n",
       "\t2 & 환자2 & 20    & F     & O    \\\\\n",
       "\t3 & 환자3 & 25    & M     & B    \\\\\n",
       "\t5 & 환자5 & 27    & F     & C    \\\\\n",
       "\\end{tabular}\n"
      ],
      "text/markdown": [
       "\n",
       "| <!--/--> | name | age | gender | blood.type |\n",
       "|---|---|---|---|---|\n",
       "| 1 | 환자1 | 22    | M     | A     |\n",
       "| 2 | 환자2 | 20    | F     | O     |\n",
       "| 3 | 환자3 | 25    | M     | B     |\n",
       "| 5 | 환자5 | 27    | F     | C     |\n",
       "\n"
      ],
      "text/plain": [
       "  name  age gender blood.type\n",
       "1 환자1 22  M      A         \n",
       "2 환자2 20  F      O         \n",
       "3 환자3 25  M      B         \n",
       "5 환자5 27  F      C         "
      ]
     },
     "metadata": {},
     "output_type": "display_data"
    }
   ],
   "source": [
    "# 성별에서 이상값 제거\n",
    "patients_outrm = patients[(patients$gender==\"M\" | patients$gender==\"F\"),] \n",
    "patients_outrm # ||가 아닌 | 한번만 써야한다."
   ]
  },
  {
   "cell_type": "code",
   "execution_count": 97,
   "metadata": {},
   "outputs": [
    {
     "data": {
      "text/html": [
       "<table>\n",
       "<thead><tr><th scope=col>name</th><th scope=col>age</th><th scope=col>gender</th><th scope=col>blood.type</th></tr></thead>\n",
       "<tbody>\n",
       "\t<tr><td>환자1</td><td>22   </td><td>M    </td><td>A    </td></tr>\n",
       "\t<tr><td>환자2</td><td>20   </td><td>F    </td><td>O    </td></tr>\n",
       "\t<tr><td>환자3</td><td>25   </td><td>M    </td><td>B    </td></tr>\n",
       "\t<tr><td>환자4</td><td>30   </td><td>NA   </td><td>AB   </td></tr>\n",
       "\t<tr><td>환자5</td><td>27   </td><td>F    </td><td>C    </td></tr>\n",
       "</tbody>\n",
       "</table>\n"
      ],
      "text/latex": [
       "\\begin{tabular}{r|llll}\n",
       " name & age & gender & blood.type\\\\\n",
       "\\hline\n",
       "\t 환자1 & 22    & M     & A    \\\\\n",
       "\t 환자2 & 20    & F     & O    \\\\\n",
       "\t 환자3 & 25    & M     & B    \\\\\n",
       "\t 환자4 & 30    & NA    & AB   \\\\\n",
       "\t 환자5 & 27    & F     & C    \\\\\n",
       "\\end{tabular}\n"
      ],
      "text/markdown": [
       "\n",
       "| name | age | gender | blood.type |\n",
       "|---|---|---|---|\n",
       "| 환자1 | 22    | M     | A     |\n",
       "| 환자2 | 20    | F     | O     |\n",
       "| 환자3 | 25    | M     | B     |\n",
       "| 환자4 | 30    | NA    | AB    |\n",
       "| 환자5 | 27    | F     | C     |\n",
       "\n"
      ],
      "text/plain": [
       "  name  age gender blood.type\n",
       "1 환자1 22  M      A         \n",
       "2 환자2 20  F      O         \n",
       "3 환자3 25  M      B         \n",
       "4 환자4 30  NA     AB        \n",
       "5 환자5 27  F      C         "
      ]
     },
     "metadata": {},
     "output_type": "display_data"
    }
   ],
   "source": [
    "patients$gender = ifelse((patients$gender == \"F\" | patients$gender == \"M\"), \n",
    "                        ifelse(patients$gender == \"F\", \"F\", \"M\"),  NA)\n",
    "patients"
   ]
  },
  {
   "cell_type": "code",
   "execution_count": 100,
   "metadata": {},
   "outputs": [
    {
     "data": {
      "text/html": [
       "<table>\n",
       "<thead><tr><th></th><th scope=col>name</th><th scope=col>age</th><th scope=col>gender</th><th scope=col>blood.type</th></tr></thead>\n",
       "<tbody>\n",
       "\t<tr><th scope=row>1</th><td>환자1</td><td>22   </td><td>M    </td><td>A    </td></tr>\n",
       "\t<tr><th scope=row>2</th><td>환자2</td><td>20   </td><td>F    </td><td>O    </td></tr>\n",
       "\t<tr><th scope=row>3</th><td>환자3</td><td>25   </td><td>M    </td><td>B    </td></tr>\n",
       "\t<tr><th scope=row>5</th><td>환자5</td><td>27   </td><td>F    </td><td>C    </td></tr>\n",
       "</tbody>\n",
       "</table>\n"
      ],
      "text/latex": [
       "\\begin{tabular}{r|llll}\n",
       "  & name & age & gender & blood.type\\\\\n",
       "\\hline\n",
       "\t1 & 환자1 & 22    & M     & A    \\\\\n",
       "\t2 & 환자2 & 20    & F     & O    \\\\\n",
       "\t3 & 환자3 & 25    & M     & B    \\\\\n",
       "\t5 & 환자5 & 27    & F     & C    \\\\\n",
       "\\end{tabular}\n"
      ],
      "text/markdown": [
       "\n",
       "| <!--/--> | name | age | gender | blood.type |\n",
       "|---|---|---|---|---|\n",
       "| 1 | 환자1 | 22    | M     | A     |\n",
       "| 2 | 환자2 | 20    | F     | O     |\n",
       "| 3 | 환자3 | 25    | M     | B     |\n",
       "| 5 | 환자5 | 27    | F     | C     |\n",
       "\n"
      ],
      "text/plain": [
       "  name  age gender blood.type\n",
       "1 환자1 22  M      A         \n",
       "2 환자2 20  F      O         \n",
       "3 환자3 25  M      B         \n",
       "5 환자5 27  F      C         "
      ]
     },
     "metadata": {},
     "output_type": "display_data"
    }
   ],
   "source": [
    "patients[!is.na(patients$gender),] # 결측값 모두 제거"
   ]
  },
  {
   "cell_type": "markdown",
   "metadata": {},
   "source": [
    "#### boxplot을 이용해서 정상값과 이상값을 구분해보자\n",
    "**boxplot 해석법은 ppt 꼭 확인!!!**"
   ]
  },
  {
   "cell_type": "code",
   "execution_count": 107,
   "metadata": {},
   "outputs": [
    {
     "data": {
      "image/png": "[encoded data removed]",
      "text/plain": [
       "plot without title"
      ]
     },
     "metadata": {},
     "output_type": "display_data"
    }
   ],
   "source": [
    "boxplot(airquality[, c(1:4)])"
   ]
  },
  {
   "cell_type": "code",
   "execution_count": 110,
   "metadata": {},
   "outputs": [
    {
     "data": {
      "text/html": [
       "<ol class=list-inline>\n",
       "\t<li>1</li>\n",
       "\t<li>18</li>\n",
       "\t<li>31.5</li>\n",
       "\t<li>63.5</li>\n",
       "\t<li>122</li>\n",
       "</ol>\n"
      ],
      "text/latex": [
       "\\begin{enumerate*}\n",
       "\\item 1\n",
       "\\item 18\n",
       "\\item 31.5\n",
       "\\item 63.5\n",
       "\\item 122\n",
       "\\end{enumerate*}\n"
      ],
      "text/markdown": [
       "1. 1\n",
       "2. 18\n",
       "3. 31.5\n",
       "4. 63.5\n",
       "5. 122\n",
       "\n",
       "\n"
      ],
      "text/plain": [
       "      [,1]\n",
       "[1,]   1.0\n",
       "[2,]  18.0\n",
       "[3,]  31.5\n",
       "[4,]  63.5\n",
       "[5,] 122.0\n",
       "attr(,\"class\")\n",
       "        1 \n",
       "\"integer\" "
      ]
     },
     "metadata": {},
     "output_type": "display_data"
    },
    {
     "data": {
      "image/png": "[encoded data removed]",
      "text/plain": [
       "plot without title"
      ]
     },
     "metadata": {},
     "output_type": "display_data"
    }
   ],
   "source": [
    "boxplot(airquality[, 1])$stats \n",
    "# stas는 (최소값, 1사분위수(상위 25%), 중앙값 , 3사분위수(상위 75%), 최대값)"
   ]
  },
  {
   "cell_type": "code",
   "execution_count": 125,
   "metadata": {},
   "outputs": [
    {
     "data": {
      "text/plain": [
       "\n",
       "FALSE  TRUE \n",
       "  116    37 "
      ]
     },
     "metadata": {},
     "output_type": "display_data"
    }
   ],
   "source": [
    "air = airquality # 임시 저장한 변수로 airquality 데이터 복사\n",
    "table(is.na(air$Ozone)) # Ozone의 현재 NA개수 확인"
   ]
  },
  {
   "cell_type": "code",
   "execution_count": 126,
   "metadata": {},
   "outputs": [
    {
     "data": {
      "text/plain": [
       "\n",
       "FALSE  TRUE \n",
       "  114    39 "
      ]
     },
     "metadata": {},
     "output_type": "display_data"
    }
   ],
   "source": [
    "#이상값을 NA로 변경\n",
    "air$Ozone = ifelse(air$Ozone<1|air$Ozone>122, NA, air$Ozone)\n",
    "table(is.na(air$Ozone)) # 이상값 처리 후 NA 개수 확인(2개 증가)\n",
    "# 이상값 x = 3사분위 + (3사분위(75%)- 1사분위(25%)) < x or\n",
    "#            1사분위 - (3사분위(75%)- 1사분위(25%)) > x 인 값"
   ]
  },
  {
   "cell_type": "code",
   "execution_count": 140,
   "metadata": {},
   "outputs": [
    {
     "data": {
      "text/html": [
       "40.2105263157895"
      ],
      "text/latex": [
       "40.2105263157895"
      ],
      "text/markdown": [
       "40.2105263157895"
      ],
      "text/plain": [
       "[1] 40.21053"
      ]
     },
     "metadata": {},
     "output_type": "display_data"
    }
   ],
   "source": [
    "# NA 제거\n",
    "air_narm = air[!is.na(air$Ozone), ]\n",
    "mean(air_narm$Ozone) # 이상치 제거한 평균"
   ]
  },
  {
   "cell_type": "code",
   "execution_count": 141,
   "metadata": {},
   "outputs": [
    {
     "data": {
      "text/html": [
       "42.1293103448276"
      ],
      "text/latex": [
       "42.1293103448276"
      ],
      "text/markdown": [
       "42.1293103448276"
      ],
      "text/plain": [
       "[1] 42.12931"
      ]
     },
     "metadata": {},
     "output_type": "display_data"
    }
   ],
   "source": [
    "mean(airquality[!is.na(airquality$Ozone), ]$Ozone) # 이상치 제거안한 값"
   ]
  },
  {
   "cell_type": "code",
   "execution_count": 143,
   "metadata": {},
   "outputs": [],
   "source": []
  },
  {
   "cell_type": "code",
   "execution_count": null,
   "metadata": {},
   "outputs": [],
   "source": []
  }
 ],
 "metadata": {
  "kernelspec": {
   "display_name": "R",
   "language": "R",
   "name": "ir"
  },
  "language_info": {
   "codemirror_mode": "r",
   "file_extension": ".r",
   "mimetype": "text/x-r-source",
   "name": "R",
   "pygments_lexer": "r",
   "version": "3.6.1"
  }
 },
 "nbformat": 4,
 "nbformat_minor": 4
}
