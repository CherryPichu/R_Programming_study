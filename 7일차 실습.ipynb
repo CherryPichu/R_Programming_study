{
 "cells": [
  {
   "cell_type": "code",
   "execution_count": 3,
   "metadata": {},
   "outputs": [
    {
     "ename": "ERROR",
     "evalue": "Error in df %>% select(SLG, OBP) %>% arrange(desc(SLG), desc(OBP)) %>% : 함수 \"%>%\"를 찾을 수 없습니다\n",
     "output_type": "error",
     "traceback": [
      "Error in df %>% select(SLG, OBP) %>% arrange(desc(SLG), desc(OBP)) %>% : 함수 \"%>%\"를 찾을 수 없습니다\nTraceback:\n"
     ]
    }
   ],
   "source": [
    "df %>% select(SLG, OBP) %>% arrange(desc(SLG) , desc(OBP)) %>% tail(10)\n",
    "# NA는 ascending or descending 상관없이 맨 아래!!!"
   ]
  },
  {
   "cell_type": "code",
   "execution_count": null,
   "metadata": {},
   "outputs": [],
   "source": [
    "# R 스크립트 7주차 확인"
   ]
  }
 ],
 "metadata": {
  "kernelspec": {
   "display_name": "R",
   "language": "R",
   "name": "ir"
  },
  "language_info": {
   "codemirror_mode": "r",
   "file_extension": ".r",
   "mimetype": "text/x-r-source",
   "name": "R",
   "pygments_lexer": "r",
   "version": "3.6.1"
  }
 },
 "nbformat": 4,
 "nbformat_minor": 4
}
