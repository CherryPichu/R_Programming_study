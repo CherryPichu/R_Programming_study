{
 "cells": [
  {
   "cell_type": "markdown",
   "metadata": {},
   "source": [
    "#### 배열 : 열과 행으로 구성된 데이터\n",
    " - array 함수 : N차원 배열 생성 ex) array(data, dimensions(차원), dimnames)"
   ]
  },
  {
   "cell_type": "code",
   "execution_count": 7,
   "metadata": {},
   "outputs": [
    {
     "data": {
      "text/html": [
       "<table>\n",
       "<tbody>\n",
       "\t<tr><td>1</td><td>3</td><td>5</td><td>2</td></tr>\n",
       "\t<tr><td>2</td><td>4</td><td>1</td><td>3</td></tr>\n",
       "</tbody>\n",
       "</table>\n"
      ],
      "text/latex": [
       "\\begin{tabular}{llll}\n",
       "\t 1 & 3 & 5 & 2\\\\\n",
       "\t 2 & 4 & 1 & 3\\\\\n",
       "\\end{tabular}\n"
      ],
      "text/markdown": [
       "\n",
       "| 1 | 3 | 5 | 2 |\n",
       "| 2 | 4 | 1 | 3 |\n",
       "\n"
      ],
      "text/plain": [
       "     [,1] [,2] [,3] [,4]\n",
       "[1,] 1    3    5    2   \n",
       "[2,] 2    4    1    3   "
      ]
     },
     "metadata": {},
     "output_type": "display_data"
    }
   ],
   "source": [
    "# N차월 배열 생성\n",
    "x = array(1:5 , c(2,4)) # 1~5 값을 2x4 행렬에 할당\n",
    "x"
   ]
  },
  {
   "cell_type": "code",
   "execution_count": 8,
   "metadata": {},
   "outputs": [
    {
     "data": {
      "text/html": [
       "<ol class=list-inline>\n",
       "\t<li>1</li>\n",
       "\t<li>3</li>\n",
       "\t<li>5</li>\n",
       "\t<li>2</li>\n",
       "</ol>\n"
      ],
      "text/latex": [
       "\\begin{enumerate*}\n",
       "\\item 1\n",
       "\\item 3\n",
       "\\item 5\n",
       "\\item 2\n",
       "\\end{enumerate*}\n"
      ],
      "text/markdown": [
       "1. 1\n",
       "2. 3\n",
       "3. 5\n",
       "4. 2\n",
       "\n",
       "\n"
      ],
      "text/plain": [
       "[1] 1 3 5 2"
      ]
     },
     "metadata": {},
     "output_type": "display_data"
    }
   ],
   "source": [
    "x[1, ] # 1행 요소 값 출력"
   ]
  },
  {
   "cell_type": "code",
   "execution_count": 9,
   "metadata": {},
   "outputs": [
    {
     "data": {
      "text/html": [
       "<ol class=list-inline>\n",
       "\t<li>3</li>\n",
       "\t<li>4</li>\n",
       "</ol>\n"
      ],
      "text/latex": [
       "\\begin{enumerate*}\n",
       "\\item 3\n",
       "\\item 4\n",
       "\\end{enumerate*}\n"
      ],
      "text/markdown": [
       "1. 3\n",
       "2. 4\n",
       "\n",
       "\n"
      ],
      "text/plain": [
       "[1] 3 4"
      ]
     },
     "metadata": {},
     "output_type": "display_data"
    }
   ],
   "source": [
    "x[, 2] # 2열 요소 값 출력"
   ]
  },
  {
   "cell_type": "markdown",
   "metadata": {},
   "source": [
    "#### matrix 함수 : 2차원 배열 생성   ex) Matrix(data, nrow, ncol, byrow, dimnames)\n",
    " - data : 행렬로 구성할 벡터\n",
    " - nrow : 행과 열 수 중 하나 결정\n",
    " - byrow : 데이터를 행 단위로 배치할지 여부(T/F)\n",
    " - dimanme : 행과 열 이름 목록도 추가 가능"
   ]
  },
  {
   "cell_type": "code",
   "execution_count": 14,
   "metadata": {},
   "outputs": [
    {
     "data": {
      "text/html": [
       "<table>\n",
       "<tbody>\n",
       "\t<tr><td>1 </td><td>4 </td><td>7 </td><td>10</td></tr>\n",
       "\t<tr><td>2 </td><td>5 </td><td>8 </td><td>11</td></tr>\n",
       "\t<tr><td>3 </td><td>6 </td><td>9 </td><td>12</td></tr>\n",
       "</tbody>\n",
       "</table>\n"
      ],
      "text/latex": [
       "\\begin{tabular}{llll}\n",
       "\t 1  & 4  & 7  & 10\\\\\n",
       "\t 2  & 5  & 8  & 11\\\\\n",
       "\t 3  & 6  & 9  & 12\\\\\n",
       "\\end{tabular}\n"
      ],
      "text/markdown": [
       "\n",
       "| 1  | 4  | 7  | 10 |\n",
       "| 2  | 5  | 8  | 11 |\n",
       "| 3  | 6  | 9  | 12 |\n",
       "\n"
      ],
      "text/plain": [
       "     [,1] [,2] [,3] [,4]\n",
       "[1,] 1    4    7    10  \n",
       "[2,] 2    5    8    11  \n",
       "[3,] 3    6    9    12  "
      ]
     },
     "metadata": {},
     "output_type": "display_data"
    }
   ],
   "source": [
    "# 2차운 배열 생성\n",
    "x = 1:12\n",
    "matrix(x, nrow=3) # data : 행렬로 구성할 벡터\n",
    "# nrow : 행과 열 수 중 하나 결정"
   ]
  },
  {
   "cell_type": "code",
   "execution_count": 15,
   "metadata": {},
   "outputs": [
    {
     "data": {
      "text/html": [
       "<table>\n",
       "<tbody>\n",
       "\t<tr><td>1 </td><td> 2</td><td> 3</td><td> 4</td></tr>\n",
       "\t<tr><td>5 </td><td> 6</td><td> 7</td><td> 8</td></tr>\n",
       "\t<tr><td>9 </td><td>10</td><td>11</td><td>12</td></tr>\n",
       "</tbody>\n",
       "</table>\n"
      ],
      "text/latex": [
       "\\begin{tabular}{llll}\n",
       "\t 1  &  2 &  3 &  4\\\\\n",
       "\t 5  &  6 &  7 &  8\\\\\n",
       "\t 9  & 10 & 11 & 12\\\\\n",
       "\\end{tabular}\n"
      ],
      "text/markdown": [
       "\n",
       "| 1  |  2 |  3 |  4 |\n",
       "| 5  |  6 |  7 |  8 |\n",
       "| 9  | 10 | 11 | 12 |\n",
       "\n"
      ],
      "text/plain": [
       "     [,1] [,2] [,3] [,4]\n",
       "[1,] 1     2    3    4  \n",
       "[2,] 5     6    7    8  \n",
       "[3,] 9    10   11   12  "
      ]
     },
     "metadata": {},
     "output_type": "display_data"
    }
   ],
   "source": [
    "matrix(x, nrow=3, byrow = T) # byrow : 데이터를 행 단위로 배치할지 여부(T/F)\n",
    "# dimanme : 행과 열 이름 목록도 추가 가능"
   ]
  },
  {
   "cell_type": "markdown",
   "metadata": {},
   "source": [
    "#### cbind / rbind 함수 : 열(c)/행(r) 단위로 묶어 배열 생성"
   ]
  },
  {
   "cell_type": "code",
   "execution_count": 16,
   "metadata": {},
   "outputs": [
    {
     "data": {
      "text/html": [
       "<table>\n",
       "<thead><tr><th scope=col>v1</th><th scope=col>v2</th><th scope=col>v3</th></tr></thead>\n",
       "<tbody>\n",
       "\t<tr><td>1 </td><td>5 </td><td> 9</td></tr>\n",
       "\t<tr><td>2 </td><td>6 </td><td>10</td></tr>\n",
       "\t<tr><td>3 </td><td>7 </td><td>11</td></tr>\n",
       "\t<tr><td>4 </td><td>8 </td><td>12</td></tr>\n",
       "</tbody>\n",
       "</table>\n"
      ],
      "text/latex": [
       "\\begin{tabular}{lll}\n",
       " v1 & v2 & v3\\\\\n",
       "\\hline\n",
       "\t 1  & 5  &  9\\\\\n",
       "\t 2  & 6  & 10\\\\\n",
       "\t 3  & 7  & 11\\\\\n",
       "\t 4  & 8  & 12\\\\\n",
       "\\end{tabular}\n"
      ],
      "text/markdown": [
       "\n",
       "| v1 | v2 | v3 |\n",
       "|---|---|---|\n",
       "| 1  | 5  |  9 |\n",
       "| 2  | 6  | 10 |\n",
       "| 3  | 7  | 11 |\n",
       "| 4  | 8  | 12 |\n",
       "\n"
      ],
      "text/plain": [
       "     v1 v2 v3\n",
       "[1,] 1  5   9\n",
       "[2,] 2  6  10\n",
       "[3,] 3  7  11\n",
       "[4,] 4  8  12"
      ]
     },
     "metadata": {},
     "output_type": "display_data"
    }
   ],
   "source": [
    "# 벡터를 묶어 배열 생성\n",
    "v1 = c(1, 2, 3 ,4)\n",
    "v2 = c(5, 6, 7 ,8)\n",
    "v3 = c(9, 10, 11, 12)\n",
    "\n",
    "cbind(v1, v2, v3) # 열 단위로 묶어 배열 생성"
   ]
  },
  {
   "cell_type": "code",
   "execution_count": 17,
   "metadata": {},
   "outputs": [
    {
     "data": {
      "text/html": [
       "<table>\n",
       "<tbody>\n",
       "\t<tr><th scope=row>v1</th><td>1 </td><td> 2</td><td> 3</td><td> 4</td></tr>\n",
       "\t<tr><th scope=row>v2</th><td>5 </td><td> 6</td><td> 7</td><td> 8</td></tr>\n",
       "\t<tr><th scope=row>v3</th><td>9 </td><td>10</td><td>11</td><td>12</td></tr>\n",
       "</tbody>\n",
       "</table>\n"
      ],
      "text/latex": [
       "\\begin{tabular}{r|llll}\n",
       "\tv1 & 1  &  2 &  3 &  4\\\\\n",
       "\tv2 & 5  &  6 &  7 &  8\\\\\n",
       "\tv3 & 9  & 10 & 11 & 12\\\\\n",
       "\\end{tabular}\n"
      ],
      "text/markdown": [
       "\n",
       "| v1 | 1  |  2 |  3 |  4 |\n",
       "| v2 | 5  |  6 |  7 |  8 |\n",
       "| v3 | 9  | 10 | 11 | 12 |\n",
       "\n"
      ],
      "text/plain": [
       "   [,1] [,2] [,3] [,4]\n",
       "v1 1     2    3    4  \n",
       "v2 5     6    7    8  \n",
       "v3 9    10   11   12  "
      ]
     },
     "metadata": {},
     "output_type": "display_data"
    }
   ],
   "source": [
    "rbind(v1, v2, v3) # 행 단위로 묶어 배열 생성"
   ]
  },
  {
   "cell_type": "markdown",
   "metadata": {},
   "source": [
    "#### 배열(행렬) 연산자\n",
    "\n",
    "|연산자|설명|\n",
    "|----|-----------|\n",
    "|+, -|행렬의 덧셈과 뺄셈|\n",
    "|\\*| R에서의 행렬 곱셈(각 열별 곱셈)|\n",
    "|%\\*% | 수학적인 행렬 곰셉|\n",
    "|t(), aperm() | 전치 행렬|\n",
    "|solve() | 역행렬|\n",
    "|det() | 행렬식|"
   ]
  },
  {
   "cell_type": "code",
   "execution_count": 19,
   "metadata": {},
   "outputs": [
    {
     "data": {
      "text/html": [
       "'x'"
      ],
      "text/latex": [
       "'x'"
      ],
      "text/markdown": [
       "'x'"
      ],
      "text/plain": [
       "[1] \"x\""
      ]
     },
     "metadata": {},
     "output_type": "display_data"
    },
    {
     "data": {
      "text/html": [
       "<table>\n",
       "<tbody>\n",
       "\t<tr><td>1</td><td>3</td></tr>\n",
       "\t<tr><td>2</td><td>4</td></tr>\n",
       "</tbody>\n",
       "</table>\n"
      ],
      "text/latex": [
       "\\begin{tabular}{ll}\n",
       "\t 1 & 3\\\\\n",
       "\t 2 & 4\\\\\n",
       "\\end{tabular}\n"
      ],
      "text/markdown": [
       "\n",
       "| 1 | 3 |\n",
       "| 2 | 4 |\n",
       "\n"
      ],
      "text/plain": [
       "     [,1] [,2]\n",
       "[1,] 1    3   \n",
       "[2,] 2    4   "
      ]
     },
     "metadata": {},
     "output_type": "display_data"
    },
    {
     "data": {
      "text/html": [
       "'y'"
      ],
      "text/latex": [
       "'y'"
      ],
      "text/markdown": [
       "'y'"
      ],
      "text/plain": [
       "[1] \"y\""
      ]
     },
     "metadata": {},
     "output_type": "display_data"
    },
    {
     "data": {
      "text/html": [
       "<table>\n",
       "<tbody>\n",
       "\t<tr><td>5</td><td>7</td></tr>\n",
       "\t<tr><td>6</td><td>8</td></tr>\n",
       "</tbody>\n",
       "</table>\n"
      ],
      "text/latex": [
       "\\begin{tabular}{ll}\n",
       "\t 5 & 7\\\\\n",
       "\t 6 & 8\\\\\n",
       "\\end{tabular}\n"
      ],
      "text/markdown": [
       "\n",
       "| 5 | 7 |\n",
       "| 6 | 8 |\n",
       "\n"
      ],
      "text/plain": [
       "     [,1] [,2]\n",
       "[1,] 5    7   \n",
       "[2,] 6    8   "
      ]
     },
     "metadata": {},
     "output_type": "display_data"
    }
   ],
   "source": [
    "# 배열 연산 예제\n",
    "x = array(1:4, dim = c(2,2))\n",
    "y = array(5:8, dim = c(2,2))\n",
    "\"x\"\n",
    "x\n",
    "\"y\"\n",
    "y"
   ]
  },
  {
   "cell_type": "code",
   "execution_count": 20,
   "metadata": {},
   "outputs": [
    {
     "data": {
      "text/html": [
       "<table>\n",
       "<tbody>\n",
       "\t<tr><td>6 </td><td>10</td></tr>\n",
       "\t<tr><td>8 </td><td>12</td></tr>\n",
       "</tbody>\n",
       "</table>\n"
      ],
      "text/latex": [
       "\\begin{tabular}{ll}\n",
       "\t 6  & 10\\\\\n",
       "\t 8  & 12\\\\\n",
       "\\end{tabular}\n"
      ],
      "text/markdown": [
       "\n",
       "| 6  | 10 |\n",
       "| 8  | 12 |\n",
       "\n"
      ],
      "text/plain": [
       "     [,1] [,2]\n",
       "[1,] 6    10  \n",
       "[2,] 8    12  "
      ]
     },
     "metadata": {},
     "output_type": "display_data"
    }
   ],
   "source": [
    "x+y"
   ]
  },
  {
   "cell_type": "code",
   "execution_count": 21,
   "metadata": {},
   "outputs": [
    {
     "data": {
      "text/html": [
       "<table>\n",
       "<tbody>\n",
       "\t<tr><td>-4</td><td>-4</td></tr>\n",
       "\t<tr><td>-4</td><td>-4</td></tr>\n",
       "</tbody>\n",
       "</table>\n"
      ],
      "text/latex": [
       "\\begin{tabular}{ll}\n",
       "\t -4 & -4\\\\\n",
       "\t -4 & -4\\\\\n",
       "\\end{tabular}\n"
      ],
      "text/markdown": [
       "\n",
       "| -4 | -4 |\n",
       "| -4 | -4 |\n",
       "\n"
      ],
      "text/plain": [
       "     [,1] [,2]\n",
       "[1,] -4   -4  \n",
       "[2,] -4   -4  "
      ]
     },
     "metadata": {},
     "output_type": "display_data"
    }
   ],
   "source": [
    "x-y"
   ]
  },
  {
   "cell_type": "code",
   "execution_count": 22,
   "metadata": {},
   "outputs": [
    {
     "data": {
      "text/html": [
       "<table>\n",
       "<tbody>\n",
       "\t<tr><td> 5</td><td>21</td></tr>\n",
       "\t<tr><td>12</td><td>32</td></tr>\n",
       "</tbody>\n",
       "</table>\n"
      ],
      "text/latex": [
       "\\begin{tabular}{ll}\n",
       "\t  5 & 21\\\\\n",
       "\t 12 & 32\\\\\n",
       "\\end{tabular}\n"
      ],
      "text/markdown": [
       "\n",
       "|  5 | 21 |\n",
       "| 12 | 32 |\n",
       "\n"
      ],
      "text/plain": [
       "     [,1] [,2]\n",
       "[1,]  5   21  \n",
       "[2,] 12   32  "
      ]
     },
     "metadata": {},
     "output_type": "display_data"
    }
   ],
   "source": [
    "x * y"
   ]
  },
  {
   "cell_type": "code",
   "execution_count": 23,
   "metadata": {},
   "outputs": [
    {
     "data": {
      "text/html": [
       "<table>\n",
       "<tbody>\n",
       "\t<tr><td>23</td><td>31</td></tr>\n",
       "\t<tr><td>34</td><td>46</td></tr>\n",
       "</tbody>\n",
       "</table>\n"
      ],
      "text/latex": [
       "\\begin{tabular}{ll}\n",
       "\t 23 & 31\\\\\n",
       "\t 34 & 46\\\\\n",
       "\\end{tabular}\n"
      ],
      "text/markdown": [
       "\n",
       "| 23 | 31 |\n",
       "| 34 | 46 |\n",
       "\n"
      ],
      "text/plain": [
       "     [,1] [,2]\n",
       "[1,] 23   31  \n",
       "[2,] 34   46  "
      ]
     },
     "metadata": {},
     "output_type": "display_data"
    }
   ],
   "source": [
    "x %*% y"
   ]
  },
  {
   "cell_type": "code",
   "execution_count": 24,
   "metadata": {},
   "outputs": [
    {
     "data": {
      "text/html": [
       "<table>\n",
       "<tbody>\n",
       "\t<tr><td>1</td><td>2</td></tr>\n",
       "\t<tr><td>3</td><td>4</td></tr>\n",
       "</tbody>\n",
       "</table>\n"
      ],
      "text/latex": [
       "\\begin{tabular}{ll}\n",
       "\t 1 & 2\\\\\n",
       "\t 3 & 4\\\\\n",
       "\\end{tabular}\n"
      ],
      "text/markdown": [
       "\n",
       "| 1 | 2 |\n",
       "| 3 | 4 |\n",
       "\n"
      ],
      "text/plain": [
       "     [,1] [,2]\n",
       "[1,] 1    2   \n",
       "[2,] 3    4   "
      ]
     },
     "metadata": {},
     "output_type": "display_data"
    }
   ],
   "source": [
    "t(x)"
   ]
  },
  {
   "cell_type": "code",
   "execution_count": 25,
   "metadata": {},
   "outputs": [
    {
     "data": {
      "text/html": [
       "<table>\n",
       "<tbody>\n",
       "\t<tr><td>-2  </td><td> 1.5</td></tr>\n",
       "\t<tr><td> 1  </td><td>-0.5</td></tr>\n",
       "</tbody>\n",
       "</table>\n"
      ],
      "text/latex": [
       "\\begin{tabular}{ll}\n",
       "\t -2   &  1.5\\\\\n",
       "\t  1   & -0.5\\\\\n",
       "\\end{tabular}\n"
      ],
      "text/markdown": [
       "\n",
       "| -2   |  1.5 |\n",
       "|  1   | -0.5 |\n",
       "\n"
      ],
      "text/plain": [
       "     [,1] [,2]\n",
       "[1,] -2    1.5\n",
       "[2,]  1   -0.5"
      ]
     },
     "metadata": {},
     "output_type": "display_data"
    }
   ],
   "source": [
    "solve(x)"
   ]
  },
  {
   "cell_type": "code",
   "execution_count": 27,
   "metadata": {},
   "outputs": [
    {
     "data": {
      "text/html": [
       "-2"
      ],
      "text/latex": [
       "-2"
      ],
      "text/markdown": [
       "-2"
      ],
      "text/plain": [
       "[1] -2"
      ]
     },
     "metadata": {},
     "output_type": "display_data"
    }
   ],
   "source": [
    "det(x) "
   ]
  },
  {
   "cell_type": "markdown",
   "metadata": {},
   "source": [
    "#### 배열 연산에 유용한 함수\n",
    " - apply 함수 : 배열의 행 또는 일별로 함수 적용\n",
    " - apply(x, MARGIN, FUN, optional arguments to FUM)\n",
    "  - x : 행렬 델이터\n",
    "  - margin :가운데 값\n",
    "  - FUN : 연산을 수행할 함수"
   ]
  },
  {
   "cell_type": "code",
   "execution_count": 28,
   "metadata": {},
   "outputs": [
    {
     "data": {
      "text/html": [
       "<table>\n",
       "<tbody>\n",
       "\t<tr><td>1 </td><td>4 </td><td>7 </td><td>10</td></tr>\n",
       "\t<tr><td>2 </td><td>5 </td><td>8 </td><td>11</td></tr>\n",
       "\t<tr><td>3 </td><td>6 </td><td>9 </td><td>12</td></tr>\n",
       "</tbody>\n",
       "</table>\n"
      ],
      "text/latex": [
       "\\begin{tabular}{llll}\n",
       "\t 1  & 4  & 7  & 10\\\\\n",
       "\t 2  & 5  & 8  & 11\\\\\n",
       "\t 3  & 6  & 9  & 12\\\\\n",
       "\\end{tabular}\n"
      ],
      "text/markdown": [
       "\n",
       "| 1  | 4  | 7  | 10 |\n",
       "| 2  | 5  | 8  | 11 |\n",
       "| 3  | 6  | 9  | 12 |\n",
       "\n"
      ],
      "text/plain": [
       "     [,1] [,2] [,3] [,4]\n",
       "[1,] 1    4    7    10  \n",
       "[2,] 2    5    8    11  \n",
       "[3,] 3    6    9    12  "
      ]
     },
     "metadata": {},
     "output_type": "display_data"
    }
   ],
   "source": [
    "x = array(1:12, c(3,4))\n",
    "x"
   ]
  },
  {
   "cell_type": "code",
   "execution_count": 32,
   "metadata": {},
   "outputs": [
    {
     "data": {
      "text/html": [
       "<ol class=list-inline>\n",
       "\t<li>5.5</li>\n",
       "\t<li>6.5</li>\n",
       "\t<li>7.5</li>\n",
       "</ol>\n"
      ],
      "text/latex": [
       "\\begin{enumerate*}\n",
       "\\item 5.5\n",
       "\\item 6.5\n",
       "\\item 7.5\n",
       "\\end{enumerate*}\n"
      ],
      "text/markdown": [
       "1. 5.5\n",
       "2. 6.5\n",
       "3. 7.5\n",
       "\n",
       "\n"
      ],
      "text/plain": [
       "[1] 5.5 6.5 7.5"
      ]
     },
     "metadata": {},
     "output_type": "display_data"
    }
   ],
   "source": [
    "apply(x, 1, mean) # 가운데 값이 이면 함수를 행펼로 적용\n",
    "# x : 행렬 델이터\n",
    "# margin :가운데 값\n",
    "# FUN : 연산을 수행할 함수"
   ]
  },
  {
   "cell_type": "markdown",
   "metadata": {},
   "source": [
    "#### dim 함수 : 배열의 크기(차원이 수)"
   ]
  },
  {
   "cell_type": "code",
   "execution_count": 34,
   "metadata": {},
   "outputs": [
    {
     "data": {
      "text/html": [
       "<ol class=list-inline>\n",
       "\t<li>3</li>\n",
       "\t<li>4</li>\n",
       "</ol>\n"
      ],
      "text/latex": [
       "\\begin{enumerate*}\n",
       "\\item 3\n",
       "\\item 4\n",
       "\\end{enumerate*}\n"
      ],
      "text/markdown": [
       "1. 3\n",
       "2. 4\n",
       "\n",
       "\n"
      ],
      "text/plain": [
       "[1] 3 4"
      ]
     },
     "metadata": {},
     "output_type": "display_data"
    }
   ],
   "source": [
    "x = array(1:12 , c(3, 4))\n",
    "dim(x)"
   ]
  },
  {
   "cell_type": "markdown",
   "metadata": {},
   "source": [
    "#### sample 함수 : 벡터나 배열에서 샘플 추출\n",
    " - sample(x, size, replace = FALSE , prob = NULL)"
   ]
  },
  {
   "cell_type": "code",
   "execution_count": 2,
   "metadata": {},
   "outputs": [
    {
     "data": {
      "text/html": [
       "<ol class=list-inline>\n",
       "\t<li>6</li>\n",
       "\t<li>1</li>\n",
       "\t<li>9</li>\n",
       "\t<li>11</li>\n",
       "\t<li>4</li>\n",
       "\t<li>10</li>\n",
       "\t<li>3</li>\n",
       "\t<li>8</li>\n",
       "\t<li>5</li>\n",
       "\t<li>7</li>\n",
       "\t<li>2</li>\n",
       "\t<li>12</li>\n",
       "</ol>\n"
      ],
      "text/latex": [
       "\\begin{enumerate*}\n",
       "\\item 6\n",
       "\\item 1\n",
       "\\item 9\n",
       "\\item 11\n",
       "\\item 4\n",
       "\\item 10\n",
       "\\item 3\n",
       "\\item 8\n",
       "\\item 5\n",
       "\\item 7\n",
       "\\item 2\n",
       "\\item 12\n",
       "\\end{enumerate*}\n"
      ],
      "text/markdown": [
       "1. 6\n",
       "2. 1\n",
       "3. 9\n",
       "4. 11\n",
       "5. 4\n",
       "6. 10\n",
       "7. 3\n",
       "8. 8\n",
       "9. 5\n",
       "10. 7\n",
       "11. 2\n",
       "12. 12\n",
       "\n",
       "\n"
      ],
      "text/plain": [
       " [1]  6  1  9 11  4 10  3  8  5  7  2 12"
      ]
     },
     "metadata": {},
     "output_type": "display_data"
    }
   ],
   "source": [
    "x = array(1:12 , c(3,4))\n",
    "sample(x) # 배열 요소를 임의로 섞어 추출"
   ]
  },
  {
   "cell_type": "code",
   "execution_count": 4,
   "metadata": {},
   "outputs": [
    {
     "data": {
      "text/html": [
       "<ol class=list-inline>\n",
       "\t<li>11</li>\n",
       "\t<li>3</li>\n",
       "\t<li>4</li>\n",
       "\t<li>8</li>\n",
       "\t<li>1</li>\n",
       "\t<li>9</li>\n",
       "\t<li>10</li>\n",
       "\t<li>7</li>\n",
       "\t<li>12</li>\n",
       "\t<li>6</li>\n",
       "</ol>\n"
      ],
      "text/latex": [
       "\\begin{enumerate*}\n",
       "\\item 11\n",
       "\\item 3\n",
       "\\item 4\n",
       "\\item 8\n",
       "\\item 1\n",
       "\\item 9\n",
       "\\item 10\n",
       "\\item 7\n",
       "\\item 12\n",
       "\\item 6\n",
       "\\end{enumerate*}\n"
      ],
      "text/markdown": [
       "1. 11\n",
       "2. 3\n",
       "3. 4\n",
       "4. 8\n",
       "5. 1\n",
       "6. 9\n",
       "7. 10\n",
       "8. 7\n",
       "9. 12\n",
       "10. 6\n",
       "\n",
       "\n"
      ],
      "text/plain": [
       " [1] 11  3  4  8  1  9 10  7 12  6"
      ]
     },
     "metadata": {},
     "output_type": "display_data"
    }
   ],
   "source": [
    "sample(x, 10) # 배열 요소 중 10개를 골라 추출"
   ]
  },
  {
   "cell_type": "code",
   "execution_count": 5,
   "metadata": {},
   "outputs": [
    {
     "data": {
      "text/html": [
       "<ol class=list-inline>\n",
       "\t<li>9</li>\n",
       "\t<li>6</li>\n",
       "\t<li>5</li>\n",
       "\t<li>12</li>\n",
       "\t<li>10</li>\n",
       "\t<li>8</li>\n",
       "\t<li>11</li>\n",
       "\t<li>4</li>\n",
       "\t<li>7</li>\n",
       "\t<li>2</li>\n",
       "</ol>\n"
      ],
      "text/latex": [
       "\\begin{enumerate*}\n",
       "\\item 9\n",
       "\\item 6\n",
       "\\item 5\n",
       "\\item 12\n",
       "\\item 10\n",
       "\\item 8\n",
       "\\item 11\n",
       "\\item 4\n",
       "\\item 7\n",
       "\\item 2\n",
       "\\end{enumerate*}\n"
      ],
      "text/markdown": [
       "1. 9\n",
       "2. 6\n",
       "3. 5\n",
       "4. 12\n",
       "5. 10\n",
       "6. 8\n",
       "7. 11\n",
       "8. 4\n",
       "9. 7\n",
       "10. 2\n",
       "\n",
       "\n"
      ],
      "text/plain": [
       " [1]  9  6  5 12 10  8 11  4  7  2"
      ]
     },
     "metadata": {},
     "output_type": "display_data"
    }
   ],
   "source": [
    "sample(x, 10, prob = c(1:12)/24) # 각 요소별 추출 확률을 달리할 수 있음."
   ]
  },
  {
   "cell_type": "code",
   "execution_count": 7,
   "metadata": {},
   "outputs": [
    {
     "data": {
      "text/html": [
       "<ol class=list-inline>\n",
       "\t<li>3</li>\n",
       "\t<li>8</li>\n",
       "\t<li>6</li>\n",
       "\t<li>10</li>\n",
       "\t<li>4</li>\n",
       "\t<li>2</li>\n",
       "\t<li>9</li>\n",
       "\t<li>7</li>\n",
       "\t<li>5</li>\n",
       "\t<li>1</li>\n",
       "</ol>\n"
      ],
      "text/latex": [
       "\\begin{enumerate*}\n",
       "\\item 3\n",
       "\\item 8\n",
       "\\item 6\n",
       "\\item 10\n",
       "\\item 4\n",
       "\\item 2\n",
       "\\item 9\n",
       "\\item 7\n",
       "\\item 5\n",
       "\\item 1\n",
       "\\end{enumerate*}\n"
      ],
      "text/markdown": [
       "1. 3\n",
       "2. 8\n",
       "3. 6\n",
       "4. 10\n",
       "5. 4\n",
       "6. 2\n",
       "7. 9\n",
       "8. 7\n",
       "9. 5\n",
       "10. 1\n",
       "\n",
       "\n"
      ],
      "text/plain": [
       " [1]  3  8  6 10  4  2  9  7  5  1"
      ]
     },
     "metadata": {},
     "output_type": "display_data"
    }
   ],
   "source": [
    "sample(10) # 단순히 숫자만 사용하여 샘플을 만들 수 있음"
   ]
  },
  {
   "cell_type": "markdown",
   "metadata": {},
   "source": [
    "#### 데이터 프레임\n",
    "  - 가장 흔히 쓰이는 표 형태의 데이터 구조를 가짐\n",
    "  - 행렬과 달리 여러 데이터형을 혼합시켜 저장할 수 있음.\n",
    "  - 리스트와 달리 행의 수를 일치시켜서 저장해야 함. \n",
    "  \n",
    "데이터 프레임 생성 : data.frame 함수 이용."
   ]
  },
  {
   "cell_type": "code",
   "execution_count": 10,
   "metadata": {},
   "outputs": [
    {
     "data": {
      "text/html": [
       "<table>\n",
       "<thead><tr><th scope=col>name</th><th scope=col>age</th><th scope=col>gender</th><th scope=col>blood.type</th></tr></thead>\n",
       "<tbody>\n",
       "\t<tr><td>철수</td><td>22  </td><td>M   </td><td>A   </td></tr>\n",
       "\t<tr><td>춘향</td><td>20  </td><td>F   </td><td>0   </td></tr>\n",
       "\t<tr><td>길동</td><td>25  </td><td>M   </td><td>B   </td></tr>\n",
       "</tbody>\n",
       "</table>\n"
      ],
      "text/latex": [
       "\\begin{tabular}{r|llll}\n",
       " name & age & gender & blood.type\\\\\n",
       "\\hline\n",
       "\t 철수 & 22   & M    & A   \\\\\n",
       "\t 춘향 & 20   & F    & 0   \\\\\n",
       "\t 길동 & 25   & M    & B   \\\\\n",
       "\\end{tabular}\n"
      ],
      "text/markdown": [
       "\n",
       "| name | age | gender | blood.type |\n",
       "|---|---|---|---|\n",
       "| 철수 | 22   | M    | A    |\n",
       "| 춘향 | 20   | F    | 0    |\n",
       "| 길동 | 25   | M    | B    |\n",
       "\n"
      ],
      "text/plain": [
       "  name age gender blood.type\n",
       "1 철수 22  M      A         \n",
       "2 춘향 20  F      0         \n",
       "3 길동 25  M      B         "
      ]
     },
     "metadata": {},
     "output_type": "display_data"
    }
   ],
   "source": [
    "name = c(\"철수\", \"춘향\", \"길동\")\n",
    "age = c(22, 20, 25)\n",
    "gender = factor(c(\"M\", \"F\", \"M\"))\n",
    "blood.type = factor(c(\"A\", \"0\", \"B\"))\n",
    "patients = data.frame(name, age, gender, blood.type)\n",
    "patients"
   ]
  },
  {
   "cell_type": "markdown",
   "metadata": {},
   "source": [
    "데이터 프레임 요소에 접근: $, [,] , 조건식 등을 이용해서 접근"
   ]
  },
  {
   "cell_type": "code",
   "execution_count": 11,
   "metadata": {},
   "outputs": [
    {
     "data": {
      "text/html": [
       "<ol class=list-inline>\n",
       "\t<li>철수</li>\n",
       "\t<li>춘향</li>\n",
       "\t<li>길동</li>\n",
       "</ol>\n",
       "\n",
       "<details>\n",
       "\t<summary style=display:list-item;cursor:pointer>\n",
       "\t\t<strong>Levels</strong>:\n",
       "\t</summary>\n",
       "\t<ol class=list-inline>\n",
       "\t\t<li>'길동'</li>\n",
       "\t\t<li>'철수'</li>\n",
       "\t\t<li>'춘향'</li>\n",
       "\t</ol>\n",
       "</details>"
      ],
      "text/latex": [
       "\\begin{enumerate*}\n",
       "\\item 철수\n",
       "\\item 춘향\n",
       "\\item 길동\n",
       "\\end{enumerate*}\n",
       "\n",
       "\\emph{Levels}: \\begin{enumerate*}\n",
       "\\item '길동'\n",
       "\\item '철수'\n",
       "\\item '춘향'\n",
       "\\end{enumerate*}\n"
      ],
      "text/markdown": [
       "1. 철수\n",
       "2. 춘향\n",
       "3. 길동\n",
       "\n",
       "\n",
       "\n",
       "**Levels**: 1. '길동'\n",
       "2. '철수'\n",
       "3. '춘향'\n",
       "\n",
       "\n"
      ],
      "text/plain": [
       "[1] 철수 춘향 길동\n",
       "Levels: 길동 철수 춘향"
      ]
     },
     "metadata": {},
     "output_type": "display_data"
    }
   ],
   "source": [
    "patients$name # name 속성 값 출력"
   ]
  },
  {
   "cell_type": "code",
   "execution_count": 12,
   "metadata": {},
   "outputs": [
    {
     "data": {
      "text/html": [
       "<table>\n",
       "<thead><tr><th scope=col>name</th><th scope=col>age</th><th scope=col>gender</th><th scope=col>blood.type</th></tr></thead>\n",
       "<tbody>\n",
       "\t<tr><td>철수</td><td>22  </td><td>M   </td><td>A   </td></tr>\n",
       "</tbody>\n",
       "</table>\n"
      ],
      "text/latex": [
       "\\begin{tabular}{r|llll}\n",
       " name & age & gender & blood.type\\\\\n",
       "\\hline\n",
       "\t 철수 & 22   & M    & A   \\\\\n",
       "\\end{tabular}\n"
      ],
      "text/markdown": [
       "\n",
       "| name | age | gender | blood.type |\n",
       "|---|---|---|---|\n",
       "| 철수 | 22   | M    | A    |\n",
       "\n"
      ],
      "text/plain": [
       "  name age gender blood.type\n",
       "1 철수 22  M      A         "
      ]
     },
     "metadata": {},
     "output_type": "display_data"
    }
   ],
   "source": [
    "patients[1, ] # 1행 값 출력"
   ]
  },
  {
   "cell_type": "code",
   "execution_count": 14,
   "metadata": {},
   "outputs": [
    {
     "data": {
      "text/html": [
       "<ol class=list-inline>\n",
       "\t<li>22</li>\n",
       "\t<li>20</li>\n",
       "\t<li>25</li>\n",
       "</ol>\n"
      ],
      "text/latex": [
       "\\begin{enumerate*}\n",
       "\\item 22\n",
       "\\item 20\n",
       "\\item 25\n",
       "\\end{enumerate*}\n"
      ],
      "text/markdown": [
       "1. 22\n",
       "2. 20\n",
       "3. 25\n",
       "\n",
       "\n"
      ],
      "text/plain": [
       "[1] 22 20 25"
      ]
     },
     "metadata": {},
     "output_type": "display_data"
    }
   ],
   "source": [
    "patients[,2] # 2d열 값 출력"
   ]
  },
  {
   "cell_type": "code",
   "execution_count": 15,
   "metadata": {},
   "outputs": [
    {
     "data": {
      "text/html": [
       "<ol class=list-inline>\n",
       "\t<li>22</li>\n",
       "\t<li>20</li>\n",
       "\t<li>25</li>\n",
       "</ol>\n"
      ],
      "text/latex": [
       "\\begin{enumerate*}\n",
       "\\item 22\n",
       "\\item 20\n",
       "\\item 25\n",
       "\\end{enumerate*}\n"
      ],
      "text/markdown": [
       "1. 22\n",
       "2. 20\n",
       "3. 25\n",
       "\n",
       "\n"
      ],
      "text/plain": [
       "[1] 22 20 25"
      ]
     },
     "metadata": {},
     "output_type": "display_data"
    }
   ],
   "source": [
    "patients[,2] # 2열 값 출력"
   ]
  },
  {
   "cell_type": "code",
   "execution_count": 16,
   "metadata": {},
   "outputs": [
    {
     "data": {
      "text/html": [
       "길동\n",
       "<details>\n",
       "\t<summary style=display:list-item;cursor:pointer>\n",
       "\t\t<strong>Levels</strong>:\n",
       "\t</summary>\n",
       "\t<ol class=list-inline>\n",
       "\t\t<li>'길동'</li>\n",
       "\t\t<li>'철수'</li>\n",
       "\t\t<li>'춘향'</li>\n",
       "\t</ol>\n",
       "</details>"
      ],
      "text/latex": [
       "길동\n",
       "\\emph{Levels}: \\begin{enumerate*}\n",
       "\\item '길동'\n",
       "\\item '철수'\n",
       "\\item '춘향'\n",
       "\\end{enumerate*}\n"
      ],
      "text/markdown": [
       "길동\n",
       "**Levels**: 1. '길동'\n",
       "2. '철수'\n",
       "3. '춘향'\n",
       "\n",
       "\n"
      ],
      "text/plain": [
       "[1] 길동\n",
       "Levels: 길동 철수 춘향"
      ]
     },
     "metadata": {},
     "output_type": "display_data"
    }
   ],
   "source": [
    "patients[3,1] # 3행 1열 값 출력"
   ]
  },
  {
   "cell_type": "code",
   "execution_count": 17,
   "metadata": {},
   "outputs": [
    {
     "data": {
      "text/html": [
       "<table>\n",
       "<thead><tr><th scope=col>name</th><th scope=col>age</th><th scope=col>gender</th><th scope=col>blood.type</th></tr></thead>\n",
       "<tbody>\n",
       "\t<tr><td>철수</td><td>22  </td><td>M   </td><td>A   </td></tr>\n",
       "</tbody>\n",
       "</table>\n"
      ],
      "text/latex": [
       "\\begin{tabular}{r|llll}\n",
       " name & age & gender & blood.type\\\\\n",
       "\\hline\n",
       "\t 철수 & 22   & M    & A   \\\\\n",
       "\\end{tabular}\n"
      ],
      "text/markdown": [
       "\n",
       "| name | age | gender | blood.type |\n",
       "|---|---|---|---|\n",
       "| 철수 | 22   | M    | A    |\n",
       "\n"
      ],
      "text/plain": [
       "  name age gender blood.type\n",
       "1 철수 22  M      A         "
      ]
     },
     "metadata": {},
     "output_type": "display_data"
    }
   ],
   "source": [
    "patients[patients$name==\"철수\",] # 환자 중 철수에 대한 정보 추출"
   ]
  },
  {
   "cell_type": "code",
   "execution_count": 18,
   "metadata": {},
   "outputs": [
    {
     "data": {
      "text/html": [
       "<table>\n",
       "<thead><tr><th scope=col>name</th><th scope=col>age</th></tr></thead>\n",
       "<tbody>\n",
       "\t<tr><td>철수</td><td>22  </td></tr>\n",
       "</tbody>\n",
       "</table>\n"
      ],
      "text/latex": [
       "\\begin{tabular}{r|ll}\n",
       " name & age\\\\\n",
       "\\hline\n",
       "\t 철수 & 22  \\\\\n",
       "\\end{tabular}\n"
      ],
      "text/markdown": [
       "\n",
       "| name | age |\n",
       "|---|---|\n",
       "| 철수 | 22   |\n",
       "\n"
      ],
      "text/plain": [
       "  name age\n",
       "1 철수 22 "
      ]
     },
     "metadata": {},
     "output_type": "display_data"
    }
   ],
   "source": [
    "patients[patients$name==\"철수\", c(\"name\", \"age\")] # 철수 이름과 나이 정보만 추출"
   ]
  },
  {
   "cell_type": "markdown",
   "metadata": {},
   "source": [
    "#### 데이터 프레임에 유용한 함수\n",
    "  - attach / detach 함수 : 데이터 프레임의 속성명을 변수명으로 변경"
   ]
  },
  {
   "cell_type": "code",
   "execution_count": 21,
   "metadata": {},
   "outputs": [
    {
     "data": {
      "text/html": [
       "<table>\n",
       "<thead><tr><th scope=col>speed</th><th scope=col>dist</th></tr></thead>\n",
       "<tbody>\n",
       "\t<tr><td>4 </td><td> 2</td></tr>\n",
       "\t<tr><td>4 </td><td>10</td></tr>\n",
       "\t<tr><td>7 </td><td> 4</td></tr>\n",
       "\t<tr><td>7 </td><td>22</td></tr>\n",
       "\t<tr><td>8 </td><td>16</td></tr>\n",
       "\t<tr><td>9 </td><td>10</td></tr>\n",
       "</tbody>\n",
       "</table>\n"
      ],
      "text/latex": [
       "\\begin{tabular}{r|ll}\n",
       " speed & dist\\\\\n",
       "\\hline\n",
       "\t 4  &  2\\\\\n",
       "\t 4  & 10\\\\\n",
       "\t 7  &  4\\\\\n",
       "\t 7  & 22\\\\\n",
       "\t 8  & 16\\\\\n",
       "\t 9  & 10\\\\\n",
       "\\end{tabular}\n"
      ],
      "text/markdown": [
       "\n",
       "| speed | dist |\n",
       "|---|---|\n",
       "| 4  |  2 |\n",
       "| 4  | 10 |\n",
       "| 7  |  4 |\n",
       "| 7  | 22 |\n",
       "| 8  | 16 |\n",
       "| 9  | 10 |\n",
       "\n"
      ],
      "text/plain": [
       "  speed dist\n",
       "1 4      2  \n",
       "2 4     10  \n",
       "3 7      4  \n",
       "4 7     22  \n",
       "5 8     16  \n",
       "6 9     10  "
      ]
     },
     "metadata": {},
     "output_type": "display_data"
    }
   ],
   "source": [
    "head(cars) # cars 데이터 셋 확인. head 함수의 기본 기능은 앞 6개 데이터를 추출함"
   ]
  },
  {
   "cell_type": "code",
   "execution_count": 23,
   "metadata": {},
   "outputs": [
    {
     "ename": "ERROR",
     "evalue": "Error in eval(expr, envir, enclos): 객체 'speed'를 찾을 수 없습니다\n",
     "output_type": "error",
     "traceback": [
      "Error in eval(expr, envir, enclos): 객체 'speed'를 찾을 수 없습니다\nTraceback:\n"
     ]
    }
   ],
   "source": [
    "speed # speed 변수가 독립적으로 존재하지 않기 때문에 발생"
   ]
  },
  {
   "cell_type": "code",
   "execution_count": 25,
   "metadata": {},
   "outputs": [
    {
     "data": {
      "text/html": [
       "<ol class=list-inline>\n",
       "\t<li>4</li>\n",
       "\t<li>4</li>\n",
       "\t<li>7</li>\n",
       "\t<li>7</li>\n",
       "\t<li>8</li>\n",
       "\t<li>9</li>\n",
       "\t<li>10</li>\n",
       "\t<li>10</li>\n",
       "\t<li>10</li>\n",
       "\t<li>11</li>\n",
       "\t<li>11</li>\n",
       "\t<li>12</li>\n",
       "\t<li>12</li>\n",
       "\t<li>12</li>\n",
       "\t<li>12</li>\n",
       "\t<li>13</li>\n",
       "\t<li>13</li>\n",
       "\t<li>13</li>\n",
       "\t<li>13</li>\n",
       "\t<li>14</li>\n",
       "\t<li>14</li>\n",
       "\t<li>14</li>\n",
       "\t<li>14</li>\n",
       "\t<li>15</li>\n",
       "\t<li>15</li>\n",
       "\t<li>15</li>\n",
       "\t<li>16</li>\n",
       "\t<li>16</li>\n",
       "\t<li>17</li>\n",
       "\t<li>17</li>\n",
       "\t<li>17</li>\n",
       "\t<li>18</li>\n",
       "\t<li>18</li>\n",
       "\t<li>18</li>\n",
       "\t<li>18</li>\n",
       "\t<li>19</li>\n",
       "\t<li>19</li>\n",
       "\t<li>19</li>\n",
       "\t<li>20</li>\n",
       "\t<li>20</li>\n",
       "\t<li>20</li>\n",
       "\t<li>20</li>\n",
       "\t<li>20</li>\n",
       "\t<li>22</li>\n",
       "\t<li>23</li>\n",
       "\t<li>24</li>\n",
       "\t<li>24</li>\n",
       "\t<li>24</li>\n",
       "\t<li>24</li>\n",
       "\t<li>25</li>\n",
       "</ol>\n"
      ],
      "text/latex": [
       "\\begin{enumerate*}\n",
       "\\item 4\n",
       "\\item 4\n",
       "\\item 7\n",
       "\\item 7\n",
       "\\item 8\n",
       "\\item 9\n",
       "\\item 10\n",
       "\\item 10\n",
       "\\item 10\n",
       "\\item 11\n",
       "\\item 11\n",
       "\\item 12\n",
       "\\item 12\n",
       "\\item 12\n",
       "\\item 12\n",
       "\\item 13\n",
       "\\item 13\n",
       "\\item 13\n",
       "\\item 13\n",
       "\\item 14\n",
       "\\item 14\n",
       "\\item 14\n",
       "\\item 14\n",
       "\\item 15\n",
       "\\item 15\n",
       "\\item 15\n",
       "\\item 16\n",
       "\\item 16\n",
       "\\item 17\n",
       "\\item 17\n",
       "\\item 17\n",
       "\\item 18\n",
       "\\item 18\n",
       "\\item 18\n",
       "\\item 18\n",
       "\\item 19\n",
       "\\item 19\n",
       "\\item 19\n",
       "\\item 20\n",
       "\\item 20\n",
       "\\item 20\n",
       "\\item 20\n",
       "\\item 20\n",
       "\\item 22\n",
       "\\item 23\n",
       "\\item 24\n",
       "\\item 24\n",
       "\\item 24\n",
       "\\item 24\n",
       "\\item 25\n",
       "\\end{enumerate*}\n"
      ],
      "text/markdown": [
       "1. 4\n",
       "2. 4\n",
       "3. 7\n",
       "4. 7\n",
       "5. 8\n",
       "6. 9\n",
       "7. 10\n",
       "8. 10\n",
       "9. 10\n",
       "10. 11\n",
       "11. 11\n",
       "12. 12\n",
       "13. 12\n",
       "14. 12\n",
       "15. 12\n",
       "16. 13\n",
       "17. 13\n",
       "18. 13\n",
       "19. 13\n",
       "20. 14\n",
       "21. 14\n",
       "22. 14\n",
       "23. 14\n",
       "24. 15\n",
       "25. 15\n",
       "26. 15\n",
       "27. 16\n",
       "28. 16\n",
       "29. 17\n",
       "30. 17\n",
       "31. 17\n",
       "32. 18\n",
       "33. 18\n",
       "34. 18\n",
       "35. 18\n",
       "36. 19\n",
       "37. 19\n",
       "38. 19\n",
       "39. 20\n",
       "40. 20\n",
       "41. 20\n",
       "42. 20\n",
       "43. 20\n",
       "44. 22\n",
       "45. 23\n",
       "46. 24\n",
       "47. 24\n",
       "48. 24\n",
       "49. 24\n",
       "50. 25\n",
       "\n",
       "\n"
      ],
      "text/plain": [
       " [1]  4  4  7  7  8  9 10 10 10 11 11 12 12 12 12 13 13 13 13 14 14 14 14 15 15\n",
       "[26] 15 16 16 17 17 17 18 18 18 18 19 19 19 20 20 20 20 20 22 23 24 24 24 24 25"
      ]
     },
     "metadata": {},
     "output_type": "display_data"
    }
   ],
   "source": [
    "attach(cars) # attach 함수를 통해 cars의 각 속성을 변수로 이용하게 함\n",
    "speed # speed 라는 변수명을 직접 이용할 수 있음."
   ]
  },
  {
   "cell_type": "code",
   "execution_count": 26,
   "metadata": {},
   "outputs": [
    {
     "ename": "ERROR",
     "evalue": "Error in eval(expr, envir, enclos): 객체 'speed'를 찾을 수 없습니다\n",
     "output_type": "error",
     "traceback": [
      "Error in eval(expr, envir, enclos): 객체 'speed'를 찾을 수 없습니다\nTraceback:\n"
     ]
    }
   ],
   "source": [
    "detach(cars) # detach 함수를 통해 cars의 각 속성을 변수로 사용하는 것을 해체함\n",
    "speed # speed 라는 변수에 접근해보지만, 해당 변수가 없음"
   ]
  },
  {
   "cell_type": "markdown",
   "metadata": {},
   "source": [
    "#### with 함수 : 데이터 프레임에 다양한 함수 적용"
   ]
  },
  {
   "cell_type": "code",
   "execution_count": 35,
   "metadata": {},
   "outputs": [
    {
     "data": {
      "text/html": [
       "'mean'"
      ],
      "text/latex": [
       "'mean'"
      ],
      "text/markdown": [
       "'mean'"
      ],
      "text/plain": [
       "[1] \"mean\""
      ]
     },
     "metadata": {},
     "output_type": "display_data"
    },
    {
     "data": {
      "text/html": [
       "15.4"
      ],
      "text/latex": [
       "15.4"
      ],
      "text/markdown": [
       "15.4"
      ],
      "text/plain": [
       "[1] 15.4"
      ]
     },
     "metadata": {},
     "output_type": "display_data"
    },
    {
     "data": {
      "text/html": [
       "'max'"
      ],
      "text/latex": [
       "'max'"
      ],
      "text/markdown": [
       "'max'"
      ],
      "text/plain": [
       "[1] \"max\""
      ]
     },
     "metadata": {},
     "output_type": "display_data"
    },
    {
     "data": {
      "text/html": [
       "25"
      ],
      "text/latex": [
       "25"
      ],
      "text/markdown": [
       "25"
      ],
      "text/plain": [
       "[1] 25"
      ]
     },
     "metadata": {},
     "output_type": "display_data"
    }
   ],
   "source": [
    "# 데이터 속성을 이용해 함수 적용\n",
    "\"mean\"\n",
    "mean(cars$speed)\n",
    "\"max\"\n",
    "max(cars$speed)"
   ]
  },
  {
   "cell_type": "code",
   "execution_count": 39,
   "metadata": {},
   "outputs": [
    {
     "data": {
      "text/html": [
       "'mean'"
      ],
      "text/latex": [
       "'mean'"
      ],
      "text/markdown": [
       "'mean'"
      ],
      "text/plain": [
       "[1] \"mean\""
      ]
     },
     "metadata": {},
     "output_type": "display_data"
    },
    {
     "data": {
      "text/html": [
       "15.4"
      ],
      "text/latex": [
       "15.4"
      ],
      "text/markdown": [
       "15.4"
      ],
      "text/plain": [
       "[1] 15.4"
      ]
     },
     "metadata": {},
     "output_type": "display_data"
    }
   ],
   "source": [
    "\"mean\"\n",
    "with(cars, mean(speed))"
   ]
  },
  {
   "cell_type": "code",
   "execution_count": 40,
   "metadata": {},
   "outputs": [
    {
     "data": {
      "text/html": [
       "'max'"
      ],
      "text/latex": [
       "'max'"
      ],
      "text/markdown": [
       "'max'"
      ],
      "text/plain": [
       "[1] \"max\""
      ]
     },
     "metadata": {},
     "output_type": "display_data"
    },
    {
     "data": {
      "text/html": [
       "25"
      ],
      "text/latex": [
       "25"
      ],
      "text/markdown": [
       "25"
      ],
      "text/plain": [
       "[1] 25"
      ]
     },
     "metadata": {},
     "output_type": "display_data"
    }
   ],
   "source": [
    "\"max\"\n",
    "with(cars, max(speed))"
   ]
  },
  {
   "cell_type": "markdown",
   "metadata": {},
   "source": [
    "#### subset 함수: 데이터 프레임에서 일부 데이터만 추출"
   ]
  },
  {
   "cell_type": "code",
   "execution_count": 42,
   "metadata": {},
   "outputs": [
    {
     "data": {
      "text/html": [
       "<table>\n",
       "<thead><tr><th></th><th scope=col>speed</th><th scope=col>dist</th></tr></thead>\n",
       "<tbody>\n",
       "\t<tr><th scope=row>44</th><td>22 </td><td> 66</td></tr>\n",
       "\t<tr><th scope=row>45</th><td>23 </td><td> 54</td></tr>\n",
       "\t<tr><th scope=row>46</th><td>24 </td><td> 70</td></tr>\n",
       "\t<tr><th scope=row>47</th><td>24 </td><td> 92</td></tr>\n",
       "\t<tr><th scope=row>48</th><td>24 </td><td> 93</td></tr>\n",
       "\t<tr><th scope=row>49</th><td>24 </td><td>120</td></tr>\n",
       "\t<tr><th scope=row>50</th><td>25 </td><td> 85</td></tr>\n",
       "</tbody>\n",
       "</table>\n"
      ],
      "text/latex": [
       "\\begin{tabular}{r|ll}\n",
       "  & speed & dist\\\\\n",
       "\\hline\n",
       "\t44 & 22  &  66\\\\\n",
       "\t45 & 23  &  54\\\\\n",
       "\t46 & 24  &  70\\\\\n",
       "\t47 & 24  &  92\\\\\n",
       "\t48 & 24  &  93\\\\\n",
       "\t49 & 24  & 120\\\\\n",
       "\t50 & 25  &  85\\\\\n",
       "\\end{tabular}\n"
      ],
      "text/markdown": [
       "\n",
       "| <!--/--> | speed | dist |\n",
       "|---|---|---|\n",
       "| 44 | 22  |  66 |\n",
       "| 45 | 23  |  54 |\n",
       "| 46 | 24  |  70 |\n",
       "| 47 | 24  |  92 |\n",
       "| 48 | 24  |  93 |\n",
       "| 49 | 24  | 120 |\n",
       "| 50 | 25  |  85 |\n",
       "\n"
      ],
      "text/plain": [
       "   speed dist\n",
       "44 22     66 \n",
       "45 23     54 \n",
       "46 24     70 \n",
       "47 24     92 \n",
       "48 24     93 \n",
       "49 24    120 \n",
       "50 25     85 "
      ]
     },
     "metadata": {},
     "output_type": "display_data"
    }
   ],
   "source": [
    "subset(cars, speed > 20)"
   ]
  },
  {
   "cell_type": "code",
   "execution_count": 64,
   "metadata": {},
   "outputs": [
    {
     "data": {
      "text/html": [
       "<table>\n",
       "<thead><tr><th></th><th scope=col>speed</th></tr></thead>\n",
       "<tbody>\n",
       "\t<tr><th scope=row>44</th><td>22</td></tr>\n",
       "\t<tr><th scope=row>45</th><td>23</td></tr>\n",
       "\t<tr><th scope=row>46</th><td>24</td></tr>\n",
       "\t<tr><th scope=row>47</th><td>24</td></tr>\n",
       "\t<tr><th scope=row>48</th><td>24</td></tr>\n",
       "\t<tr><th scope=row>49</th><td>24</td></tr>\n",
       "\t<tr><th scope=row>50</th><td>25</td></tr>\n",
       "</tbody>\n",
       "</table>\n"
      ],
      "text/latex": [
       "\\begin{tabular}{r|l}\n",
       "  & speed\\\\\n",
       "\\hline\n",
       "\t44 & 22\\\\\n",
       "\t45 & 23\\\\\n",
       "\t46 & 24\\\\\n",
       "\t47 & 24\\\\\n",
       "\t48 & 24\\\\\n",
       "\t49 & 24\\\\\n",
       "\t50 & 25\\\\\n",
       "\\end{tabular}\n"
      ],
      "text/markdown": [
       "\n",
       "| <!--/--> | speed |\n",
       "|---|---|\n",
       "| 44 | 22 |\n",
       "| 45 | 23 |\n",
       "| 46 | 24 |\n",
       "| 47 | 24 |\n",
       "| 48 | 24 |\n",
       "| 49 | 24 |\n",
       "| 50 | 25 |\n",
       "\n"
      ],
      "text/plain": [
       "   speed\n",
       "44 22   \n",
       "45 23   \n",
       "46 24   \n",
       "47 24   \n",
       "48 24   \n",
       "49 24   \n",
       "50 25   "
      ]
     },
     "metadata": {},
     "output_type": "display_data"
    }
   ],
   "source": [
    "# 속도가 20 초과인 데이터 중 dist 를 제외한 데이터만 추출\n",
    "subset(cars, speed > 20 , select = )"
   ]
  },
  {
   "cell_type": "code",
   "execution_count": 65,
   "metadata": {},
   "outputs": [
    {
     "data": {
      "text/html": [
       "<table>\n",
       "<thead><tr><th></th><th scope=col>dist</th></tr></thead>\n",
       "<tbody>\n",
       "\t<tr><th scope=row>44</th><td> 66</td></tr>\n",
       "\t<tr><th scope=row>45</th><td> 54</td></tr>\n",
       "\t<tr><th scope=row>46</th><td> 70</td></tr>\n",
       "\t<tr><th scope=row>47</th><td> 92</td></tr>\n",
       "\t<tr><th scope=row>48</th><td> 93</td></tr>\n",
       "\t<tr><th scope=row>49</th><td>120</td></tr>\n",
       "\t<tr><th scope=row>50</th><td> 85</td></tr>\n",
       "</tbody>\n",
       "</table>\n"
      ],
      "text/latex": [
       "\\begin{tabular}{r|l}\n",
       "  & dist\\\\\n",
       "\\hline\n",
       "\t44 &  66\\\\\n",
       "\t45 &  54\\\\\n",
       "\t46 &  70\\\\\n",
       "\t47 &  92\\\\\n",
       "\t48 &  93\\\\\n",
       "\t49 & 120\\\\\n",
       "\t50 &  85\\\\\n",
       "\\end{tabular}\n"
      ],
      "text/markdown": [
       "\n",
       "| <!--/--> | dist |\n",
       "|---|---|\n",
       "| 44 |  66 |\n",
       "| 45 |  54 |\n",
       "| 46 |  70 |\n",
       "| 47 |  92 |\n",
       "| 48 |  93 |\n",
       "| 49 | 120 |\n",
       "| 50 |  85 |\n",
       "\n"
      ],
      "text/plain": [
       "   dist\n",
       "44  66 \n",
       "45  54 \n",
       "46  70 \n",
       "47  92 \n",
       "48  93 \n",
       "49 120 \n",
       "50  85 "
      ]
     },
     "metadata": {},
     "output_type": "display_data"
    }
   ],
   "source": [
    "# 속도가 20 초과인 dist 데이터만 추출, 여러 열 선택은 c( ) 안을 , 로 구분\n",
    "subset(cars, speed > 20 , select = c(dist))"
   ]
  },
  {
   "cell_type": "code",
   "execution_count": 63,
   "metadata": {},
   "outputs": [
    {
     "data": {
      "text/html": [
       "<table>\n",
       "<thead><tr><th></th><th scope=col>speed</th><th scope=col>dist</th></tr></thead>\n",
       "<tbody>\n",
       "\t<tr><th scope=row>44</th><td>22 </td><td> 66</td></tr>\n",
       "\t<tr><th scope=row>45</th><td>23 </td><td> 54</td></tr>\n",
       "\t<tr><th scope=row>46</th><td>24 </td><td> 70</td></tr>\n",
       "\t<tr><th scope=row>47</th><td>24 </td><td> 92</td></tr>\n",
       "\t<tr><th scope=row>48</th><td>24 </td><td> 93</td></tr>\n",
       "\t<tr><th scope=row>49</th><td>24 </td><td>120</td></tr>\n",
       "\t<tr><th scope=row>50</th><td>25 </td><td> 85</td></tr>\n",
       "</tbody>\n",
       "</table>\n"
      ],
      "text/latex": [
       "\\begin{tabular}{r|ll}\n",
       "  & speed & dist\\\\\n",
       "\\hline\n",
       "\t44 & 22  &  66\\\\\n",
       "\t45 & 23  &  54\\\\\n",
       "\t46 & 24  &  70\\\\\n",
       "\t47 & 24  &  92\\\\\n",
       "\t48 & 24  &  93\\\\\n",
       "\t49 & 24  & 120\\\\\n",
       "\t50 & 25  &  85\\\\\n",
       "\\end{tabular}\n"
      ],
      "text/markdown": [
       "\n",
       "| <!--/--> | speed | dist |\n",
       "|---|---|---|\n",
       "| 44 | 22  |  66 |\n",
       "| 45 | 23  |  54 |\n",
       "| 46 | 24  |  70 |\n",
       "| 47 | 24  |  92 |\n",
       "| 48 | 24  |  93 |\n",
       "| 49 | 24  | 120 |\n",
       "| 50 | 25  |  85 |\n",
       "\n"
      ],
      "text/plain": [
       "   speed dist\n",
       "44 22     66 \n",
       "45 23     54 \n",
       "46 24     70 \n",
       "47 24     92 \n",
       "48 24     93 \n",
       "49 24    120 \n",
       "50 25     85 "
      ]
     },
     "metadata": {},
     "output_type": "display_data"
    }
   ],
   "source": [
    "cars[cars$speed > 20,] # , 를 빼지말아라! 이것은 행 임을 암시하는 중요한 부분이다!"
   ]
  },
  {
   "cell_type": "markdown",
   "metadata": {},
   "source": [
    "#### na.omit 함수 : 데이터 프레임의 결측값(NA) 제거"
   ]
  },
  {
   "cell_type": "code",
   "execution_count": 67,
   "metadata": {},
   "outputs": [
    {
     "data": {
      "text/html": [
       "<table>\n",
       "<thead><tr><th scope=col>Ozone</th><th scope=col>Solar.R</th><th scope=col>Wind</th><th scope=col>Temp</th><th scope=col>Month</th><th scope=col>Day</th></tr></thead>\n",
       "<tbody>\n",
       "\t<tr><td>41  </td><td>190 </td><td> 7.4</td><td>67  </td><td>5   </td><td>1   </td></tr>\n",
       "\t<tr><td>36  </td><td>118 </td><td> 8.0</td><td>72  </td><td>5   </td><td>2   </td></tr>\n",
       "\t<tr><td>12  </td><td>149 </td><td>12.6</td><td>74  </td><td>5   </td><td>3   </td></tr>\n",
       "\t<tr><td>18  </td><td>313 </td><td>11.5</td><td>62  </td><td>5   </td><td>4   </td></tr>\n",
       "\t<tr><td>NA  </td><td> NA </td><td>14.3</td><td>56  </td><td>5   </td><td>5   </td></tr>\n",
       "\t<tr><td>28  </td><td> NA </td><td>14.9</td><td>66  </td><td>5   </td><td>6   </td></tr>\n",
       "</tbody>\n",
       "</table>\n"
      ],
      "text/latex": [
       "\\begin{tabular}{r|llllll}\n",
       " Ozone & Solar.R & Wind & Temp & Month & Day\\\\\n",
       "\\hline\n",
       "\t 41   & 190  &  7.4 & 67   & 5    & 1   \\\\\n",
       "\t 36   & 118  &  8.0 & 72   & 5    & 2   \\\\\n",
       "\t 12   & 149  & 12.6 & 74   & 5    & 3   \\\\\n",
       "\t 18   & 313  & 11.5 & 62   & 5    & 4   \\\\\n",
       "\t NA   &  NA  & 14.3 & 56   & 5    & 5   \\\\\n",
       "\t 28   &  NA  & 14.9 & 66   & 5    & 6   \\\\\n",
       "\\end{tabular}\n"
      ],
      "text/markdown": [
       "\n",
       "| Ozone | Solar.R | Wind | Temp | Month | Day |\n",
       "|---|---|---|---|---|---|\n",
       "| 41   | 190  |  7.4 | 67   | 5    | 1    |\n",
       "| 36   | 118  |  8.0 | 72   | 5    | 2    |\n",
       "| 12   | 149  | 12.6 | 74   | 5    | 3    |\n",
       "| 18   | 313  | 11.5 | 62   | 5    | 4    |\n",
       "| NA   |  NA  | 14.3 | 56   | 5    | 5    |\n",
       "| 28   |  NA  | 14.9 | 66   | 5    | 6    |\n",
       "\n"
      ],
      "text/plain": [
       "  Ozone Solar.R Wind Temp Month Day\n",
       "1 41    190      7.4 67   5     1  \n",
       "2 36    118      8.0 72   5     2  \n",
       "3 12    149     12.6 74   5     3  \n",
       "4 18    313     11.5 62   5     4  \n",
       "5 NA     NA     14.3 56   5     5  \n",
       "6 28     NA     14.9 66   5     6  "
      ]
     },
     "metadata": {},
     "output_type": "display_data"
    }
   ],
   "source": [
    "head(airquality) # airquality 데이터에는 NA가 포함되어 있음"
   ]
  },
  {
   "cell_type": "code",
   "execution_count": 68,
   "metadata": {},
   "outputs": [
    {
     "data": {
      "text/html": [
       "<table>\n",
       "<thead><tr><th></th><th scope=col>Ozone</th><th scope=col>Solar.R</th><th scope=col>Wind</th><th scope=col>Temp</th><th scope=col>Month</th><th scope=col>Day</th></tr></thead>\n",
       "<tbody>\n",
       "\t<tr><th scope=row>1</th><td>41  </td><td>190 </td><td> 7.4</td><td>67  </td><td>5   </td><td>1   </td></tr>\n",
       "\t<tr><th scope=row>2</th><td>36  </td><td>118 </td><td> 8.0</td><td>72  </td><td>5   </td><td>2   </td></tr>\n",
       "\t<tr><th scope=row>3</th><td>12  </td><td>149 </td><td>12.6</td><td>74  </td><td>5   </td><td>3   </td></tr>\n",
       "\t<tr><th scope=row>4</th><td>18  </td><td>313 </td><td>11.5</td><td>62  </td><td>5   </td><td>4   </td></tr>\n",
       "\t<tr><th scope=row>7</th><td>23  </td><td>299 </td><td> 8.6</td><td>65  </td><td>5   </td><td>7   </td></tr>\n",
       "\t<tr><th scope=row>8</th><td>19  </td><td> 99 </td><td>13.8</td><td>59  </td><td>5   </td><td>8   </td></tr>\n",
       "</tbody>\n",
       "</table>\n"
      ],
      "text/latex": [
       "\\begin{tabular}{r|llllll}\n",
       "  & Ozone & Solar.R & Wind & Temp & Month & Day\\\\\n",
       "\\hline\n",
       "\t1 & 41   & 190  &  7.4 & 67   & 5    & 1   \\\\\n",
       "\t2 & 36   & 118  &  8.0 & 72   & 5    & 2   \\\\\n",
       "\t3 & 12   & 149  & 12.6 & 74   & 5    & 3   \\\\\n",
       "\t4 & 18   & 313  & 11.5 & 62   & 5    & 4   \\\\\n",
       "\t7 & 23   & 299  &  8.6 & 65   & 5    & 7   \\\\\n",
       "\t8 & 19   &  99  & 13.8 & 59   & 5    & 8   \\\\\n",
       "\\end{tabular}\n"
      ],
      "text/markdown": [
       "\n",
       "| <!--/--> | Ozone | Solar.R | Wind | Temp | Month | Day |\n",
       "|---|---|---|---|---|---|---|\n",
       "| 1 | 41   | 190  |  7.4 | 67   | 5    | 1    |\n",
       "| 2 | 36   | 118  |  8.0 | 72   | 5    | 2    |\n",
       "| 3 | 12   | 149  | 12.6 | 74   | 5    | 3    |\n",
       "| 4 | 18   | 313  | 11.5 | 62   | 5    | 4    |\n",
       "| 7 | 23   | 299  |  8.6 | 65   | 5    | 7    |\n",
       "| 8 | 19   |  99  | 13.8 | 59   | 5    | 8    |\n",
       "\n"
      ],
      "text/plain": [
       "  Ozone Solar.R Wind Temp Month Day\n",
       "1 41    190      7.4 67   5     1  \n",
       "2 36    118      8.0 72   5     2  \n",
       "3 12    149     12.6 74   5     3  \n",
       "4 18    313     11.5 62   5     4  \n",
       "7 23    299      8.6 65   5     7  \n",
       "8 19     99     13.8 59   5     8  "
      ]
     },
     "metadata": {},
     "output_type": "display_data"
    }
   ],
   "source": [
    "head(na.omit(airquality)) # NA 가 포함된 값을 제외하여 추출함"
   ]
  },
  {
   "cell_type": "markdown",
   "metadata": {},
   "source": [
    "#### merge 함수 : 여러 데이터 프레임 병합"
   ]
  },
  {
   "cell_type": "code",
   "execution_count": 77,
   "metadata": {},
   "outputs": [
    {
     "data": {
      "text/html": [
       "<table>\n",
       "<thead><tr><th scope=col>name</th><th scope=col>age</th><th scope=col>gender</th></tr></thead>\n",
       "<tbody>\n",
       "\t<tr><td>철수</td><td>22  </td><td>M   </td></tr>\n",
       "\t<tr><td>춘향</td><td>20  </td><td>F   </td></tr>\n",
       "\t<tr><td>길동</td><td>25  </td><td>M   </td></tr>\n",
       "</tbody>\n",
       "</table>\n"
      ],
      "text/latex": [
       "\\begin{tabular}{r|lll}\n",
       " name & age & gender\\\\\n",
       "\\hline\n",
       "\t 철수 & 22   & M   \\\\\n",
       "\t 춘향 & 20   & F   \\\\\n",
       "\t 길동 & 25   & M   \\\\\n",
       "\\end{tabular}\n"
      ],
      "text/markdown": [
       "\n",
       "| name | age | gender |\n",
       "|---|---|---|\n",
       "| 철수 | 22   | M    |\n",
       "| 춘향 | 20   | F    |\n",
       "| 길동 | 25   | M    |\n",
       "\n"
      ],
      "text/plain": [
       "  name age gender\n",
       "1 철수 22  M     \n",
       "2 춘향 20  F     \n",
       "3 길동 25  M     "
      ]
     },
     "metadata": {},
     "output_type": "display_data"
    }
   ],
   "source": [
    "name = c(\"철수\", \"춘향\", \"길동\")\n",
    "age = c(22, 20, 25)\n",
    "gender = factor(c(\"M\", \"F\", \"M\"))\n",
    "blood.type = factor(c(\"A\", \"O\",\"B\"))\n",
    "\n",
    "patients1 = data.frame(name, age, gender)\n",
    "patients1"
   ]
  },
  {
   "cell_type": "code",
   "execution_count": 78,
   "metadata": {},
   "outputs": [
    {
     "data": {
      "text/html": [
       "<table>\n",
       "<thead><tr><th scope=col>name</th><th scope=col>blood.type</th></tr></thead>\n",
       "<tbody>\n",
       "\t<tr><td>철수</td><td>A   </td></tr>\n",
       "\t<tr><td>춘향</td><td>O   </td></tr>\n",
       "\t<tr><td>길동</td><td>B   </td></tr>\n",
       "</tbody>\n",
       "</table>\n"
      ],
      "text/latex": [
       "\\begin{tabular}{r|ll}\n",
       " name & blood.type\\\\\n",
       "\\hline\n",
       "\t 철수 & A   \\\\\n",
       "\t 춘향 & O   \\\\\n",
       "\t 길동 & B   \\\\\n",
       "\\end{tabular}\n"
      ],
      "text/markdown": [
       "\n",
       "| name | blood.type |\n",
       "|---|---|\n",
       "| 철수 | A    |\n",
       "| 춘향 | O    |\n",
       "| 길동 | B    |\n",
       "\n"
      ],
      "text/plain": [
       "  name blood.type\n",
       "1 철수 A         \n",
       "2 춘향 O         \n",
       "3 길동 B         "
      ]
     },
     "metadata": {},
     "output_type": "display_data"
    }
   ],
   "source": [
    "patients2 = data.frame(name, blood.type)\n",
    "patients2"
   ]
  },
  {
   "cell_type": "code",
   "execution_count": 81,
   "metadata": {},
   "outputs": [
    {
     "data": {
      "text/html": [
       "<table>\n",
       "<thead><tr><th scope=col>name</th><th scope=col>age</th><th scope=col>gender</th><th scope=col>blood.type</th></tr></thead>\n",
       "<tbody>\n",
       "\t<tr><td>길동</td><td>25  </td><td>M   </td><td>B   </td></tr>\n",
       "\t<tr><td>철수</td><td>22  </td><td>M   </td><td>A   </td></tr>\n",
       "\t<tr><td>춘향</td><td>20  </td><td>F   </td><td>O   </td></tr>\n",
       "</tbody>\n",
       "</table>\n"
      ],
      "text/latex": [
       "\\begin{tabular}{r|llll}\n",
       " name & age & gender & blood.type\\\\\n",
       "\\hline\n",
       "\t 길동 & 25   & M    & B   \\\\\n",
       "\t 철수 & 22   & M    & A   \\\\\n",
       "\t 춘향 & 20   & F    & O   \\\\\n",
       "\\end{tabular}\n"
      ],
      "text/markdown": [
       "\n",
       "| name | age | gender | blood.type |\n",
       "|---|---|---|---|\n",
       "| 길동 | 25   | M    | B    |\n",
       "| 철수 | 22   | M    | A    |\n",
       "| 춘향 | 20   | F    | O    |\n",
       "\n"
      ],
      "text/plain": [
       "  name age gender blood.type\n",
       "1 길동 25  M      B         \n",
       "2 철수 22  M      A         \n",
       "3 춘향 20  F      O         "
      ]
     },
     "metadata": {},
     "output_type": "display_data"
    }
   ],
   "source": [
    "patients = merge(patients1, patients2, by = \"name\") # 공통 속성은 name으로 merge 해라\n",
    "patients"
   ]
  },
  {
   "cell_type": "markdown",
   "metadata": {},
   "source": [
    "### 리스트\n",
    " - 서로 다른 기본 데이터형을 갖는 자료 구조를 포함할 수 잇음.\n",
    " - 데이터 프레임보다 넓은 의미의 데이터 모임.\n",
    " - 데이터 프레임과 달리 모든 속성의 크기가 같을 필요가 없음."
   ]
  },
  {
   "cell_type": "code",
   "execution_count": 85,
   "metadata": {},
   "outputs": [],
   "source": [
    "patients = data.frame(name = c(\"철수\", \"춘향\", \"길동\"), age = c(22,20,25), \n",
    "                      gender = factor(c(\"M\", \"F\", \"M\")), blood.type = factor(c(\"A\", \"O\", \"B\")))"
   ]
  },
  {
   "cell_type": "code",
   "execution_count": 86,
   "metadata": {},
   "outputs": [
    {
     "data": {
      "text/html": [
       "<table>\n",
       "<thead><tr><th scope=col>name</th><th scope=col>age</th><th scope=col>gender</th><th scope=col>blood.type</th></tr></thead>\n",
       "<tbody>\n",
       "\t<tr><td>철수</td><td>22  </td><td>M   </td><td>A   </td></tr>\n",
       "\t<tr><td>춘향</td><td>20  </td><td>F   </td><td>O   </td></tr>\n",
       "\t<tr><td>길동</td><td>25  </td><td>M   </td><td>B   </td></tr>\n",
       "</tbody>\n",
       "</table>\n"
      ],
      "text/latex": [
       "\\begin{tabular}{r|llll}\n",
       " name & age & gender & blood.type\\\\\n",
       "\\hline\n",
       "\t 철수 & 22   & M    & A   \\\\\n",
       "\t 춘향 & 20   & F    & O   \\\\\n",
       "\t 길동 & 25   & M    & B   \\\\\n",
       "\\end{tabular}\n"
      ],
      "text/markdown": [
       "\n",
       "| name | age | gender | blood.type |\n",
       "|---|---|---|---|\n",
       "| 철수 | 22   | M    | A    |\n",
       "| 춘향 | 20   | F    | O    |\n",
       "| 길동 | 25   | M    | B    |\n",
       "\n"
      ],
      "text/plain": [
       "  name age gender blood.type\n",
       "1 철수 22  M      A         \n",
       "2 춘향 20  F      O         \n",
       "3 길동 25  M      B         "
      ]
     },
     "metadata": {},
     "output_type": "display_data"
    }
   ],
   "source": [
    "patients"
   ]
  },
  {
   "cell_type": "code",
   "execution_count": 88,
   "metadata": {},
   "outputs": [
    {
     "data": {
      "text/html": [
       "<table>\n",
       "<thead><tr><th scope=col>day</th><th scope=col>no</th></tr></thead>\n",
       "<tbody>\n",
       "\t<tr><td>1 </td><td>50</td></tr>\n",
       "\t<tr><td>2 </td><td>60</td></tr>\n",
       "\t<tr><td>3 </td><td>55</td></tr>\n",
       "\t<tr><td>4 </td><td>52</td></tr>\n",
       "\t<tr><td>5 </td><td>65</td></tr>\n",
       "\t<tr><td>6 </td><td>58</td></tr>\n",
       "</tbody>\n",
       "</table>\n"
      ],
      "text/latex": [
       "\\begin{tabular}{r|ll}\n",
       " day & no\\\\\n",
       "\\hline\n",
       "\t 1  & 50\\\\\n",
       "\t 2  & 60\\\\\n",
       "\t 3  & 55\\\\\n",
       "\t 4  & 52\\\\\n",
       "\t 5  & 65\\\\\n",
       "\t 6  & 58\\\\\n",
       "\\end{tabular}\n"
      ],
      "text/markdown": [
       "\n",
       "| day | no |\n",
       "|---|---|\n",
       "| 1  | 50 |\n",
       "| 2  | 60 |\n",
       "| 3  | 55 |\n",
       "| 4  | 52 |\n",
       "| 5  | 65 |\n",
       "| 6  | 58 |\n",
       "\n"
      ],
      "text/plain": [
       "  day no\n",
       "1 1   50\n",
       "2 2   60\n",
       "3 3   55\n",
       "4 4   52\n",
       "5 5   65\n",
       "6 6   58"
      ]
     },
     "metadata": {},
     "output_type": "display_data"
    }
   ],
   "source": [
    "no.patients = data.frame(day = c(1:6), no = c(50,60,55,52,65,58))\n",
    "no.patients"
   ]
  },
  {
   "cell_type": "code",
   "execution_count": 89,
   "metadata": {},
   "outputs": [
    {
     "data": {
      "text/html": [
       "<ol>\n",
       "\t<li><table>\n",
       "<thead><tr><th scope=col>name</th><th scope=col>age</th><th scope=col>gender</th><th scope=col>blood.type</th></tr></thead>\n",
       "<tbody>\n",
       "\t<tr><td>철수</td><td>22  </td><td>M   </td><td>A   </td></tr>\n",
       "\t<tr><td>춘향</td><td>20  </td><td>F   </td><td>O   </td></tr>\n",
       "\t<tr><td>길동</td><td>25  </td><td>M   </td><td>B   </td></tr>\n",
       "</tbody>\n",
       "</table>\n",
       "</li>\n",
       "\t<li><table>\n",
       "<thead><tr><th scope=col>day</th><th scope=col>no</th></tr></thead>\n",
       "<tbody>\n",
       "\t<tr><td>1 </td><td>50</td></tr>\n",
       "\t<tr><td>2 </td><td>60</td></tr>\n",
       "\t<tr><td>3 </td><td>55</td></tr>\n",
       "\t<tr><td>4 </td><td>52</td></tr>\n",
       "\t<tr><td>5 </td><td>65</td></tr>\n",
       "\t<tr><td>6 </td><td>58</td></tr>\n",
       "</tbody>\n",
       "</table>\n",
       "</li>\n",
       "</ol>\n"
      ],
      "text/latex": [
       "\\begin{enumerate}\n",
       "\\item \\begin{tabular}{r|llll}\n",
       " name & age & gender & blood.type\\\\\n",
       "\\hline\n",
       "\t 철수 & 22   & M    & A   \\\\\n",
       "\t 춘향 & 20   & F    & O   \\\\\n",
       "\t 길동 & 25   & M    & B   \\\\\n",
       "\\end{tabular}\n",
       "\n",
       "\\item \\begin{tabular}{r|ll}\n",
       " day & no\\\\\n",
       "\\hline\n",
       "\t 1  & 50\\\\\n",
       "\t 2  & 60\\\\\n",
       "\t 3  & 55\\\\\n",
       "\t 4  & 52\\\\\n",
       "\t 5  & 65\\\\\n",
       "\t 6  & 58\\\\\n",
       "\\end{tabular}\n",
       "\n",
       "\\end{enumerate}\n"
      ],
      "text/markdown": [
       "1. \n",
       "| name | age | gender | blood.type |\n",
       "|---|---|---|---|\n",
       "| 철수 | 22   | M    | A    |\n",
       "| 춘향 | 20   | F    | O    |\n",
       "| 길동 | 25   | M    | B    |\n",
       "\n",
       "\n",
       "2. \n",
       "| day | no |\n",
       "|---|---|\n",
       "| 1  | 50 |\n",
       "| 2  | 60 |\n",
       "| 3  | 55 |\n",
       "| 4  | 52 |\n",
       "| 5  | 65 |\n",
       "| 6  | 58 |\n",
       "\n",
       "\n",
       "\n",
       "\n"
      ],
      "text/plain": [
       "[[1]]\n",
       "  name age gender blood.type\n",
       "1 철수  22      M          A\n",
       "2 춘향  20      F          O\n",
       "3 길동  25      M          B\n",
       "\n",
       "[[2]]\n",
       "  day no\n",
       "1   1 50\n",
       "2   2 60\n",
       "3   3 55\n",
       "4   4 52\n",
       "5   5 65\n",
       "6   6 58\n"
      ]
     },
     "metadata": {},
     "output_type": "display_data"
    }
   ],
   "source": [
    "listPatients = list(patients, no.patients)\n",
    "listPatients"
   ]
  },
  {
   "cell_type": "code",
   "execution_count": 90,
   "metadata": {},
   "outputs": [
    {
     "data": {
      "text/html": [
       "<dl>\n",
       "\t<dt>$patients</dt>\n",
       "\t\t<dd><table>\n",
       "<thead><tr><th scope=col>name</th><th scope=col>age</th><th scope=col>gender</th><th scope=col>blood.type</th></tr></thead>\n",
       "<tbody>\n",
       "\t<tr><td>철수</td><td>22  </td><td>M   </td><td>A   </td></tr>\n",
       "\t<tr><td>춘향</td><td>20  </td><td>F   </td><td>O   </td></tr>\n",
       "\t<tr><td>길동</td><td>25  </td><td>M   </td><td>B   </td></tr>\n",
       "</tbody>\n",
       "</table>\n",
       "</dd>\n",
       "\t<dt>$no.patients</dt>\n",
       "\t\t<dd><table>\n",
       "<thead><tr><th scope=col>day</th><th scope=col>no</th></tr></thead>\n",
       "<tbody>\n",
       "\t<tr><td>1 </td><td>50</td></tr>\n",
       "\t<tr><td>2 </td><td>60</td></tr>\n",
       "\t<tr><td>3 </td><td>55</td></tr>\n",
       "\t<tr><td>4 </td><td>52</td></tr>\n",
       "\t<tr><td>5 </td><td>65</td></tr>\n",
       "\t<tr><td>6 </td><td>58</td></tr>\n",
       "</tbody>\n",
       "</table>\n",
       "</dd>\n",
       "</dl>\n"
      ],
      "text/latex": [
       "\\begin{description}\n",
       "\\item[\\$patients] \\begin{tabular}{r|llll}\n",
       " name & age & gender & blood.type\\\\\n",
       "\\hline\n",
       "\t 철수 & 22   & M    & A   \\\\\n",
       "\t 춘향 & 20   & F    & O   \\\\\n",
       "\t 길동 & 25   & M    & B   \\\\\n",
       "\\end{tabular}\n",
       "\n",
       "\\item[\\$no.patients] \\begin{tabular}{r|ll}\n",
       " day & no\\\\\n",
       "\\hline\n",
       "\t 1  & 50\\\\\n",
       "\t 2  & 60\\\\\n",
       "\t 3  & 55\\\\\n",
       "\t 4  & 52\\\\\n",
       "\t 5  & 65\\\\\n",
       "\t 6  & 58\\\\\n",
       "\\end{tabular}\n",
       "\n",
       "\\end{description}\n"
      ],
      "text/markdown": [
       "$patients\n",
       ":   \n",
       "| name | age | gender | blood.type |\n",
       "|---|---|---|---|\n",
       "| 철수 | 22   | M    | A    |\n",
       "| 춘향 | 20   | F    | O    |\n",
       "| 길동 | 25   | M    | B    |\n",
       "\n",
       "\n",
       "$no.patients\n",
       ":   \n",
       "| day | no |\n",
       "|---|---|\n",
       "| 1  | 50 |\n",
       "| 2  | 60 |\n",
       "| 3  | 55 |\n",
       "| 4  | 52 |\n",
       "| 5  | 65 |\n",
       "| 6  | 58 |\n",
       "\n",
       "\n",
       "\n",
       "\n"
      ],
      "text/plain": [
       "$patients\n",
       "  name age gender blood.type\n",
       "1 철수  22      M          A\n",
       "2 춘향  20      F          O\n",
       "3 길동  25      M          B\n",
       "\n",
       "$no.patients\n",
       "  day no\n",
       "1   1 50\n",
       "2   2 60\n",
       "3   3 55\n",
       "4   4 52\n",
       "5   5 65\n",
       "6   6 58\n"
      ]
     },
     "metadata": {},
     "output_type": "display_data"
    }
   ],
   "source": [
    "# 각 데이터에 이름을 부여하면서 추가\n",
    "listPatients = list(patients= patients, no.patients = no.patients)\n",
    "listPatients"
   ]
  },
  {
   "cell_type": "markdown",
   "metadata": {},
   "source": [
    "#### 리스트 요소에 접근 : $, [[]] 이용"
   ]
  },
  {
   "cell_type": "code",
   "execution_count": 91,
   "metadata": {},
   "outputs": [
    {
     "data": {
      "text/html": [
       "<table>\n",
       "<thead><tr><th scope=col>name</th><th scope=col>age</th><th scope=col>gender</th><th scope=col>blood.type</th></tr></thead>\n",
       "<tbody>\n",
       "\t<tr><td>철수</td><td>22  </td><td>M   </td><td>A   </td></tr>\n",
       "\t<tr><td>춘향</td><td>20  </td><td>F   </td><td>O   </td></tr>\n",
       "\t<tr><td>길동</td><td>25  </td><td>M   </td><td>B   </td></tr>\n",
       "</tbody>\n",
       "</table>\n"
      ],
      "text/latex": [
       "\\begin{tabular}{r|llll}\n",
       " name & age & gender & blood.type\\\\\n",
       "\\hline\n",
       "\t 철수 & 22   & M    & A   \\\\\n",
       "\t 춘향 & 20   & F    & O   \\\\\n",
       "\t 길동 & 25   & M    & B   \\\\\n",
       "\\end{tabular}\n"
      ],
      "text/markdown": [
       "\n",
       "| name | age | gender | blood.type |\n",
       "|---|---|---|---|\n",
       "| 철수 | 22   | M    | A    |\n",
       "| 춘향 | 20   | F    | O    |\n",
       "| 길동 | 25   | M    | B    |\n",
       "\n"
      ],
      "text/plain": [
       "  name age gender blood.type\n",
       "1 철수 22  M      A         \n",
       "2 춘향 20  F      O         \n",
       "3 길동 25  M      B         "
      ]
     },
     "metadata": {},
     "output_type": "display_data"
    }
   ],
   "source": [
    "listPatients$patients # 요소명 입력"
   ]
  },
  {
   "cell_type": "code",
   "execution_count": 94,
   "metadata": {},
   "outputs": [
    {
     "data": {
      "text/html": [
       "<table>\n",
       "<thead><tr><th scope=col>name</th><th scope=col>age</th><th scope=col>gender</th><th scope=col>blood.type</th></tr></thead>\n",
       "<tbody>\n",
       "\t<tr><td>철수</td><td>22  </td><td>M   </td><td>A   </td></tr>\n",
       "\t<tr><td>춘향</td><td>20  </td><td>F   </td><td>O   </td></tr>\n",
       "\t<tr><td>길동</td><td>25  </td><td>M   </td><td>B   </td></tr>\n",
       "</tbody>\n",
       "</table>\n"
      ],
      "text/latex": [
       "\\begin{tabular}{r|llll}\n",
       " name & age & gender & blood.type\\\\\n",
       "\\hline\n",
       "\t 철수 & 22   & M    & A   \\\\\n",
       "\t 춘향 & 20   & F    & O   \\\\\n",
       "\t 길동 & 25   & M    & B   \\\\\n",
       "\\end{tabular}\n"
      ],
      "text/markdown": [
       "\n",
       "| name | age | gender | blood.type |\n",
       "|---|---|---|---|\n",
       "| 철수 | 22   | M    | A    |\n",
       "| 춘향 | 20   | F    | O    |\n",
       "| 길동 | 25   | M    | B    |\n",
       "\n"
      ],
      "text/plain": [
       "  name age gender blood.type\n",
       "1 철수 22  M      A         \n",
       "2 춘향 20  F      O         \n",
       "3 길동 25  M      B         "
      ]
     },
     "metadata": {},
     "output_type": "display_data"
    }
   ],
   "source": [
    "listPatients[[1]] # 인데스 입력"
   ]
  },
  {
   "cell_type": "code",
   "execution_count": 95,
   "metadata": {},
   "outputs": [
    {
     "data": {
      "text/html": [
       "<table>\n",
       "<thead><tr><th scope=col>name</th><th scope=col>age</th><th scope=col>gender</th><th scope=col>blood.type</th></tr></thead>\n",
       "<tbody>\n",
       "\t<tr><td>철수</td><td>22  </td><td>M   </td><td>A   </td></tr>\n",
       "\t<tr><td>춘향</td><td>20  </td><td>F   </td><td>O   </td></tr>\n",
       "\t<tr><td>길동</td><td>25  </td><td>M   </td><td>B   </td></tr>\n",
       "</tbody>\n",
       "</table>\n"
      ],
      "text/latex": [
       "\\begin{tabular}{r|llll}\n",
       " name & age & gender & blood.type\\\\\n",
       "\\hline\n",
       "\t 철수 & 22   & M    & A   \\\\\n",
       "\t 춘향 & 20   & F    & O   \\\\\n",
       "\t 길동 & 25   & M    & B   \\\\\n",
       "\\end{tabular}\n"
      ],
      "text/markdown": [
       "\n",
       "| name | age | gender | blood.type |\n",
       "|---|---|---|---|\n",
       "| 철수 | 22   | M    | A    |\n",
       "| 춘향 | 20   | F    | O    |\n",
       "| 길동 | 25   | M    | B    |\n",
       "\n"
      ],
      "text/plain": [
       "  name age gender blood.type\n",
       "1 철수 22  M      A         \n",
       "2 춘향 20  F      O         \n",
       "3 길동 25  M      B         "
      ]
     },
     "metadata": {},
     "output_type": "display_data"
    }
   ],
   "source": [
    "listPatients[[\"patients\"]] # 요소명을 \"\"에 입력"
   ]
  },
  {
   "cell_type": "code",
   "execution_count": 97,
   "metadata": {},
   "outputs": [
    {
     "data": {
      "text/html": [
       "<table>\n",
       "<thead><tr><th scope=col>day</th><th scope=col>no</th></tr></thead>\n",
       "<tbody>\n",
       "\t<tr><td>1 </td><td>50</td></tr>\n",
       "\t<tr><td>2 </td><td>60</td></tr>\n",
       "\t<tr><td>3 </td><td>55</td></tr>\n",
       "\t<tr><td>4 </td><td>52</td></tr>\n",
       "\t<tr><td>5 </td><td>65</td></tr>\n",
       "\t<tr><td>6 </td><td>58</td></tr>\n",
       "</tbody>\n",
       "</table>\n"
      ],
      "text/latex": [
       "\\begin{tabular}{r|ll}\n",
       " day & no\\\\\n",
       "\\hline\n",
       "\t 1  & 50\\\\\n",
       "\t 2  & 60\\\\\n",
       "\t 3  & 55\\\\\n",
       "\t 4  & 52\\\\\n",
       "\t 5  & 65\\\\\n",
       "\t 6  & 58\\\\\n",
       "\\end{tabular}\n"
      ],
      "text/markdown": [
       "\n",
       "| day | no |\n",
       "|---|---|\n",
       "| 1  | 50 |\n",
       "| 2  | 60 |\n",
       "| 3  | 55 |\n",
       "| 4  | 52 |\n",
       "| 5  | 65 |\n",
       "| 6  | 58 |\n",
       "\n"
      ],
      "text/plain": [
       "  day no\n",
       "1 1   50\n",
       "2 2   60\n",
       "3 3   55\n",
       "4 4   52\n",
       "5 5   65\n",
       "6 6   58"
      ]
     },
     "metadata": {},
     "output_type": "display_data"
    }
   ],
   "source": [
    "listPatients[[\"no.patients\"]]"
   ]
  },
  {
   "cell_type": "markdown",
   "metadata": {},
   "source": [
    "#### 리스트에 유용한 함수\n",
    "  - lapply / sapply 함수 : 리스트 요소에 다양한 함수 적용"
   ]
  },
  {
   "cell_type": "code",
   "execution_count": 98,
   "metadata": {},
   "outputs": [
    {
     "data": {
      "text/html": [
       "<dl>\n",
       "\t<dt>$day</dt>\n",
       "\t\t<dd>3.5</dd>\n",
       "\t<dt>$no</dt>\n",
       "\t\t<dd>56.6666666666667</dd>\n",
       "</dl>\n"
      ],
      "text/latex": [
       "\\begin{description}\n",
       "\\item[\\$day] 3.5\n",
       "\\item[\\$no] 56.6666666666667\n",
       "\\end{description}\n"
      ],
      "text/markdown": [
       "$day\n",
       ":   3.5\n",
       "$no\n",
       ":   56.6666666666667\n",
       "\n",
       "\n"
      ],
      "text/plain": [
       "$day\n",
       "[1] 3.5\n",
       "\n",
       "$no\n",
       "[1] 56.66667\n"
      ]
     },
     "metadata": {},
     "output_type": "display_data"
    }
   ],
   "source": [
    "# no.patients 요소의 평균을 구해줌\n",
    "lapply(listPatients$no.patients, mean)"
   ]
  },
  {
   "cell_type": "code",
   "execution_count": 99,
   "metadata": {},
   "outputs": [
    {
     "name": "stderr",
     "output_type": "stream",
     "text": [
      "Warning message in mean.default(X[[i]], ...):\n",
      "\"argument is not numeric or logical: returning NA\"Warning message in mean.default(X[[i]], ...):\n",
      "\"argument is not numeric or logical: returning NA\"Warning message in mean.default(X[[i]], ...):\n",
      "\"argument is not numeric or logical: returning NA\""
     ]
    },
    {
     "data": {
      "text/html": [
       "<dl>\n",
       "\t<dt>$name</dt>\n",
       "\t\t<dd>&lt;NA&gt;</dd>\n",
       "\t<dt>$age</dt>\n",
       "\t\t<dd>22.3333333333333</dd>\n",
       "\t<dt>$gender</dt>\n",
       "\t\t<dd>&lt;NA&gt;</dd>\n",
       "\t<dt>$blood.type</dt>\n",
       "\t\t<dd>&lt;NA&gt;</dd>\n",
       "</dl>\n"
      ],
      "text/latex": [
       "\\begin{description}\n",
       "\\item[\\$name] <NA>\n",
       "\\item[\\$age] 22.3333333333333\n",
       "\\item[\\$gender] <NA>\n",
       "\\item[\\$blood.type] <NA>\n",
       "\\end{description}\n"
      ],
      "text/markdown": [
       "$name\n",
       ":   &lt;NA&gt;\n",
       "$age\n",
       ":   22.3333333333333\n",
       "$gender\n",
       ":   &lt;NA&gt;\n",
       "$blood.type\n",
       ":   &lt;NA&gt;\n",
       "\n",
       "\n"
      ],
      "text/plain": [
       "$name\n",
       "[1] NA\n",
       "\n",
       "$age\n",
       "[1] 22.33333\n",
       "\n",
       "$gender\n",
       "[1] NA\n",
       "\n",
       "$blood.type\n",
       "[1] NA\n"
      ]
     },
     "metadata": {},
     "output_type": "display_data"
    }
   ],
   "source": [
    "# patients 요소의 평균을 구해줌. 숫자 형태가 아닌 것은 평균이 구해지지 않음\n",
    "lapply(listPatients$patients , mean)"
   ]
  },
  {
   "cell_type": "code",
   "execution_count": 103,
   "metadata": {},
   "outputs": [
    {
     "data": {
      "text/html": [
       "<dl class=dl-horizontal>\n",
       "\t<dt>day</dt>\n",
       "\t\t<dd>3.5</dd>\n",
       "\t<dt>no</dt>\n",
       "\t\t<dd>56.6666666666667</dd>\n",
       "</dl>\n"
      ],
      "text/latex": [
       "\\begin{description*}\n",
       "\\item[day] 3.5\n",
       "\\item[no] 56.6666666666667\n",
       "\\end{description*}\n"
      ],
      "text/markdown": [
       "day\n",
       ":   3.5no\n",
       ":   56.6666666666667\n",
       "\n"
      ],
      "text/plain": [
       "     day       no \n",
       " 3.50000 56.66667 "
      ]
     },
     "metadata": {},
     "output_type": "display_data"
    }
   ],
   "source": [
    "sapply(listPatients$no.patients, mean)\n",
    "# vector로 만들어서 출력한다."
   ]
  },
  {
   "cell_type": "code",
   "execution_count": 104,
   "metadata": {},
   "outputs": [
    {
     "data": {
      "text/html": [
       "<dl>\n",
       "\t<dt>$day</dt>\n",
       "\t\t<dd>3.5</dd>\n",
       "\t<dt>$no</dt>\n",
       "\t\t<dd>56.6666666666667</dd>\n",
       "</dl>\n"
      ],
      "text/latex": [
       "\\begin{description}\n",
       "\\item[\\$day] 3.5\n",
       "\\item[\\$no] 56.6666666666667\n",
       "\\end{description}\n"
      ],
      "text/markdown": [
       "$day\n",
       ":   3.5\n",
       "$no\n",
       ":   56.6666666666667\n",
       "\n",
       "\n"
      ],
      "text/plain": [
       "$day\n",
       "[1] 3.5\n",
       "\n",
       "$no\n",
       "[1] 56.66667\n"
      ]
     },
     "metadata": {},
     "output_type": "display_data"
    }
   ],
   "source": [
    "# sapply()의 simplify 옵션을 F로 하면 lapply() 결과와 동일한 경과를 반환함\n",
    "sapply(listPatients$no.patients, mean, simplify = F)"
   ]
  },
  {
   "cell_type": "code",
   "execution_count": 21,
   "metadata": {},
   "outputs": [
    {
     "name": "stdout",
     "output_type": "stream",
     "text": [
      "List of 4\n",
      " $ speed: num 15.4\n",
      " $ dist : num 43\n",
      " $ speed: num 25\n",
      " $ dist : num 120\n"
     ]
    }
   ],
   "source": [
    "str(c(lapply(cars,  max, simplify = F), lapply(cars,  mean, simplify = F))\n",
    "sapply(listPatients$no.patients, mean, simplify = F)"
   ]
  },
  {
   "cell_type": "code",
   "execution_count": null,
   "metadata": {},
   "outputs": [],
   "source": []
  }
 ],
 "metadata": {
  "kernelspec": {
   "display_name": "R",
   "language": "R",
   "name": "ir"
  },
  "language_info": {
   "codemirror_mode": "r",
   "file_extension": ".r",
   "mimetype": "text/x-r-source",
   "name": "R",
   "pygments_lexer": "r",
   "version": "3.6.1"
  }
 },
 "nbformat": 4,
 "nbformat_minor": 4
}
