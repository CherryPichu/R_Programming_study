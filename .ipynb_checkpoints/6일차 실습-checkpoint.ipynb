{
 "cells": [
  {
   "cell_type": "markdown",
   "metadata": {},
   "source": [
    "## tibble\n"
   ]
  },
  {
   "cell_type": "markdown",
   "metadata": {},
   "source": [
    "Tiblle은 data.frame을 현대적으로 재구성하는 것으로 <br>\n",
    "훨씬 대용량 데이터를 다루는데 훨씬 효율적이다. char 데이터 유형을 factor가 아닌 char로 인식하기 때문에<br>\n",
    "문자형을 다루는데 좋다."
   ]
  },
  {
   "cell_type": "code",
   "execution_count": 5,
   "metadata": {},
   "outputs": [
    {
     "name": "stderr",
     "output_type": "stream",
     "text": [
      "Warning message:\n",
      "\"package 'tidyverse' was built under R version 3.6.3\"-- Attaching packages --------------------------------------- tidyverse 1.3.0 --\n",
      "√ ggplot2 3.3.3     √ purrr   0.3.4\n",
      "√ tibble  3.1.0     √ dplyr   1.0.5\n",
      "√ tidyr   1.1.3     √ stringr 1.4.0\n",
      "√ readr   1.3.1     √ forcats 0.4.0\n",
      "Warning message:\n",
      "\"package 'ggplot2' was built under R version 3.6.3\"Warning message:\n",
      "\"package 'tibble' was built under R version 3.6.3\"Warning message:\n",
      "\"package 'tidyr' was built under R version 3.6.3\"Warning message:\n",
      "\"package 'purrr' was built under R version 3.6.3\"Warning message:\n",
      "\"package 'dplyr' was built under R version 3.6.3\"-- Conflicts ------------------------------------------ tidyverse_conflicts() --\n",
      "x dplyr::filter() masks stats::filter()\n",
      "x dplyr::lag()    masks stats::lag()\n"
     ]
    }
   ],
   "source": [
    "library(tidyverse) # tibble 을 가지고 있다."
   ]
  },
  {
   "cell_type": "code",
   "execution_count": 3,
   "metadata": {},
   "outputs": [
    {
     "data": {
      "text/html": [
       "'C:/Users/uskaw/R프로그래밍 실습'"
      ],
      "text/latex": [
       "'C:/Users/uskaw/R프로그래밍 실습'"
      ],
      "text/markdown": [
       "'C:/Users/uskaw/R프로그래밍 실습'"
      ],
      "text/plain": [
       "[1] \"C:/Users/uskaw/R프로그래밍 실습\""
      ]
     },
     "metadata": {},
     "output_type": "display_data"
    }
   ],
   "source": [
    "getwd()"
   ]
  },
  {
   "cell_type": "code",
   "execution_count": 4,
   "metadata": {},
   "outputs": [
    {
     "data": {
      "text/html": [
       "<ol class=list-inline>\n",
       "\t<li>'tbl_df'</li>\n",
       "\t<li>'tbl'</li>\n",
       "\t<li>'data.frame'</li>\n",
       "</ol>\n"
      ],
      "text/latex": [
       "\\begin{enumerate*}\n",
       "\\item 'tbl\\_df'\n",
       "\\item 'tbl'\n",
       "\\item 'data.frame'\n",
       "\\end{enumerate*}\n"
      ],
      "text/markdown": [
       "1. 'tbl_df'\n",
       "2. 'tbl'\n",
       "3. 'data.frame'\n",
       "\n",
       "\n"
      ],
      "text/plain": [
       "[1] \"tbl_df\"     \"tbl\"        \"data.frame\""
      ]
     },
     "metadata": {},
     "output_type": "display_data"
    },
    {
     "data": {
      "text/html": [
       "'data.frame'"
      ],
      "text/latex": [
       "'data.frame'"
      ],
      "text/markdown": [
       "'data.frame'"
      ],
      "text/plain": [
       "[1] \"data.frame\""
      ]
     },
     "metadata": {},
     "output_type": "display_data"
    }
   ],
   "source": [
    "class(as_tibble(iris)) # as_tibble은 원래 data.frame 을 tibble 형태의 데이터로 만든다.\n",
    "class(iris)"
   ]
  },
  {
   "cell_type": "code",
   "execution_count": 9,
   "metadata": {},
   "outputs": [
    {
     "data": {
      "text/html": [
       "<table>\n",
       "<thead><tr><th scope=col>x</th><th scope=col>y</th><th scope=col>z</th></tr></thead>\n",
       "<tbody>\n",
       "\t<tr><td>1 </td><td>1 </td><td> 2</td></tr>\n",
       "\t<tr><td>2 </td><td>1 </td><td> 5</td></tr>\n",
       "\t<tr><td>3 </td><td>1 </td><td>10</td></tr>\n",
       "\t<tr><td>4 </td><td>1 </td><td>17</td></tr>\n",
       "\t<tr><td>5 </td><td>1 </td><td>26</td></tr>\n",
       "</tbody>\n",
       "</table>\n"
      ],
      "text/latex": [
       "\\begin{tabular}{r|lll}\n",
       " x & y & z\\\\\n",
       "\\hline\n",
       "\t 1  & 1  &  2\\\\\n",
       "\t 2  & 1  &  5\\\\\n",
       "\t 3  & 1  & 10\\\\\n",
       "\t 4  & 1  & 17\\\\\n",
       "\t 5  & 1  & 26\\\\\n",
       "\\end{tabular}\n"
      ],
      "text/markdown": [
       "\n",
       "| x | y | z |\n",
       "|---|---|---|\n",
       "| 1  | 1  |  2 |\n",
       "| 2  | 1  |  5 |\n",
       "| 3  | 1  | 10 |\n",
       "| 4  | 1  | 17 |\n",
       "| 5  | 1  | 26 |\n",
       "\n"
      ],
      "text/plain": [
       "  x y z \n",
       "1 1 1  2\n",
       "2 2 1  5\n",
       "3 3 1 10\n",
       "4 4 1 17\n",
       "5 5 1 26"
      ]
     },
     "metadata": {},
     "output_type": "display_data"
    }
   ],
   "source": [
    "#tibble 데이터 프레임 생성\n",
    "# R은 20년된 언어이기 때문에 느리다.\n",
    "tibble(\n",
    "    x = 1:5,\n",
    "    y = 1, # 빈테이블도 하나의 숫자로 채워준다.\n",
    "    z = x ^ 2 + y\n",
    ")"
   ]
  },
  {
   "cell_type": "code",
   "execution_count": 12,
   "metadata": {},
   "outputs": [
    {
     "data": {
      "text/html": [
       "<table>\n",
       "<thead><tr><th scope=col>x</th><th scope=col>y</th><th scope=col>z</th></tr></thead>\n",
       "<tbody>\n",
       "\t<tr><td>a  </td><td>2  </td><td>3.6</td></tr>\n",
       "\t<tr><td>b  </td><td>1  </td><td>8.5</td></tr>\n",
       "</tbody>\n",
       "</table>\n"
      ],
      "text/latex": [
       "\\begin{tabular}{r|lll}\n",
       " x & y & z\\\\\n",
       "\\hline\n",
       "\t a   & 2   & 3.6\\\\\n",
       "\t b   & 1   & 8.5\\\\\n",
       "\\end{tabular}\n"
      ],
      "text/markdown": [
       "\n",
       "| x | y | z |\n",
       "|---|---|---|\n",
       "| a   | 2   | 3.6 |\n",
       "| b   | 1   | 8.5 |\n",
       "\n"
      ],
      "text/plain": [
       "  x y z  \n",
       "1 a 2 3.6\n",
       "2 b 1 8.5"
      ]
     },
     "metadata": {},
     "output_type": "display_data"
    }
   ],
   "source": [
    "tribble(\n",
    "    ~x, ~y, ~z,\n",
    "    #--|--|-----\n",
    "    \"a\" , 2, 3.6,\n",
    "    \"b\", 1, 8.5\n",
    ")"
   ]
  },
  {
   "cell_type": "code",
   "execution_count": 26,
   "metadata": {},
   "outputs": [],
   "source": [
    "df <- tibble(\n",
    "    x = runif(5), # 0 ~ 1 까지의 균일분포\n",
    "    y = rnorm(5) # 정규분포\n",
    ")"
   ]
  },
  {
   "cell_type": "code",
   "execution_count": 27,
   "metadata": {},
   "outputs": [
    {
     "name": "stdout",
     "output_type": "stream",
     "text": [
      "# A tibble: 5 x 2\n",
      "      x      y\n",
      "  <dbl>  <dbl>\n",
      "1 0.216 -0.760\n",
      "2 0.728 -0.539\n",
      "3 0.287 -1.38 \n",
      "4 0.860  2.10 \n",
      "5 0.843  0.909\n"
     ]
    }
   ],
   "source": [
    "df %>% show()"
   ]
  },
  {
   "cell_type": "code",
   "execution_count": 28,
   "metadata": {},
   "outputs": [
    {
     "data": {
      "text/html": [
       "<table>\n",
       "<thead><tr><th scope=col>x</th><th scope=col>y</th></tr></thead>\n",
       "<tbody>\n",
       "\t<tr><td>0.2157344 </td><td>-0.7599899</td></tr>\n",
       "\t<tr><td>0.7277673 </td><td>-0.5392367</td></tr>\n",
       "\t<tr><td>0.2868609 </td><td>-1.3780455</td></tr>\n",
       "\t<tr><td>0.8603059 </td><td> 2.1041156</td></tr>\n",
       "\t<tr><td>0.8433742 </td><td> 0.9091995</td></tr>\n",
       "</tbody>\n",
       "</table>\n"
      ],
      "text/latex": [
       "\\begin{tabular}{r|ll}\n",
       " x & y\\\\\n",
       "\\hline\n",
       "\t 0.2157344  & -0.7599899\\\\\n",
       "\t 0.7277673  & -0.5392367\\\\\n",
       "\t 0.2868609  & -1.3780455\\\\\n",
       "\t 0.8603059  &  2.1041156\\\\\n",
       "\t 0.8433742  &  0.9091995\\\\\n",
       "\\end{tabular}\n"
      ],
      "text/markdown": [
       "\n",
       "| x | y |\n",
       "|---|---|\n",
       "| 0.2157344  | -0.7599899 |\n",
       "| 0.7277673  | -0.5392367 |\n",
       "| 0.2868609  | -1.3780455 |\n",
       "| 0.8603059  |  2.1041156 |\n",
       "| 0.8433742  |  0.9091995 |\n",
       "\n"
      ],
      "text/plain": [
       "  x         y         \n",
       "1 0.2157344 -0.7599899\n",
       "2 0.7277673 -0.5392367\n",
       "3 0.2868609 -1.3780455\n",
       "4 0.8603059  2.1041156\n",
       "5 0.8433742  0.9091995"
      ]
     },
     "metadata": {},
     "output_type": "display_data"
    }
   ],
   "source": [
    "df # google colab or jupyer notebook을 사용하는 경우 %>% show() 붙여줘야\n",
    "# 요약된 정보가 추출됨"
   ]
  },
  {
   "cell_type": "code",
   "execution_count": 29,
   "metadata": {},
   "outputs": [
    {
     "name": "stdout",
     "output_type": "stream",
     "text": [
      "[1] 0.2157344 0.7277673 0.2868609 0.8603059 0.8433742\n"
     ]
    }
   ],
   "source": [
    "df$x %>% show() # 출력"
   ]
  },
  {
   "cell_type": "code",
   "execution_count": 30,
   "metadata": {},
   "outputs": [
    {
     "data": {
      "text/html": [
       "<ol class=list-inline>\n",
       "\t<li>0.215734355850145</li>\n",
       "\t<li>0.72776733408682</li>\n",
       "\t<li>0.286860935622826</li>\n",
       "\t<li>0.860305861569941</li>\n",
       "\t<li>0.843374162679538</li>\n",
       "</ol>\n"
      ],
      "text/latex": [
       "\\begin{enumerate*}\n",
       "\\item 0.215734355850145\n",
       "\\item 0.72776733408682\n",
       "\\item 0.286860935622826\n",
       "\\item 0.860305861569941\n",
       "\\item 0.843374162679538\n",
       "\\end{enumerate*}\n"
      ],
      "text/markdown": [
       "1. 0.215734355850145\n",
       "2. 0.72776733408682\n",
       "3. 0.286860935622826\n",
       "4. 0.860305861569941\n",
       "5. 0.843374162679538\n",
       "\n",
       "\n"
      ],
      "text/plain": [
       "[1] 0.2157344 0.7277673 0.2868609 0.8603059 0.8433742"
      ]
     },
     "metadata": {},
     "output_type": "display_data"
    }
   ],
   "source": [
    "df$x # extract by name, return vector"
   ]
  },
  {
   "cell_type": "code",
   "execution_count": 31,
   "metadata": {},
   "outputs": [
    {
     "data": {
      "text/html": [
       "<ol class=list-inline>\n",
       "\t<li>0.215734355850145</li>\n",
       "\t<li>0.72776733408682</li>\n",
       "\t<li>0.286860935622826</li>\n",
       "\t<li>0.860305861569941</li>\n",
       "\t<li>0.843374162679538</li>\n",
       "</ol>\n"
      ],
      "text/latex": [
       "\\begin{enumerate*}\n",
       "\\item 0.215734355850145\n",
       "\\item 0.72776733408682\n",
       "\\item 0.286860935622826\n",
       "\\item 0.860305861569941\n",
       "\\item 0.843374162679538\n",
       "\\end{enumerate*}\n"
      ],
      "text/markdown": [
       "1. 0.215734355850145\n",
       "2. 0.72776733408682\n",
       "3. 0.286860935622826\n",
       "4. 0.860305861569941\n",
       "5. 0.843374162679538\n",
       "\n",
       "\n"
      ],
      "text/plain": [
       "[1] 0.2157344 0.7277673 0.2868609 0.8603059 0.8433742"
      ]
     },
     "metadata": {},
     "output_type": "display_data"
    }
   ],
   "source": [
    "df[[\"x\"]] # extract by name, return vector"
   ]
  },
  {
   "cell_type": "code",
   "execution_count": 38,
   "metadata": {},
   "outputs": [
    {
     "data": {
      "text/html": [
       "<ol class=list-inline>\n",
       "\t<li>0.215734355850145</li>\n",
       "\t<li>0.72776733408682</li>\n",
       "\t<li>0.286860935622826</li>\n",
       "\t<li>0.860305861569941</li>\n",
       "\t<li>0.843374162679538</li>\n",
       "</ol>\n"
      ],
      "text/latex": [
       "\\begin{enumerate*}\n",
       "\\item 0.215734355850145\n",
       "\\item 0.72776733408682\n",
       "\\item 0.286860935622826\n",
       "\\item 0.860305861569941\n",
       "\\item 0.843374162679538\n",
       "\\end{enumerate*}\n"
      ],
      "text/markdown": [
       "1. 0.215734355850145\n",
       "2. 0.72776733408682\n",
       "3. 0.286860935622826\n",
       "4. 0.860305861569941\n",
       "5. 0.843374162679538\n",
       "\n",
       "\n"
      ],
      "text/plain": [
       "[1] 0.2157344 0.7277673 0.2868609 0.8603059 0.8433742"
      ]
     },
     "metadata": {},
     "output_type": "display_data"
    }
   ],
   "source": [
    "df[[1]] # Extract by position, return vector"
   ]
  },
  {
   "cell_type": "code",
   "execution_count": 39,
   "metadata": {},
   "outputs": [
    {
     "data": {
      "text/html": [
       "<table>\n",
       "<thead><tr><th scope=col>x</th></tr></thead>\n",
       "<tbody>\n",
       "\t<tr><td>0.2157344</td></tr>\n",
       "\t<tr><td>0.7277673</td></tr>\n",
       "\t<tr><td>0.2868609</td></tr>\n",
       "\t<tr><td>0.8603059</td></tr>\n",
       "\t<tr><td>0.8433742</td></tr>\n",
       "</tbody>\n",
       "</table>\n"
      ],
      "text/latex": [
       "\\begin{tabular}{r|l}\n",
       " x\\\\\n",
       "\\hline\n",
       "\t 0.2157344\\\\\n",
       "\t 0.7277673\\\\\n",
       "\t 0.2868609\\\\\n",
       "\t 0.8603059\\\\\n",
       "\t 0.8433742\\\\\n",
       "\\end{tabular}\n"
      ],
      "text/markdown": [
       "\n",
       "| x |\n",
       "|---|\n",
       "| 0.2157344 |\n",
       "| 0.7277673 |\n",
       "| 0.2868609 |\n",
       "| 0.8603059 |\n",
       "| 0.8433742 |\n",
       "\n"
      ],
      "text/plain": [
       "  x        \n",
       "1 0.2157344\n",
       "2 0.7277673\n",
       "3 0.2868609\n",
       "4 0.8603059\n",
       "5 0.8433742"
      ]
     },
     "metadata": {},
     "output_type": "display_data"
    }
   ],
   "source": [
    "df[\"x\"] # Extract by column, return tibble"
   ]
  },
  {
   "cell_type": "code",
   "execution_count": 36,
   "metadata": {},
   "outputs": [
    {
     "data": {
      "text/html": [
       "<table>\n",
       "<thead><tr><th scope=col>x</th></tr></thead>\n",
       "<tbody>\n",
       "\t<tr><td>0.2157344</td></tr>\n",
       "\t<tr><td>0.7277673</td></tr>\n",
       "\t<tr><td>0.2868609</td></tr>\n",
       "\t<tr><td>0.8603059</td></tr>\n",
       "\t<tr><td>0.8433742</td></tr>\n",
       "</tbody>\n",
       "</table>\n"
      ],
      "text/latex": [
       "\\begin{tabular}{r|l}\n",
       " x\\\\\n",
       "\\hline\n",
       "\t 0.2157344\\\\\n",
       "\t 0.7277673\\\\\n",
       "\t 0.2868609\\\\\n",
       "\t 0.8603059\\\\\n",
       "\t 0.8433742\\\\\n",
       "\\end{tabular}\n"
      ],
      "text/markdown": [
       "\n",
       "| x |\n",
       "|---|\n",
       "| 0.2157344 |\n",
       "| 0.7277673 |\n",
       "| 0.2868609 |\n",
       "| 0.8603059 |\n",
       "| 0.8433742 |\n",
       "\n"
      ],
      "text/plain": [
       "  x        \n",
       "1 0.2157344\n",
       "2 0.7277673\n",
       "3 0.2868609\n",
       "4 0.8603059\n",
       "5 0.8433742"
      ]
     },
     "metadata": {},
     "output_type": "display_data"
    }
   ],
   "source": [
    "df[1] # Extract by column, return tibble"
   ]
  },
  {
   "cell_type": "code",
   "execution_count": 37,
   "metadata": {},
   "outputs": [
    {
     "data": {
      "text/html": [
       "<ol class=list-inline>\n",
       "\t<li>0.215734355850145</li>\n",
       "\t<li>0.72776733408682</li>\n",
       "\t<li>0.286860935622826</li>\n",
       "\t<li>0.860305861569941</li>\n",
       "\t<li>0.843374162679538</li>\n",
       "</ol>\n"
      ],
      "text/latex": [
       "\\begin{enumerate*}\n",
       "\\item 0.215734355850145\n",
       "\\item 0.72776733408682\n",
       "\\item 0.286860935622826\n",
       "\\item 0.860305861569941\n",
       "\\item 0.843374162679538\n",
       "\\end{enumerate*}\n"
      ],
      "text/markdown": [
       "1. 0.215734355850145\n",
       "2. 0.72776733408682\n",
       "3. 0.286860935622826\n",
       "4. 0.860305861569941\n",
       "5. 0.843374162679538\n",
       "\n",
       "\n"
      ],
      "text/plain": [
       "[1] 0.2157344 0.7277673 0.2868609 0.8603059 0.8433742"
      ]
     },
     "metadata": {},
     "output_type": "display_data"
    }
   ],
   "source": [
    "df %>% . $x"
   ]
  },
  {
   "cell_type": "markdown",
   "metadata": {},
   "source": [
    "### dpyler \n",
    "#### - dplyr - select , filter, groupby, summarize , %>%\n",
    "dplyr 패키지는 c++로 작성되어 빠르고 가볍다. <br>"
   ]
  },
  {
   "cell_type": "code",
   "execution_count": 6,
   "metadata": {},
   "outputs": [],
   "source": [
    "df <- read.table(file = \"Pre_Season_Batter.csv\", sep=\",\", header=T) %>% as_tibble()\n",
    "\n",
    "# df<- as_tibble(df) 를  %>% 으로 가ㅏㄴ소화"
   ]
  },
  {
   "cell_type": "code",
   "execution_count": 7,
   "metadata": {},
   "outputs": [
    {
     "name": "stdout",
     "output_type": "stream",
     "text": [
      "# A tibble: 1,393 x 29\n",
      "   batter_id batter_name  year team  avg       G    AB     R     H   X2B   X3B\n",
      "       <int> <fct>       <int> <fct> <fct> <int> <int> <int> <int> <int> <int>\n",
      " 1         0 가르시아     2018 LG    0.35      7    20     1     7     1     0\n",
      " 2         1 강경학       2011 한화  0         4     2     2     0     0     0\n",
      " 3         1 강경학       2014 한화  -         4     0     2     0     0     0\n",
      " 4         1 강경학       2015 한화  0.13     10    23     3     3     0     0\n",
      " 5         1 강경학       2016 한화  0.188    14    32     4     6     1     1\n",
      " 6         1 강경학       2017 한화  0.222    11    36    10     8     0     0\n",
      " 7         2 강구성       2013 NC    0         3     4     0     0     0     0\n",
      " 8         2 강구성       2016 NC    0         3     1     0     0     0     0\n",
      " 9         2 강구성       2017 NC    1         2     1     0     1     0     0\n",
      "10        69 김태완       2006 한화  0.2      10    15     0     3     0     0\n",
      "# ... with 1,383 more rows, and 18 more variables: HR <int>, TB <int>,\n",
      "#   RBI <int>, SB <int>, CS <int>, BB <int>, HBP <int>, SO <int>, GDP <int>,\n",
      "#   SLG <dbl>, OBP <dbl>, E <int>, height.weight <fct>, year_born <fct>,\n",
      "#   position <fct>, career <fct>, starting_salary <fct>, OPS <dbl>\n"
     ]
    }
   ],
   "source": [
    "show(df)"
   ]
  },
  {
   "cell_type": "code",
   "execution_count": 8,
   "metadata": {},
   "outputs": [
    {
     "name": "stdout",
     "output_type": "stream",
     "text": [
      "# A tibble: 1,393 x 2\n",
      "   batter_name team \n",
      "   <fct>       <fct>\n",
      " 1 가르시아    LG   \n",
      " 2 강경학      한화 \n",
      " 3 강경학      한화 \n",
      " 4 강경학      한화 \n",
      " 5 강경학      한화 \n",
      " 6 강경학      한화 \n",
      " 7 강구성      NC   \n",
      " 8 강구성      NC   \n",
      " 9 강구성      NC   \n",
      "10 김태완      한화 \n",
      "# ... with 1,383 more rows\n"
     ]
    }
   ],
   "source": [
    "#base R\n",
    "df[, c(\"batter_name\", \"team\")] %>% show()"
   ]
  },
  {
   "cell_type": "code",
   "execution_count": 9,
   "metadata": {},
   "outputs": [
    {
     "name": "stdout",
     "output_type": "stream",
     "text": [
      "# A tibble: 1,393 x 2\n",
      "   batter_name team \n",
      "   <fct>       <fct>\n",
      " 1 가르시아    LG   \n",
      " 2 강경학      한화 \n",
      " 3 강경학      한화 \n",
      " 4 강경학      한화 \n",
      " 5 강경학      한화 \n",
      " 6 강경학      한화 \n",
      " 7 강구성      NC   \n",
      " 8 강구성      NC   \n",
      " 9 강구성      NC   \n",
      "10 김태완      한화 \n",
      "# ... with 1,383 more rows\n"
     ]
    }
   ],
   "source": [
    "#dolyr\n",
    "df %>% select(., batter_name, team) %>% show()"
   ]
  },
  {
   "cell_type": "code",
   "execution_count": 12,
   "metadata": {},
   "outputs": [
    {
     "name": "stdout",
     "output_type": "stream",
     "text": [
      "# A tibble: 1,393 x 27\n",
      "   batter_id  year avg       G    AB     R     H   X2B   X3B    HR    TB   RBI\n",
      "       <int> <int> <fct> <int> <int> <int> <int> <int> <int> <int> <int> <int>\n",
      " 1         0  2018 0.35      7    20     1     7     1     0     1    11     5\n",
      " 2         1  2011 0         4     2     2     0     0     0     0     0     1\n",
      " 3         1  2014 -         4     0     2     0     0     0     0     0     0\n",
      " 4         1  2015 0.13     10    23     3     3     0     0     0     3     1\n",
      " 5         1  2016 0.188    14    32     4     6     1     1     0     9     2\n",
      " 6         1  2017 0.222    11    36    10     8     0     0     2    14     4\n",
      " 7         2  2013 0         3     4     0     0     0     0     0     0     0\n",
      " 8         2  2016 0         3     1     0     0     0     0     0     0     0\n",
      " 9         2  2017 1         2     1     0     1     0     0     0     1     0\n",
      "10        69  2006 0.2      10    15     0     3     0     0     0     3     3\n",
      "# ... with 1,383 more rows, and 15 more variables: SB <int>, CS <int>,\n",
      "#   BB <int>, HBP <int>, SO <int>, GDP <int>, SLG <dbl>, OBP <dbl>, E <int>,\n",
      "#   height.weight <fct>, year_born <fct>, position <fct>, career <fct>,\n",
      "#   starting_salary <fct>, OPS <dbl>\n"
     ]
    }
   ],
   "source": [
    "df %>% select(., -batter_name, -team) %>% show()"
   ]
  },
  {
   "cell_type": "code",
   "execution_count": 13,
   "metadata": {},
   "outputs": [
    {
     "name": "stdout",
     "output_type": "stream",
     "text": [
      "# A tibble: 1,393 x 2\n",
      "   이름     팀   \n",
      "   <fct>    <fct>\n",
      " 1 가르시아 LG   \n",
      " 2 강경학   한화 \n",
      " 3 강경학   한화 \n",
      " 4 강경학   한화 \n",
      " 5 강경학   한화 \n",
      " 6 강경학   한화 \n",
      " 7 강구성   NC   \n",
      " 8 강구성   NC   \n",
      " 9 강구성   NC   \n",
      "10 김태완   한화 \n",
      "# ... with 1,383 more rows\n"
     ]
    }
   ],
   "source": [
    "df %>% select(., 이름 = batter_name, 팀 = team) %>% show()"
   ]
  },
  {
   "cell_type": "code",
   "execution_count": 14,
   "metadata": {},
   "outputs": [
    {
     "name": "stdout",
     "output_type": "stream",
     "text": [
      "# A tibble: 1,393 x 3\n",
      "   batter_name1 batter_name2 batter_name3\n",
      "   <fct>        <fct>        <fct>       \n",
      " 1 가르시아     가르시아     가르시아    \n",
      " 2 강경학       강경학       강경학      \n",
      " 3 강경학       강경학       강경학      \n",
      " 4 강경학       강경학       강경학      \n",
      " 5 강경학       강경학       강경학      \n",
      " 6 강경학       강경학       강경학      \n",
      " 7 강구성       강구성       강구성      \n",
      " 8 강구성       강구성       강구성      \n",
      " 9 강구성       강구성       강구성      \n",
      "10 김태완       김태완       김태완      \n",
      "# ... with 1,383 more rows\n"
     ]
    }
   ],
   "source": [
    "df %>% select(., batter_name1 = batter_name, batter_name2 = batter_name, batter_name3= batter_name) %>% show()"
   ]
  },
  {
   "cell_type": "code",
   "execution_count": 33,
   "metadata": {},
   "outputs": [
    {
     "name": "stdout",
     "output_type": "stream",
     "text": [
      "# A tibble: 1,393 x 3\n",
      "   이름     팀    `R/G`\n",
      "   <fct>    <fct> <int>\n",
      " 1 가르시아 LG        1\n",
      " 2 강경학   한화      2\n",
      " 3 강경학   한화      2\n",
      " 4 강경학   한화      3\n",
      " 5 강경학   한화      4\n",
      " 6 강경학   한화     10\n",
      " 7 강구성   NC        0\n",
      " 8 강구성   NC        0\n",
      " 9 강구성   NC        0\n",
      "10 김태완   한화      0\n",
      "# ... with 1,383 more rows\n"
     ]
    }
   ],
   "source": [
    "df %>% select(., 이름 = batter_name,팀 = team, 'R/G' = R/G) %>% show()"
   ]
  },
  {
   "cell_type": "code",
   "execution_count": 30,
   "metadata": {},
   "outputs": [
    {
     "name": "stdout",
     "output_type": "stream",
     "text": [
      "# A tibble: 1,393 x 3\n",
      "   이름     팀    `R/G`\n",
      "   <fct>    <fct> <int>\n",
      " 1 가르시아 LG        1\n",
      " 2 강경학   한화      2\n",
      " 3 강경학   한화      2\n",
      " 4 강경학   한화      3\n",
      " 5 강경학   한화      4\n",
      " 6 강경학   한화     10\n",
      " 7 강구성   NC        0\n",
      " 8 강구성   NC        0\n",
      " 9 강구성   NC        0\n",
      "10 김태완   한화      0\n",
      "# ... with 1,383 more rows\n"
     ]
    }
   ],
   "source": [
    "show(select(df, 이름 = batter_name,팀 = team, 'R/G' = R/G))"
   ]
  },
  {
   "cell_type": "code",
   "execution_count": 34,
   "metadata": {},
   "outputs": [
    {
     "name": "stdout",
     "output_type": "stream",
     "text": [
      "# A tibble: 1,393 x 29\n",
      "   batter_id batter_name  year team  avg       G    AB     R     H   X2B   X3B\n",
      "       <int> <fct>       <int> <fct> <fct> <int> <int> <int> <int> <int> <int>\n",
      " 1         0 가르시아     2018 LG    0.35      7    20     1     7     1     0\n",
      " 2         1 강경학       2011 한화  0         4     2     2     0     0     0\n",
      " 3         1 강경학       2014 한화  -         4     0     2     0     0     0\n",
      " 4         1 강경학       2015 한화  0.13     10    23     3     3     0     0\n",
      " 5         1 강경학       2016 한화  0.188    14    32     4     6     1     1\n",
      " 6         1 강경학       2017 한화  0.222    11    36    10     8     0     0\n",
      " 7         2 강구성       2013 NC    0         3     4     0     0     0     0\n",
      " 8         2 강구성       2016 NC    0         3     1     0     0     0     0\n",
      " 9         2 강구성       2017 NC    1         2     1     0     1     0     0\n",
      "10        69 김태완       2006 한화  0.2      10    15     0     3     0     0\n",
      "# ... with 1,383 more rows, and 18 more variables: HR <int>, TB <int>,\n",
      "#   RBI <int>, SB <int>, CS <int>, BB <int>, HBP <int>, SO <int>, GDP <int>,\n",
      "#   SLG <dbl>, OBP <dbl>, E <int>, height.weight <fct>, year_born <fct>,\n",
      "#   position <fct>, career <fct>, starting_salary <fct>, OPS <dbl>\n"
     ]
    }
   ],
   "source": [
    "# %>% 의 마지막 단계가 지정된 변수에 저장된다.\n",
    "df %>% show()"
   ]
  },
  {
   "cell_type": "code",
   "execution_count": 35,
   "metadata": {},
   "outputs": [
    {
     "name": "stdout",
     "output_type": "stream",
     "text": [
      "# A tibble: 1,393 x 3\n",
      "   이름     팀    `R/G`\n",
      "   <fct>    <fct> <int>\n",
      " 1 가르시아 LG        1\n",
      " 2 강경학   한화      2\n",
      " 3 강경학   한화      2\n",
      " 4 강경학   한화      3\n",
      " 5 강경학   한화      4\n",
      " 6 강경학   한화     10\n",
      " 7 강구성   NC        0\n",
      " 8 강구성   NC        0\n",
      " 9 강구성   NC        0\n",
      "10 김태완   한화      0\n",
      "# ... with 1,383 more rows\n"
     ]
    }
   ],
   "source": [
    "df_2 <- df %>% select(., 이름 = batter_name,팀 = team, 'R/G' = R/G) %>% show()"
   ]
  },
  {
   "cell_type": "code",
   "execution_count": 36,
   "metadata": {},
   "outputs": [
    {
     "name": "stdout",
     "output_type": "stream",
     "text": [
      "NULL\n"
     ]
    }
   ],
   "source": [
    "show(df_2)"
   ]
  },
  {
   "cell_type": "markdown",
   "metadata": {},
   "source": [
    "#### filter : 어떤 행의 값을 추출한다. \n",
    "\n",
    "base R"
   ]
  },
  {
   "cell_type": "code",
   "execution_count": 39,
   "metadata": {},
   "outputs": [
    {
     "name": "stdout",
     "output_type": "stream",
     "text": [
      "# A tibble: 131 x 2\n",
      "   team  batter_name\n",
      "   <fct> <fct>      \n",
      " 1 한화  강경학     \n",
      " 2 한화  강경학     \n",
      " 3 한화  강경학     \n",
      " 4 한화  강경학     \n",
      " 5 한화  강경학     \n",
      " 6 한화  김태완     \n",
      " 7 한화  김태완     \n",
      " 8 한화  김태완     \n",
      " 9 한화  김태완     \n",
      "10 한화  김태완     \n",
      "# ... with 121 more rows\n"
     ]
    }
   ],
   "source": [
    "df[df$team == \"한화\", c(\"team\", \"batter_name\")] %>% show()"
   ]
  },
  {
   "cell_type": "code",
   "execution_count": 40,
   "metadata": {},
   "outputs": [
    {
     "name": "stdout",
     "output_type": "stream",
     "text": [
      "# A tibble: 104 x 4\n",
      "   team  batter_name     G    AB\n",
      "   <fct> <fct>       <int> <int>\n",
      " 1 한화  강경학         10    23\n",
      " 2 한화  강경학         14    32\n",
      " 3 한화  강경학         11    36\n",
      " 4 한화  김태완         10    15\n",
      " 5 한화  김태완          8    22\n",
      " 6 한화  김태완         10    24\n",
      " 7 한화  김태완         10    25\n",
      " 8 한화  김태완          9    28\n",
      " 9 한화  김태완         10    16\n",
      "10 한화  강상원          6     0\n",
      "# ... with 94 more rows\n"
     ]
    }
   ],
   "source": [
    "df[df$team == \"한화\" & (df$G >= 5 | df$AB >= 15), c(\"team\", \"batter_name\" , \"G\", \"AB\")] %>% show()"
   ]
  },
  {
   "cell_type": "markdown",
   "metadata": {},
   "source": [
    "#### dplyr 방식 : filter 함수"
   ]
  },
  {
   "cell_type": "code",
   "execution_count": 42,
   "metadata": {},
   "outputs": [
    {
     "name": "stdout",
     "output_type": "stream",
     "text": [
      "# A tibble: 104 x 29\n",
      "   batter_id batter_name  year team  avg       G    AB     R     H   X2B   X3B\n",
      "       <int> <fct>       <int> <fct> <fct> <int> <int> <int> <int> <int> <int>\n",
      " 1         1 강경학       2015 한화  0.13     10    23     3     3     0     0\n",
      " 2         1 강경학       2016 한화  0.188    14    32     4     6     1     1\n",
      " 3         1 강경학       2017 한화  0.222    11    36    10     8     0     0\n",
      " 4        69 김태완       2006 한화  0.2      10    15     0     3     0     0\n",
      " 5        69 김태완       2007 한화  0.318     8    22     4     7     3     0\n",
      " 6        69 김태완       2008 한화  0.375    10    24     3     9     1     0\n",
      " 7        69 김태완       2009 한화  0.32     10    25     5     8     3     0\n",
      " 8        69 김태완       2013 한화  0.25      9    28     3     7     0     0\n",
      " 9        69 김태완       2014 한화  0.125    10    16     1     2     0     0\n",
      "10         8 강상원       2016 한화  -         6     0     1     0     0     0\n",
      "# ... with 94 more rows, and 18 more variables: HR <int>, TB <int>, RBI <int>,\n",
      "#   SB <int>, CS <int>, BB <int>, HBP <int>, SO <int>, GDP <int>, SLG <dbl>,\n",
      "#   OBP <dbl>, E <int>, height.weight <fct>, year_born <fct>, position <fct>,\n",
      "#   career <fct>, starting_salary <fct>, OPS <dbl>\n"
     ]
    }
   ],
   "source": [
    "df %>% filter(., team == \"한화\" & (G >= 5 | AB >= 15)) %>% show()"
   ]
  },
  {
   "cell_type": "code",
   "execution_count": 45,
   "metadata": {},
   "outputs": [
    {
     "name": "stdout",
     "output_type": "stream",
     "text": [
      "# A tibble: 104 x 4\n",
      "   team  batter_name     G    AB\n",
      "   <fct> <fct>       <int> <int>\n",
      " 1 한화  강경학         10    23\n",
      " 2 한화  강경학         14    32\n",
      " 3 한화  강경학         11    36\n",
      " 4 한화  김태완         10    15\n",
      " 5 한화  김태완          8    22\n",
      " 6 한화  김태완         10    24\n",
      " 7 한화  김태완         10    25\n",
      " 8 한화  김태완          9    28\n",
      " 9 한화  김태완         10    16\n",
      "10 한화  강상원          6     0\n",
      "# ... with 94 more rows\n"
     ]
    }
   ],
   "source": [
    "df %>% filter(., team == \"한화\" & (G >= 5 | AB >= 15)) %>% select(., team, batter_name, G, AB) %>% show()"
   ]
  },
  {
   "cell_type": "markdown",
   "metadata": {},
   "source": [
    "#### groupby , summarise\n",
    "groupby : split by key <br>\n",
    "summarize : APPLY(sum), Combine"
   ]
  },
  {
   "cell_type": "code",
   "execution_count": 50,
   "metadata": {},
   "outputs": [
    {
     "name": "stdout",
     "output_type": "stream",
     "text": [
      "# A tibble: 1,393 x 29\n",
      "# Groups:   team [13]\n",
      "   batter_id batter_name  year team  avg       G    AB     R     H   X2B   X3B\n",
      "       <int> <fct>       <int> <fct> <fct> <int> <int> <int> <int> <int> <int>\n",
      " 1         0 가르시아     2018 LG    0.35      7    20     1     7     1     0\n",
      " 2         1 강경학       2011 한화  0         4     2     2     0     0     0\n",
      " 3         1 강경학       2014 한화  -         4     0     2     0     0     0\n",
      " 4         1 강경학       2015 한화  0.13     10    23     3     3     0     0\n",
      " 5         1 강경학       2016 한화  0.188    14    32     4     6     1     1\n",
      " 6         1 강경학       2017 한화  0.222    11    36    10     8     0     0\n",
      " 7         2 강구성       2013 NC    0         3     4     0     0     0     0\n",
      " 8         2 강구성       2016 NC    0         3     1     0     0     0     0\n",
      " 9         2 강구성       2017 NC    1         2     1     0     1     0     0\n",
      "10        69 김태완       2006 한화  0.2      10    15     0     3     0     0\n",
      "# ... with 1,383 more rows, and 18 more variables: HR <int>, TB <int>,\n",
      "#   RBI <int>, SB <int>, CS <int>, BB <int>, HBP <int>, SO <int>, GDP <int>,\n",
      "#   SLG <dbl>, OBP <dbl>, E <int>, height.weight <fct>, year_born <fct>,\n",
      "#   position <fct>, career <fct>, starting_salary <fct>, OPS <dbl>\n"
     ]
    }
   ],
   "source": [
    "df %>% group_by(team) %>% show()"
   ]
  },
  {
   "cell_type": "code",
   "execution_count": 57,
   "metadata": {},
   "outputs": [
    {
     "name": "stdout",
     "output_type": "stream",
     "text": [
      "# A tibble: 13 x 4\n",
      "   team     G_AVG  AB_A R_SUM\n",
      "   <fct>    <dbl> <dbl> <int>\n",
      " 1 KIA       7.87  16.8   321\n",
      " 2 KT        7.63  16.3   143\n",
      " 3 LG        8.74  20.3   500\n",
      " 4 NC        8.49  17     195\n",
      " 5 SK        8.37  19.9   426\n",
      " 6 넥센      9.10  19.0   315\n",
      " 7 두산     10.7   22.1   601\n",
      " 8 롯데      8.21  17.7   424\n",
      " 9 삼성      8.79  20.1   416\n",
      "10 우리      7.33  17.3    10\n",
      "11 한화      7.76  18.2   335\n",
      "12 현대     10.1   25.3    42\n",
      "13 히어로즈  8.2   15.6     5\n"
     ]
    }
   ],
   "source": [
    "df %>% group_by(team) %>% summarise(., G_AVG = mean(G), AB_A = mean(AB), R_SUM = sum(R)) %>% show()\n",
    "# 특별하게 계산을 이용해야한다면 summarise를 이용하자"
   ]
  },
  {
   "cell_type": "code",
   "execution_count": 60,
   "metadata": {},
   "outputs": [],
   "source": [
    "df_3 <-df %>% group_by(team) %>% summarise(., G_AVG = mean(G), AB_A = mean(AB), R_SUM = sum(R)) "
   ]
  },
  {
   "cell_type": "code",
   "execution_count": 220,
   "metadata": {},
   "outputs": [
    {
     "data": {
      "text/html": [
       "<table>\n",
       "<thead><tr><th scope=col>team</th><th scope=col>G_AVG</th><th scope=col>AB_A</th><th scope=col>R_SUM</th></tr></thead>\n",
       "<tbody>\n",
       "\t<tr><td>KIA      </td><td> 7.871212</td><td>16.84091 </td><td>321      </td></tr>\n",
       "\t<tr><td>KT       </td><td> 7.631579</td><td>16.33333 </td><td>143      </td></tr>\n",
       "\t<tr><td>LG       </td><td> 8.741379</td><td>20.32759 </td><td>500      </td></tr>\n",
       "\t<tr><td>NC       </td><td> 8.488636</td><td>17.00000 </td><td>195      </td></tr>\n",
       "\t<tr><td>SK       </td><td> 8.372781</td><td>19.88166 </td><td>426      </td></tr>\n",
       "\t<tr><td>넥센     </td><td> 9.098214</td><td>19.00893 </td><td>315      </td></tr>\n",
       "\t<tr><td>두산     </td><td>10.736559</td><td>22.09677 </td><td>601      </td></tr>\n",
       "\t<tr><td>롯데     </td><td> 8.210843</td><td>17.74096 </td><td>424      </td></tr>\n",
       "\t<tr><td>삼성     </td><td> 8.785235</td><td>20.06040 </td><td>416      </td></tr>\n",
       "\t<tr><td>우리     </td><td> 7.333333</td><td>17.33333 </td><td> 10      </td></tr>\n",
       "\t<tr><td>한화     </td><td> 7.755725</td><td>18.24427 </td><td>335      </td></tr>\n",
       "\t<tr><td>현대     </td><td>10.055556</td><td>25.33333 </td><td> 42      </td></tr>\n",
       "\t<tr><td>히어로즈 </td><td> 8.200000</td><td>15.60000 </td><td>  5      </td></tr>\n",
       "</tbody>\n",
       "</table>\n"
      ],
      "text/latex": [
       "\\begin{tabular}{r|llll}\n",
       " team & G\\_AVG & AB\\_A & R\\_SUM\\\\\n",
       "\\hline\n",
       "\t KIA       &  7.871212 & 16.84091  & 321      \\\\\n",
       "\t KT        &  7.631579 & 16.33333  & 143      \\\\\n",
       "\t LG        &  8.741379 & 20.32759  & 500      \\\\\n",
       "\t NC        &  8.488636 & 17.00000  & 195      \\\\\n",
       "\t SK        &  8.372781 & 19.88166  & 426      \\\\\n",
       "\t 넥센      &  9.098214 & 19.00893  & 315      \\\\\n",
       "\t 두산      & 10.736559 & 22.09677  & 601      \\\\\n",
       "\t 롯데      &  8.210843 & 17.74096  & 424      \\\\\n",
       "\t 삼성      &  8.785235 & 20.06040  & 416      \\\\\n",
       "\t 우리      &  7.333333 & 17.33333  &  10      \\\\\n",
       "\t 한화      &  7.755725 & 18.24427  & 335      \\\\\n",
       "\t 현대      & 10.055556 & 25.33333  &  42      \\\\\n",
       "\t 히어로즈  &  8.200000 & 15.60000  &   5      \\\\\n",
       "\\end{tabular}\n"
      ],
      "text/markdown": [
       "\n",
       "| team | G_AVG | AB_A | R_SUM |\n",
       "|---|---|---|---|\n",
       "| KIA       |  7.871212 | 16.84091  | 321       |\n",
       "| KT        |  7.631579 | 16.33333  | 143       |\n",
       "| LG        |  8.741379 | 20.32759  | 500       |\n",
       "| NC        |  8.488636 | 17.00000  | 195       |\n",
       "| SK        |  8.372781 | 19.88166  | 426       |\n",
       "| 넥센      |  9.098214 | 19.00893  | 315       |\n",
       "| 두산      | 10.736559 | 22.09677  | 601       |\n",
       "| 롯데      |  8.210843 | 17.74096  | 424       |\n",
       "| 삼성      |  8.785235 | 20.06040  | 416       |\n",
       "| 우리      |  7.333333 | 17.33333  |  10       |\n",
       "| 한화      |  7.755725 | 18.24427  | 335       |\n",
       "| 현대      | 10.055556 | 25.33333  |  42       |\n",
       "| 히어로즈  |  8.200000 | 15.60000  |   5       |\n",
       "\n"
      ],
      "text/plain": [
       "   team     G_AVG     AB_A     R_SUM\n",
       "1  KIA       7.871212 16.84091 321  \n",
       "2  KT        7.631579 16.33333 143  \n",
       "3  LG        8.741379 20.32759 500  \n",
       "4  NC        8.488636 17.00000 195  \n",
       "5  SK        8.372781 19.88166 426  \n",
       "6  넥센      9.098214 19.00893 315  \n",
       "7  두산     10.736559 22.09677 601  \n",
       "8  롯데      8.210843 17.74096 424  \n",
       "9  삼성      8.785235 20.06040 416  \n",
       "10 우리      7.333333 17.33333  10  \n",
       "11 한화      7.755725 18.24427 335  \n",
       "12 현대     10.055556 25.33333  42  \n",
       "13 히어로즈  8.200000 15.60000   5  "
      ]
     },
     "metadata": {},
     "output_type": "display_data"
    }
   ],
   "source": [
    "df_3"
   ]
  },
  {
   "cell_type": "code",
   "execution_count": 266,
   "metadata": {},
   "outputs": [],
   "source": [
    "#과제1\n",
    "df = read.csv(\"Pre_Season_Batter.csv\",header = T, stringsAsFactors = F)"
   ]
  },
  {
   "cell_type": "code",
   "execution_count": 267,
   "metadata": {},
   "outputs": [],
   "source": [
    "team2hometown = function(df){\n",
    "    temp <- c()\n",
    "    for(team in df[,\"team\"]){\n",
    "        switch(team,\n",
    "            LG = temp <- c(temp , '서울'),\n",
    "            NC = temp <- c(temp , '창원'),\n",
    "            롯데 = temp <- c(temp , '부산'),\n",
    "            KT = temp <- c(temp , '수원'),\n",
    "             KIA= temp <- c(temp , '광주'),\n",
    "            히어로즈 = temp <- c(temp , '서울'),\n",
    "               한화 = temp <- c(temp , '대전'),\n",
    "                현대= temp <- c(temp , '수원'),\n",
    "               삼성 = temp <- c(temp , '대구'),\n",
    "               SK = temp <- c(temp , '인천'),\n",
    "               넥센 = temp <- c(temp , '서울'),\n",
    "               두산 = temp <- c(temp , '서울'),\n",
    "               우리 = temp <- c(temp , '서울'),\n",
    "               temp <- c(temp, NA)\n",
    "              )\n",
    "    }\n",
    "    return(data.frame(df, hometown = temp))\n",
    "}"
   ]
  },
  {
   "cell_type": "code",
   "execution_count": 268,
   "metadata": {},
   "outputs": [
    {
     "data": {
      "text/html": [
       "0"
      ],
      "text/latex": [
       "0"
      ],
      "text/markdown": [
       "0"
      ],
      "text/plain": [
       "[1] 0"
      ]
     },
     "metadata": {},
     "output_type": "display_data"
    }
   ],
   "source": [
    "df <- team2hometown(df)\n",
    "sum(is.na(df$hometown))"
   ]
  },
  {
   "cell_type": "code",
   "execution_count": 269,
   "metadata": {},
   "outputs": [
    {
     "name": "stdout",
     "output_type": "stream",
     "text": [
      "'data.frame':\t1393 obs. of  31 variables:\n",
      " $ batter_id      : int  0 1 1 1 1 1 2 2 2 69 ...\n",
      " $ batter_name    : chr  \"가르시아\" \"강경학\" \"강경학\" \"강경학\" ...\n",
      " $ year           : int  2018 2011 2014 2015 2016 2017 2013 2016 2017 2006 ...\n",
      " $ team           : chr  \"LG\" \"한화\" \"한화\" \"한화\" ...\n",
      " $ avg            : chr  \"0.35\" \"0\" \"-\" \"0.13\" ...\n",
      " $ G              : int  7 4 4 10 14 11 3 3 2 10 ...\n",
      " $ AB             : int  20 2 0 23 32 36 4 1 1 15 ...\n",
      " $ R              : int  1 2 2 3 4 10 0 0 0 0 ...\n",
      " $ H              : int  7 0 0 3 6 8 0 0 1 3 ...\n",
      " $ X2B            : int  1 0 0 0 1 0 0 0 0 0 ...\n",
      " $ X3B            : int  0 0 0 0 1 0 0 0 0 0 ...\n",
      " $ HR             : int  1 0 0 0 0 2 0 0 0 0 ...\n",
      " $ TB             : int  11 0 0 3 9 14 0 0 1 3 ...\n",
      " $ RBI            : int  5 1 0 1 2 4 0 0 0 3 ...\n",
      " $ SB             : int  0 0 0 3 1 0 0 1 0 0 ...\n",
      " $ CS             : int  0 1 0 0 2 0 0 0 0 0 ...\n",
      " $ BB             : int  2 0 0 4 0 3 0 1 0 1 ...\n",
      " $ HBP            : int  0 2 0 1 1 0 0 0 0 1 ...\n",
      " $ SO             : int  3 1 0 9 10 10 0 0 0 5 ...\n",
      " $ GDP            : int  1 0 0 0 0 0 1 1 0 1 ...\n",
      " $ SLG            : num  0.55 0 NA 0.13 0.281 0.389 0 0 1 0.2 ...\n",
      " $ OBP            : num  0.409 0.5 NA 0.286 0.212 0.282 0 0.5 1 0.278 ...\n",
      " $ E              : int  1 0 0 2 0 1 0 0 0 0 ...\n",
      " $ height.weight  : chr  \"177cm/93kg\" \"180cm/72kg\" \"180cm/72kg\" \"180cm/72kg\" ...\n",
      " $ year_born      : chr  \"1985년 04월 12일\" \"1992년 08월 11일\" \"1992년 08월 11일\" \"1992년 08월 11일\" ...\n",
      " $ position       : chr  \"내야수(우투우타)\" \"내야수(우투좌타)\" \"내야수(우투좌타)\" \"내야수(우투좌타)\" ...\n",
      " $ career         : chr  \"쿠바 Ciego de Avila Maximo Gomez Baez(대)\" \"광주대성초-광주동성중-광주동성고\" \"광주대성초-광주동성중-광주동성고\" \"광주대성초-광주동성중-광주동성고\" ...\n",
      " $ starting_salary: chr  \"\" \"10000만원\" \"10000만원\" \"10000만원\" ...\n",
      " $ OPS            : num  0.959 0.5 NA 0.416 0.493 0.671 0 0.5 2 0.478 ...\n",
      " $ hometown       : Factor w/ 8 levels \"광주\",\"대구\",..: 5 3 3 3 3 3 8 8 8 3 ...\n",
      " $ hometown.1     : Factor w/ 8 levels \"광주\",\"대구\",..: 5 3 3 3 3 3 8 8 8 3 ...\n"
     ]
    }
   ],
   "source": [
    "str(team2hometown(df))"
   ]
  },
  {
   "cell_type": "code",
   "execution_count": 270,
   "metadata": {},
   "outputs": [
    {
     "data": {
      "text/html": [
       "<ol class=list-inline>\n",
       "\t<li>'LG'</li>\n",
       "\t<li>'한화'</li>\n",
       "\t<li>'NC'</li>\n",
       "\t<li>'넥센'</li>\n",
       "\t<li>'롯데'</li>\n",
       "\t<li>'삼성'</li>\n",
       "\t<li>'KT'</li>\n",
       "\t<li>'SK'</li>\n",
       "\t<li>'KIA'</li>\n",
       "\t<li>'두산'</li>\n",
       "\t<li>'히어로즈'</li>\n",
       "\t<li>'우리'</li>\n",
       "\t<li>'현대'</li>\n",
       "</ol>\n"
      ],
      "text/latex": [
       "\\begin{enumerate*}\n",
       "\\item 'LG'\n",
       "\\item '한화'\n",
       "\\item 'NC'\n",
       "\\item '넥센'\n",
       "\\item '롯데'\n",
       "\\item '삼성'\n",
       "\\item 'KT'\n",
       "\\item 'SK'\n",
       "\\item 'KIA'\n",
       "\\item '두산'\n",
       "\\item '히어로즈'\n",
       "\\item '우리'\n",
       "\\item '현대'\n",
       "\\end{enumerate*}\n"
      ],
      "text/markdown": [
       "1. 'LG'\n",
       "2. '한화'\n",
       "3. 'NC'\n",
       "4. '넥센'\n",
       "5. '롯데'\n",
       "6. '삼성'\n",
       "7. 'KT'\n",
       "8. 'SK'\n",
       "9. 'KIA'\n",
       "10. '두산'\n",
       "11. '히어로즈'\n",
       "12. '우리'\n",
       "13. '현대'\n",
       "\n",
       "\n"
      ],
      "text/plain": [
       " [1] \"LG\"       \"한화\"     \"NC\"       \"넥센\"     \"롯데\"     \"삼성\"    \n",
       " [7] \"KT\"       \"SK\"       \"KIA\"      \"두산\"     \"히어로즈\" \"우리\"    \n",
       "[13] \"현대\"    "
      ]
     },
     "metadata": {},
     "output_type": "display_data"
    }
   ],
   "source": [
    "unique(df$team)"
   ]
  },
  {
   "cell_type": "code",
   "execution_count": 271,
   "metadata": {},
   "outputs": [
    {
     "data": {
      "text/html": [
       "<table>\n",
       "<thead><tr><th scope=col>team</th><th scope=col>hometown</th></tr></thead>\n",
       "<tbody>\n",
       "\t<tr><td>LG  </td><td>서울</td></tr>\n",
       "\t<tr><td>한화</td><td>대전</td></tr>\n",
       "\t<tr><td>한화</td><td>대전</td></tr>\n",
       "\t<tr><td>한화</td><td>대전</td></tr>\n",
       "\t<tr><td>한화</td><td>대전</td></tr>\n",
       "\t<tr><td>한화</td><td>대전</td></tr>\n",
       "\t<tr><td>NC  </td><td>창원</td></tr>\n",
       "\t<tr><td>NC  </td><td>창원</td></tr>\n",
       "\t<tr><td>NC  </td><td>창원</td></tr>\n",
       "\t<tr><td>한화</td><td>대전</td></tr>\n",
       "\t<tr><td>한화</td><td>대전</td></tr>\n",
       "\t<tr><td>한화</td><td>대전</td></tr>\n",
       "\t<tr><td>한화</td><td>대전</td></tr>\n",
       "\t<tr><td>한화</td><td>대전</td></tr>\n",
       "\t<tr><td>한화</td><td>대전</td></tr>\n",
       "\t<tr><td>한화</td><td>대전</td></tr>\n",
       "\t<tr><td>한화</td><td>대전</td></tr>\n",
       "\t<tr><td>넥센</td><td>서울</td></tr>\n",
       "\t<tr><td>넥센</td><td>서울</td></tr>\n",
       "\t<tr><td>NC  </td><td>창원</td></tr>\n",
       "</tbody>\n",
       "</table>\n"
      ],
      "text/latex": [
       "\\begin{tabular}{r|ll}\n",
       " team & hometown\\\\\n",
       "\\hline\n",
       "\t LG   & 서울\\\\\n",
       "\t 한화 & 대전\\\\\n",
       "\t 한화 & 대전\\\\\n",
       "\t 한화 & 대전\\\\\n",
       "\t 한화 & 대전\\\\\n",
       "\t 한화 & 대전\\\\\n",
       "\t NC   & 창원\\\\\n",
       "\t NC   & 창원\\\\\n",
       "\t NC   & 창원\\\\\n",
       "\t 한화 & 대전\\\\\n",
       "\t 한화 & 대전\\\\\n",
       "\t 한화 & 대전\\\\\n",
       "\t 한화 & 대전\\\\\n",
       "\t 한화 & 대전\\\\\n",
       "\t 한화 & 대전\\\\\n",
       "\t 한화 & 대전\\\\\n",
       "\t 한화 & 대전\\\\\n",
       "\t 넥센 & 서울\\\\\n",
       "\t 넥센 & 서울\\\\\n",
       "\t NC   & 창원\\\\\n",
       "\\end{tabular}\n"
      ],
      "text/markdown": [
       "\n",
       "| team | hometown |\n",
       "|---|---|\n",
       "| LG   | 서울 |\n",
       "| 한화 | 대전 |\n",
       "| 한화 | 대전 |\n",
       "| 한화 | 대전 |\n",
       "| 한화 | 대전 |\n",
       "| 한화 | 대전 |\n",
       "| NC   | 창원 |\n",
       "| NC   | 창원 |\n",
       "| NC   | 창원 |\n",
       "| 한화 | 대전 |\n",
       "| 한화 | 대전 |\n",
       "| 한화 | 대전 |\n",
       "| 한화 | 대전 |\n",
       "| 한화 | 대전 |\n",
       "| 한화 | 대전 |\n",
       "| 한화 | 대전 |\n",
       "| 한화 | 대전 |\n",
       "| 넥센 | 서울 |\n",
       "| 넥센 | 서울 |\n",
       "| NC   | 창원 |\n",
       "\n"
      ],
      "text/plain": [
       "   team hometown\n",
       "1  LG   서울    \n",
       "2  한화 대전    \n",
       "3  한화 대전    \n",
       "4  한화 대전    \n",
       "5  한화 대전    \n",
       "6  한화 대전    \n",
       "7  NC   창원    \n",
       "8  NC   창원    \n",
       "9  NC   창원    \n",
       "10 한화 대전    \n",
       "11 한화 대전    \n",
       "12 한화 대전    \n",
       "13 한화 대전    \n",
       "14 한화 대전    \n",
       "15 한화 대전    \n",
       "16 한화 대전    \n",
       "17 한화 대전    \n",
       "18 넥센 서울    \n",
       "19 넥센 서울    \n",
       "20 NC   창원    "
      ]
     },
     "metadata": {},
     "output_type": "display_data"
    }
   ],
   "source": [
    "head(df[c('team', 'hometown')], 20)"
   ]
  },
  {
   "cell_type": "code",
   "execution_count": null,
   "metadata": {},
   "outputs": [],
   "source": []
  },
  {
   "cell_type": "code",
   "execution_count": null,
   "metadata": {},
   "outputs": [],
   "source": []
  },
  {
   "cell_type": "code",
   "execution_count": null,
   "metadata": {},
   "outputs": [],
   "source": []
  },
  {
   "cell_type": "code",
   "execution_count": null,
   "metadata": {},
   "outputs": [],
   "source": []
  },
  {
   "cell_type": "code",
   "execution_count": null,
   "metadata": {},
   "outputs": [],
   "source": []
  }
 ],
 "metadata": {
  "kernelspec": {
   "display_name": "R",
   "language": "R",
   "name": "ir"
  },
  "language_info": {
   "codemirror_mode": "r",
   "file_extension": ".r",
   "mimetype": "text/x-r-source",
   "name": "R",
   "pygments_lexer": "r",
   "version": "3.6.1"
  }
 },
 "nbformat": 4,
 "nbformat_minor": 4
}
