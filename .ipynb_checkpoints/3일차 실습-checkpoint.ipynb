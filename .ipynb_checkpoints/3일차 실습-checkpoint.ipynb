{
 "cells": [
  {
   "cell_type": "markdown",
   "metadata": {},
   "source": [
    "vector , matrix , array , data frame , list"
   ]
  },
  {
   "cell_type": "code",
   "execution_count": 1,
   "metadata": {},
   "outputs": [
    {
     "data": {
      "text/html": [
       "<pre class=language-r><code>function (mode = \"logical\", length = 0L) \n",
       ".Internal(vector(mode, length))</code></pre>"
      ],
      "text/latex": [
       "\\begin{minted}{r}\n",
       "function (mode = \"logical\", length = 0L) \n",
       ".Internal(vector(mode, length))\n",
       "\\end{minted}"
      ],
      "text/markdown": [
       "```r\n",
       "function (mode = \"logical\", length = 0L) \n",
       ".Internal(vector(mode, length))\n",
       "```"
      ],
      "text/plain": [
       "function (mode = \"logical\", length = 0L) \n",
       ".Internal(vector(mode, length))\n",
       "<bytecode: 0x00000000410952d8>\n",
       "<environment: namespace:base>"
      ]
     },
     "metadata": {},
     "output_type": "display_data"
    }
   ],
   "source": [
    "vector"
   ]
  },
  {
   "cell_type": "markdown",
   "metadata": {},
   "source": [
    "df[1:3 , 2, drop=F] # 드롭을 통해서 차원 축소를 방지한다. 벡터 형식으로 추출하기 때문에 차원유지를 위해서 drop = F 를 넣는다."
   ]
  },
  {
   "cell_type": "code",
   "execution_count": 2,
   "metadata": {},
   "outputs": [
    {
     "ename": "ERROR",
     "evalue": "Error in `levels<-`(`*tmp*`, value = as.character(levels)): factor level [3] is duplicated\n",
     "output_type": "error",
     "traceback": [
      "Error in `levels<-`(`*tmp*`, value = as.character(levels)): factor level [3] is duplicated\nTraceback:\n",
      "1. factor(col1, col2)"
     ]
    }
   ],
   "source": [
    "col1 <- c(1,2,3,4)\n",
    "col2 <- c(\"M\",\"F\",\"M\",\"M\",\"F\")\n",
    "col3 <- c(TRUE, FALSE, TRUE, FALSE)\n",
    "factor(col1, col2)\n",
    "\n",
    "# DF1 <- data.frame(factor(a = col1, b= col2, c = col))"
   ]
  },
  {
   "cell_type": "code",
   "execution_count": 4,
   "metadata": {},
   "outputs": [
    {
     "data": {
      "text/html": [
       "<table>\n",
       "<thead><tr><th scope=col>col</th><th scope=col>col2</th><th scope=col>col3</th></tr></thead>\n",
       "<tbody>\n",
       "\t<tr><td>1    </td><td>M    </td><td> TRUE</td></tr>\n",
       "\t<tr><td>2    </td><td>F    </td><td>FALSE</td></tr>\n",
       "\t<tr><td>3    </td><td>M    </td><td> TRUE</td></tr>\n",
       "\t<tr><td>4    </td><td>M    </td><td>FALSE</td></tr>\n",
       "</tbody>\n",
       "</table>\n"
      ],
      "text/latex": [
       "\\begin{tabular}{r|lll}\n",
       " col & col2 & col3\\\\\n",
       "\\hline\n",
       "\t 1     & M     &  TRUE\\\\\n",
       "\t 2     & F     & FALSE\\\\\n",
       "\t 3     & M     &  TRUE\\\\\n",
       "\t 4     & M     & FALSE\\\\\n",
       "\\end{tabular}\n"
      ],
      "text/markdown": [
       "\n",
       "| col | col2 | col3 |\n",
       "|---|---|---|\n",
       "| 1     | M     |  TRUE |\n",
       "| 2     | F     | FALSE |\n",
       "| 3     | M     |  TRUE |\n",
       "| 4     | M     | FALSE |\n",
       "\n"
      ],
      "text/plain": [
       "  col col2 col3 \n",
       "1 1   M     TRUE\n",
       "2 2   F    FALSE\n",
       "3 3   M     TRUE\n",
       "4 4   M    FALSE"
      ]
     },
     "metadata": {},
     "output_type": "display_data"
    }
   ],
   "source": [
    "max.num <- min(length(col1), length(col2), length(col3)) # 각 요소중 가장 작은 요소의 길이를 가져온다.\n",
    "df = data.frame(col = col1[1:max.num], col2 = col2[1:max.num], col3 = col3[1:max.num]) # 그후 가작 작은 요소만큼.\n",
    "df"
   ]
  },
  {
   "cell_type": "code",
   "execution_count": 122,
   "metadata": {},
   "outputs": [
    {
     "data": {
      "text/html": [
       "<table>\n",
       "<thead><tr><th scope=col>col1</th><th scope=col>col2</th><th scope=col>col3</th></tr></thead>\n",
       "<tbody>\n",
       "\t<tr><td>1    </td><td>M    </td><td> TRUE</td></tr>\n",
       "\t<tr><td>2    </td><td>F    </td><td>FALSE</td></tr>\n",
       "\t<tr><td>3    </td><td>M    </td><td> TRUE</td></tr>\n",
       "\t<tr><td>4    </td><td>M    </td><td>FALSE</td></tr>\n",
       "\t<tr><td>2    </td><td>F    </td><td>FALSE</td></tr>\n",
       "</tbody>\n",
       "</table>\n"
      ],
      "text/latex": [
       "\\begin{tabular}{r|lll}\n",
       " col1 & col2 & col3\\\\\n",
       "\\hline\n",
       "\t 1     & M     &  TRUE\\\\\n",
       "\t 2     & F     & FALSE\\\\\n",
       "\t 3     & M     &  TRUE\\\\\n",
       "\t 4     & M     & FALSE\\\\\n",
       "\t 2     & F     & FALSE\\\\\n",
       "\\end{tabular}\n"
      ],
      "text/markdown": [
       "\n",
       "| col1 | col2 | col3 |\n",
       "|---|---|---|\n",
       "| 1     | M     |  TRUE |\n",
       "| 2     | F     | FALSE |\n",
       "| 3     | M     |  TRUE |\n",
       "| 4     | M     | FALSE |\n",
       "| 2     | F     | FALSE |\n",
       "\n"
      ],
      "text/plain": [
       "  col1 col2 col3 \n",
       "1 1    M     TRUE\n",
       "2 2    F    FALSE\n",
       "3 3    M     TRUE\n",
       "4 4    M    FALSE\n",
       "5 2    F    FALSE"
      ]
     },
     "metadata": {},
     "output_type": "display_data"
    }
   ],
   "source": [
    "col1 <- c(1,2,3,4)\n",
    "col2 <- c(\"M\",\"F\",\"M\",\"M\",\"F\")\n",
    "col3 <- c(TRUE, FALSE, TRUE, FALSE)\n",
    "\n",
    "col3 <- c(col3, c(as.logical(round(mean(col3)))))\n",
    "col1 <- c(col1, round(mean(col1)))\n",
    "# col1\n",
    "data.frame(col1, col2, col3)"
   ]
  },
  {
   "cell_type": "code",
   "execution_count": 80,
   "metadata": {},
   "outputs": [
    {
     "data": {
      "text/html": [
       "<ol class=list-inline>\n",
       "\t<li>TRUE</li>\n",
       "\t<li>FALSE</li>\n",
       "\t<li>TRUE</li>\n",
       "\t<li>FALSE</li>\n",
       "</ol>\n"
      ],
      "text/latex": [
       "\\begin{enumerate*}\n",
       "\\item TRUE\n",
       "\\item FALSE\n",
       "\\item TRUE\n",
       "\\item FALSE\n",
       "\\end{enumerate*}\n"
      ],
      "text/markdown": [
       "1. TRUE\n",
       "2. FALSE\n",
       "3. TRUE\n",
       "4. FALSE\n",
       "\n",
       "\n"
      ],
      "text/plain": [
       "[1]  TRUE FALSE  TRUE FALSE"
      ]
     },
     "metadata": {},
     "output_type": "display_data"
    }
   ],
   "source": [
    "col3"
   ]
  },
  {
   "cell_type": "markdown",
   "metadata": {},
   "source": [
    "### 결측치(NA)란\n",
    "변수는 데이터를 담는 상자에 비유할 수 있다.\n",
    "다음의 두 경우를 생각해보자\n",
    "\n",
    "1. 상자에 데이터가 담겨 있는데 상자가 포자오디어 있어서 안에 뭐가 들었는지 모르는 경우\n",
    "2. 상자는 있는데 아무 것도 안들어 있는 빈 상자의 경우\n",
    "\n",
    "우리는 1번을 NA , 2번을 NULL 이라고 부른다.\n",
    "NA는 존재하지만 불확실한 값이고 NULL은 존재하지 않으며 비어있는 값\n",
    "\n",
    "### 결측치(NA) 제거하기\n",
    "경우에 따라 NA 가 있는 관측치는 제거해야 할 필요가 존재함 - NA가 포함된 행 전체\n",
    "결측치를 제거하는 방법에는 두 가지가 있다.\n",
    "\n",
    "1. **na.omit()**를 사용하는 방법 - NA가 있는 행을 제외하는 함수\n",
    "2. **complete.cases()**를 사용하는 방법 - NA가 없는 행을 TRUE로 반환 / NA가 없는 행만 추출하는데 사용"
   ]
  },
  {
   "cell_type": "code",
   "execution_count": 5,
   "metadata": {},
   "outputs": [
    {
     "data": {
      "text/html": [
       "<table>\n",
       "<thead><tr><th scope=col>x</th><th scope=col>y</th></tr></thead>\n",
       "<tbody>\n",
       "\t<tr><td> 1</td><td> 5</td></tr>\n",
       "\t<tr><td> 2</td><td> 4</td></tr>\n",
       "\t<tr><td> 3</td><td> 2</td></tr>\n",
       "\t<tr><td>NA</td><td> 2</td></tr>\n",
       "\t<tr><td> 7</td><td>NA</td></tr>\n",
       "\t<tr><td> 8</td><td> 9</td></tr>\n",
       "</tbody>\n",
       "</table>\n"
      ],
      "text/latex": [
       "\\begin{tabular}{r|ll}\n",
       " x & y\\\\\n",
       "\\hline\n",
       "\t  1 &  5\\\\\n",
       "\t  2 &  4\\\\\n",
       "\t  3 &  2\\\\\n",
       "\t NA &  2\\\\\n",
       "\t  7 & NA\\\\\n",
       "\t  8 &  9\\\\\n",
       "\\end{tabular}\n"
      ],
      "text/markdown": [
       "\n",
       "| x | y |\n",
       "|---|---|\n",
       "|  1 |  5 |\n",
       "|  2 |  4 |\n",
       "|  3 |  2 |\n",
       "| NA |  2 |\n",
       "|  7 | NA |\n",
       "|  8 |  9 |\n",
       "\n"
      ],
      "text/plain": [
       "  x  y \n",
       "1  1  5\n",
       "2  2  4\n",
       "3  3  2\n",
       "4 NA  2\n",
       "5  7 NA\n",
       "6  8  9"
      ]
     },
     "metadata": {},
     "output_type": "display_data"
    }
   ],
   "source": [
    "df <- data.frame(x=c(1,2,3,NA,7,8) , y=c(5,4,2,2,NA,9))\n",
    "df"
   ]
  },
  {
   "cell_type": "code",
   "execution_count": 6,
   "metadata": {},
   "outputs": [
    {
     "data": {
      "text/html": [
       "<table>\n",
       "<thead><tr><th></th><th scope=col>x</th><th scope=col>y</th></tr></thead>\n",
       "<tbody>\n",
       "\t<tr><th scope=row>1</th><td>1</td><td>5</td></tr>\n",
       "\t<tr><th scope=row>2</th><td>2</td><td>4</td></tr>\n",
       "\t<tr><th scope=row>3</th><td>3</td><td>2</td></tr>\n",
       "\t<tr><th scope=row>6</th><td>8</td><td>9</td></tr>\n",
       "</tbody>\n",
       "</table>\n"
      ],
      "text/latex": [
       "\\begin{tabular}{r|ll}\n",
       "  & x & y\\\\\n",
       "\\hline\n",
       "\t1 & 1 & 5\\\\\n",
       "\t2 & 2 & 4\\\\\n",
       "\t3 & 3 & 2\\\\\n",
       "\t6 & 8 & 9\\\\\n",
       "\\end{tabular}\n"
      ],
      "text/markdown": [
       "\n",
       "| <!--/--> | x | y |\n",
       "|---|---|---|\n",
       "| 1 | 1 | 5 |\n",
       "| 2 | 2 | 4 |\n",
       "| 3 | 3 | 2 |\n",
       "| 6 | 8 | 9 |\n",
       "\n"
      ],
      "text/plain": [
       "  x y\n",
       "1 1 5\n",
       "2 2 4\n",
       "3 3 2\n",
       "6 8 9"
      ]
     },
     "metadata": {},
     "output_type": "display_data"
    }
   ],
   "source": [
    "# 첫 번째 방법\n",
    "clean <- na.omit(df)\n",
    "clean"
   ]
  },
  {
   "cell_type": "code",
   "execution_count": 7,
   "metadata": {},
   "outputs": [
    {
     "data": {
      "text/html": [
       "<table>\n",
       "<thead><tr><th></th><th scope=col>x</th><th scope=col>y</th></tr></thead>\n",
       "<tbody>\n",
       "\t<tr><th scope=row>1</th><td>1</td><td>5</td></tr>\n",
       "\t<tr><th scope=row>2</th><td>2</td><td>4</td></tr>\n",
       "\t<tr><th scope=row>3</th><td>3</td><td>2</td></tr>\n",
       "\t<tr><th scope=row>6</th><td>8</td><td>9</td></tr>\n",
       "</tbody>\n",
       "</table>\n"
      ],
      "text/latex": [
       "\\begin{tabular}{r|ll}\n",
       "  & x & y\\\\\n",
       "\\hline\n",
       "\t1 & 1 & 5\\\\\n",
       "\t2 & 2 & 4\\\\\n",
       "\t3 & 3 & 2\\\\\n",
       "\t6 & 8 & 9\\\\\n",
       "\\end{tabular}\n"
      ],
      "text/markdown": [
       "\n",
       "| <!--/--> | x | y |\n",
       "|---|---|---|\n",
       "| 1 | 1 | 5 |\n",
       "| 2 | 2 | 4 |\n",
       "| 3 | 3 | 2 |\n",
       "| 6 | 8 | 9 |\n",
       "\n"
      ],
      "text/plain": [
       "  x y\n",
       "1 1 5\n",
       "2 2 4\n",
       "3 3 2\n",
       "6 8 9"
      ]
     },
     "metadata": {},
     "output_type": "display_data"
    }
   ],
   "source": [
    "# 두 번째 방법\n",
    "clean2 <- df[complete.cases(df), ]\n",
    "clean2"
   ]
  },
  {
   "cell_type": "code",
   "execution_count": null,
   "metadata": {},
   "outputs": [],
   "source": [
    "ListPattients = list(patients = patients, no)"
   ]
  },
  {
   "cell_type": "markdown",
   "metadata": {},
   "source": [
    "#### 사용자 함수"
   ]
  },
  {
   "cell_type": "code",
   "execution_count": 8,
   "metadata": {},
   "outputs": [
    {
     "ename": "ERROR",
     "evalue": "Error in lapply(list_value[[1]], function(x) {: 객체 'list_value'를 찾을 수 없습니다\n",
     "output_type": "error",
     "traceback": [
      "Error in lapply(list_value[[1]], function(x) {: 객체 'list_value'를 찾을 수 없습니다\nTraceback:\n",
      "1. lapply(list_value[[1]], function(x) {\n .     a <- x[1]\n .     b <- x[length(x)]\n .     return(c(a, b))\n . })"
     ]
    }
   ],
   "source": [
    "lapply(list_value[[1]], function(x){\n",
    "    a <- x[1]\n",
    "    b <- x[length(x)]\n",
    "    return(c(a,b))\n",
    "})"
   ]
  },
  {
   "cell_type": "code",
   "execution_count": 5,
   "metadata": {},
   "outputs": [
    {
     "data": {
      "text/html": [
       "<dl>\n",
       "\t<dt>$speed</dt>\n",
       "\t\t<dd><ol class=list-inline>\n",
       "\t<li>15.4</li>\n",
       "\t<li>4</li>\n",
       "\t<li>25</li>\n",
       "</ol>\n",
       "</dd>\n",
       "\t<dt>$dist</dt>\n",
       "\t\t<dd><ol class=list-inline>\n",
       "\t<li>42.98</li>\n",
       "\t<li>2</li>\n",
       "\t<li>120</li>\n",
       "</ol>\n",
       "</dd>\n",
       "</dl>\n"
      ],
      "text/latex": [
       "\\begin{description}\n",
       "\\item[\\$speed] \\begin{enumerate*}\n",
       "\\item 15.4\n",
       "\\item 4\n",
       "\\item 25\n",
       "\\end{enumerate*}\n",
       "\n",
       "\\item[\\$dist] \\begin{enumerate*}\n",
       "\\item 42.98\n",
       "\\item 2\n",
       "\\item 120\n",
       "\\end{enumerate*}\n",
       "\n",
       "\\end{description}\n"
      ],
      "text/markdown": [
       "$speed\n",
       ":   1. 15.4\n",
       "2. 4\n",
       "3. 25\n",
       "\n",
       "\n",
       "\n",
       "$dist\n",
       ":   1. 42.98\n",
       "2. 2\n",
       "3. 120\n",
       "\n",
       "\n",
       "\n",
       "\n",
       "\n"
      ],
      "text/plain": [
       "$speed\n",
       "[1] 15.4  4.0 25.0\n",
       "\n",
       "$dist\n",
       "[1]  42.98   2.00 120.00\n"
      ]
     },
     "metadata": {},
     "output_type": "display_data"
    }
   ],
   "source": [
    "list(speed = c(lapply(cars, mean)[[1]], lapply(cars, min)[[1]], lapply(cars, max)[[1]]), \n",
    "          dist = c(lapply(cars, mean)[[2]], lapply(cars, min)[[2]], lapply(cars, max)[[2]]))"
   ]
  },
  {
   "cell_type": "code",
   "execution_count": null,
   "metadata": {},
   "outputs": [],
   "source": []
  },
  {
   "cell_type": "code",
   "execution_count": null,
   "metadata": {},
   "outputs": [],
   "source": []
  },
  {
   "cell_type": "code",
   "execution_count": null,
   "metadata": {},
   "outputs": [],
   "source": []
  }
 ],
 "metadata": {
  "kernelspec": {
   "display_name": "R",
   "language": "R",
   "name": "ir"
  },
  "language_info": {
   "codemirror_mode": "r",
   "file_extension": ".r",
   "mimetype": "text/x-r-source",
   "name": "R",
   "pygments_lexer": "r",
   "version": "3.6.1"
  }
 },
 "nbformat": 4,
 "nbformat_minor": 4
}
