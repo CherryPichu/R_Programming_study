{
 "cells": [
  {
   "cell_type": "markdown",
   "metadata": {},
   "source": [
    "## 파일 읽고 쓰기\n",
    "### R에서 제공하는 읽고 쓰기 함수\n",
    "|패키지|함수|\n",
    "|----|-----------|\n",
    "|base<small>기본<small> 패키지|scan, write, write.table, read.table, save, load, write.csv, write.csv 등|\n",
    "|reader 패키지 | write_csv , read_csv |\n",
    "|data.table 패키지 | fwrite, fread |\n",
    "|feather | write_feather , read_feather|\n",
    "   "
   ]
  },
  {
   "cell_type": "markdown",
   "metadata": {},
   "source": [
    "### 파일 읽기\n",
    "- read.table 함수 : 일반 텍스트 파일을 읽어들여 데이터 프레임 생성\n",
    "- read.csv 함수 : CSV(Comma-Separated Values) 파일을 읽어 데이터 프레임 생성"
   ]
  },
  {
   "cell_type": "code",
   "execution_count": 27,
   "metadata": {},
   "outputs": [],
   "source": [
    "df_table = read.table(\"output.txt\", header=T) # as.is : 문자열을 factor 값으로 인식하지 않음. na.strings = NAN  NAN 문자를 NA값으로 인식한다."
   ]
  },
  {
   "cell_type": "code",
   "execution_count": 126,
   "metadata": {},
   "outputs": [],
   "source": [
    "df = read.csv(\"feeds (10).csv\", header=T)"
   ]
  },
  {
   "cell_type": "markdown",
   "metadata": {},
   "source": [
    "### 파일 쓰기\n",
    "- write.table 함수 : 일반 텍스트 파일로 저장할 때 사용"
   ]
  },
  {
   "cell_type": "code",
   "execution_count": 30,
   "metadata": {},
   "outputs": [],
   "source": [
    "write.table(df, file=\"output.txt\") #  quote=F : 문자열 안나오게 하기 , as.is=T: 비수치형 데이터를 factor 데이터로 해석하지 말라는 뜻"
   ]
  },
  {
   "cell_type": "code",
   "execution_count": 35,
   "metadata": {},
   "outputs": [],
   "source": [
    "write.csv(df, file=\"output.csv\", quote=F) #  quote=F : 문자열 안나오게 하기 , as.is=T: 비수치형 데이터를 factor 데이터로 해석하지 말라는 뜻"
   ]
  },
  {
   "cell_type": "markdown",
   "metadata": {},
   "source": [
    "### 조건문과 반복문 : 조건문\n",
    "- 데이터 정제를 위해 특정 조건에 맞는 값을 찯아내거나 일부 구간의 값을 추출하여 연산하는 등 다양한 목적에 맞게 작업할 수 있다.\n",
    "- 조건문 형식\n",
    "\n",
    "|조건에 맞는 요소를 추출하는 방법|형식|\n",
    "|----|-----------|\n",
    "|[]에 행/열 조건 명시|변수명\\[ 행 조건식, 열 조건식 \\]|\n",
    "|if 문 활용(if/else if / else)| if(조건식) 표현식 |\n",
    "| ifelse 문 활용 | ifelse (조건식, 참인 경우 반환값, 거짓인 경우 반환값 |\n",
    "\n",
    "- [] 에 행/열 조건 명시\n",
    "벡터의 경우"
   ]
  },
  {
   "cell_type": "code",
   "execution_count": 43,
   "metadata": {},
   "outputs": [
    {
     "data": {
      "text/html": [
       "<ol class=list-inline>\n",
       "\t<li>15</li>\n",
       "\t<li>20</li>\n",
       "\t<li>30</li>\n",
       "\t<li>&lt;NA&gt;</li>\n",
       "</ol>\n"
      ],
      "text/latex": [
       "\\begin{enumerate*}\n",
       "\\item 15\n",
       "\\item 20\n",
       "\\item 30\n",
       "\\item <NA>\n",
       "\\end{enumerate*}\n"
      ],
      "text/markdown": [
       "1. 15\n",
       "2. 20\n",
       "3. 30\n",
       "4. &lt;NA&gt;\n",
       "\n",
       "\n"
      ],
      "text/plain": [
       "[1] 15 20 30 NA"
      ]
     },
     "metadata": {},
     "output_type": "display_data"
    }
   ],
   "source": [
    "test = c(15,20,30,NA, 45)\n",
    "test[test<40] # 값이 40 미만인 요소 추출"
   ]
  },
  {
   "cell_type": "code",
   "execution_count": 44,
   "metadata": {},
   "outputs": [
    {
     "data": {
      "text/html": [
       "<ol class=list-inline>\n",
       "\t<li>20</li>\n",
       "\t<li>&lt;NA&gt;</li>\n",
       "</ol>\n"
      ],
      "text/latex": [
       "\\begin{enumerate*}\n",
       "\\item 20\n",
       "\\item <NA>\n",
       "\\end{enumerate*}\n"
      ],
      "text/markdown": [
       "1. 20\n",
       "2. &lt;NA&gt;\n",
       "\n",
       "\n"
      ],
      "text/plain": [
       "[1] 20 NA"
      ]
     },
     "metadata": {},
     "output_type": "display_data"
    }
   ],
   "source": [
    "test[test%%3!=0] # 값이 3으로 나누어 떨어지지 않는 요소 추출"
   ]
  },
  {
   "cell_type": "code",
   "execution_count": 45,
   "metadata": {},
   "outputs": [
    {
     "data": {
      "text/html": [
       "&lt;NA&gt;"
      ],
      "text/latex": [
       "<NA>"
      ],
      "text/markdown": [
       "&lt;NA&gt;"
      ],
      "text/plain": [
       "[1] NA"
      ]
     },
     "metadata": {},
     "output_type": "display_data"
    }
   ],
   "source": [
    "test[is.na(test)] # NA인 요소 추출"
   ]
  },
  {
   "cell_type": "code",
   "execution_count": 46,
   "metadata": {},
   "outputs": [
    {
     "data": {
      "text/html": [
       "<ol class=list-inline>\n",
       "\t<li>15</li>\n",
       "\t<li>20</li>\n",
       "\t<li>30</li>\n",
       "\t<li>45</li>\n",
       "</ol>\n"
      ],
      "text/latex": [
       "\\begin{enumerate*}\n",
       "\\item 15\n",
       "\\item 20\n",
       "\\item 30\n",
       "\\item 45\n",
       "\\end{enumerate*}\n"
      ],
      "text/markdown": [
       "1. 15\n",
       "2. 20\n",
       "3. 30\n",
       "4. 45\n",
       "\n",
       "\n"
      ],
      "text/plain": [
       "[1] 15 20 30 45"
      ]
     },
     "metadata": {},
     "output_type": "display_data"
    }
   ],
   "source": [
    "test[!is.na(test)] # NA가 아닌 요소 추출"
   ]
  },
  {
   "cell_type": "code",
   "execution_count": 56,
   "metadata": {},
   "outputs": [
    {
     "data": {
      "text/html": [
       "<ol class=list-inline>\n",
       "\t<li>20</li>\n",
       "\t<li>30</li>\n",
       "</ol>\n"
      ],
      "text/latex": [
       "\\begin{enumerate*}\n",
       "\\item 20\n",
       "\\item 30\n",
       "\\end{enumerate*}\n"
      ],
      "text/markdown": [
       "1. 20\n",
       "2. 30\n",
       "\n",
       "\n"
      ],
      "text/plain": [
       "[1] 20 30"
      ]
     },
     "metadata": {},
     "output_type": "display_data"
    }
   ],
   "source": [
    "test[test%%2 == 0 & !is.na(test)]"
   ]
  },
  {
   "cell_type": "markdown",
   "metadata": {},
   "source": [
    "#### [] 에 행/열 조건 명시\n",
    " - 데이터 프레임의 경우"
   ]
  },
  {
   "cell_type": "code",
   "execution_count": 58,
   "metadata": {},
   "outputs": [
    {
     "data": {
      "text/html": [
       "<table>\n",
       "<thead><tr><th scope=col>name</th><th scope=col>age</th><th scope=col>gender</th></tr></thead>\n",
       "<tbody>\n",
       "\t<tr><td>길동</td><td>30  </td><td>M   </td></tr>\n",
       "\t<tr><td>춘향</td><td>16  </td><td>F   </td></tr>\n",
       "\t<tr><td>철수</td><td>21  </td><td>M   </td></tr>\n",
       "</tbody>\n",
       "</table>\n"
      ],
      "text/latex": [
       "\\begin{tabular}{r|lll}\n",
       " name & age & gender\\\\\n",
       "\\hline\n",
       "\t 길동 & 30   & M   \\\\\n",
       "\t 춘향 & 16   & F   \\\\\n",
       "\t 철수 & 21   & M   \\\\\n",
       "\\end{tabular}\n"
      ],
      "text/markdown": [
       "\n",
       "| name | age | gender |\n",
       "|---|---|---|\n",
       "| 길동 | 30   | M    |\n",
       "| 춘향 | 16   | F    |\n",
       "| 철수 | 21   | M    |\n",
       "\n"
      ],
      "text/plain": [
       "  name age gender\n",
       "1 길동 30  M     \n",
       "2 춘향 16  F     \n",
       "3 철수 21  M     "
      ]
     },
     "metadata": {},
     "output_type": "display_data"
    }
   ],
   "source": [
    "characters= data.frame(name=c(\"길동\", \"춘향\", \"철수\"), age = c(30, 16, 21) ,gender =factor(c(\"M\", \"F\", \"M\")))\n",
    "characters"
   ]
  },
  {
   "cell_type": "code",
   "execution_count": 59,
   "metadata": {},
   "outputs": [
    {
     "data": {
      "text/html": [
       "<table>\n",
       "<thead><tr><th></th><th scope=col>name</th><th scope=col>age</th><th scope=col>gender</th></tr></thead>\n",
       "<tbody>\n",
       "\t<tr><th scope=row>2</th><td>춘향</td><td>16  </td><td>F   </td></tr>\n",
       "</tbody>\n",
       "</table>\n"
      ],
      "text/latex": [
       "\\begin{tabular}{r|lll}\n",
       "  & name & age & gender\\\\\n",
       "\\hline\n",
       "\t2 & 춘향 & 16   & F   \\\\\n",
       "\\end{tabular}\n"
      ],
      "text/markdown": [
       "\n",
       "| <!--/--> | name | age | gender |\n",
       "|---|---|---|---|\n",
       "| 2 | 춘향 | 16   | F    |\n",
       "\n"
      ],
      "text/plain": [
       "  name age gender\n",
       "2 춘향 16  F     "
      ]
     },
     "metadata": {},
     "output_type": "display_data"
    }
   ],
   "source": [
    "characters[characters$gender == \"F\", ] # 성별이 여성인 행 추출"
   ]
  },
  {
   "cell_type": "code",
   "execution_count": 65,
   "metadata": {},
   "outputs": [
    {
     "data": {
      "text/html": [
       "<table>\n",
       "<thead><tr><th></th><th scope=col>name</th><th scope=col>age</th><th scope=col>gender</th></tr></thead>\n",
       "<tbody>\n",
       "\t<tr><th scope=row>3</th><td>철수</td><td>21  </td><td>M   </td></tr>\n",
       "</tbody>\n",
       "</table>\n"
      ],
      "text/latex": [
       "\\begin{tabular}{r|lll}\n",
       "  & name & age & gender\\\\\n",
       "\\hline\n",
       "\t3 & 철수 & 21   & M   \\\\\n",
       "\\end{tabular}\n"
      ],
      "text/markdown": [
       "\n",
       "| <!--/--> | name | age | gender |\n",
       "|---|---|---|---|\n",
       "| 3 | 철수 | 21   | M    |\n",
       "\n"
      ],
      "text/plain": [
       "  name age gender\n",
       "3 철수 21  M     "
      ]
     },
     "metadata": {},
     "output_type": "display_data"
    }
   ],
   "source": [
    "characters[characters$age < 30 & characters$gender == \"M\", ] # 30살 미만의 남성 행 추출"
   ]
  },
  {
   "cell_type": "code",
   "execution_count": 66,
   "metadata": {},
   "outputs": [
    {
     "name": "stdout",
     "output_type": "stream",
     "text": [
      "[1] \"x는 홀수\"\n"
     ]
    }
   ],
   "source": [
    "x = 5\n",
    "if(x %% 2 == 0){\n",
    "    print('x는 짝수') # 조건식이 참일 때 수행\n",
    "}else{\n",
    "    print('x는 홀수') # 조건식이 거짓일 때 수행\n",
    "}"
   ]
  },
  {
   "cell_type": "markdown",
   "metadata": {},
   "source": [
    "#### if 문 사용(if, elas if, else)"
   ]
  },
  {
   "cell_type": "code",
   "execution_count": 94,
   "metadata": {},
   "outputs": [
    {
     "name": "stdout",
     "output_type": "stream",
     "text": [
      "[1] \"x는 홀수\"\n"
     ]
    }
   ],
   "source": [
    "# 두가지 조건 분기가 필요한 경우\n",
    "x= 5\n",
    "if(x %% 2== 0){\n",
    "    print('x는 짝수')\n",
    "}else{\n",
    "    print('x는 홀수')\n",
    "}"
   ]
  },
  {
   "cell_type": "code",
   "execution_count": 96,
   "metadata": {},
   "outputs": [
    {
     "name": "stdout",
     "output_type": "stream",
     "text": [
      "[1] \"x is a negative value.\"\n"
     ]
    }
   ],
   "source": [
    "x = -1\n",
    "if(x > 0){\n",
    "    print('x is a positive value.')\n",
    "}else if(x< 0){\n",
    "    print('x is a negative value.')\n",
    "} else {\n",
    "    print('x is zero')\n",
    "}"
   ]
  },
  {
   "cell_type": "markdown",
   "metadata": {},
   "source": [
    "#### ifelse 문 사용\n",
    "- if / else 문을 합쳐놓은 형태\n",
    "- 사용법 : ifelse(조건식, 조건식이 참인 경우 반환값, 조건식이 거짓인 경우 반환값)"
   ]
  },
  {
   "cell_type": "code",
   "execution_count": 102,
   "metadata": {},
   "outputs": [
    {
     "name": "stderr",
     "output_type": "stream",
     "text": [
      "Warning message in sqrt(x):\n",
      "\"NaN이 생성되었습니다\""
     ]
    },
    {
     "data": {
      "text/html": [
       "<ol class=list-inline>\n",
       "\t<li>NaN</li>\n",
       "\t<li>NaN</li>\n",
       "\t<li>NaN</li>\n",
       "\t<li>NaN</li>\n",
       "\t<li>NaN</li>\n",
       "\t<li>0</li>\n",
       "\t<li>1</li>\n",
       "\t<li>1.4142135623731</li>\n",
       "\t<li>1.73205080756888</li>\n",
       "\t<li>2</li>\n",
       "\t<li>2.23606797749979</li>\n",
       "</ol>\n"
      ],
      "text/latex": [
       "\\begin{enumerate*}\n",
       "\\item NaN\n",
       "\\item NaN\n",
       "\\item NaN\n",
       "\\item NaN\n",
       "\\item NaN\n",
       "\\item 0\n",
       "\\item 1\n",
       "\\item 1.4142135623731\n",
       "\\item 1.73205080756888\n",
       "\\item 2\n",
       "\\item 2.23606797749979\n",
       "\\end{enumerate*}\n"
      ],
      "text/markdown": [
       "1. NaN\n",
       "2. NaN\n",
       "3. NaN\n",
       "4. NaN\n",
       "5. NaN\n",
       "6. 0\n",
       "7. 1\n",
       "8. 1.4142135623731\n",
       "9. 1.73205080756888\n",
       "10. 2\n",
       "11. 2.23606797749979\n",
       "\n",
       "\n"
      ],
      "text/plain": [
       " [1]  NaN  NaN  NaN  NaN  NaN 0.00 1.00 1.41 1.73 2.00 2.24"
      ]
     },
     "metadata": {},
     "output_type": "display_data"
    }
   ],
   "source": [
    "x = c(-5: 5)\n",
    "options(digits = 3) # 숫자 표현시 유효자릿수를 3자리로 설정\n",
    "sqrt(x) # 제곱근 구하는 함수"
   ]
  },
  {
   "cell_type": "code",
   "execution_count": 104,
   "metadata": {},
   "outputs": [
    {
     "data": {
      "text/html": [
       "<ol class=list-inline>\n",
       "\t<li>&lt;NA&gt;</li>\n",
       "\t<li>&lt;NA&gt;</li>\n",
       "\t<li>&lt;NA&gt;</li>\n",
       "\t<li>&lt;NA&gt;</li>\n",
       "\t<li>&lt;NA&gt;</li>\n",
       "\t<li>0</li>\n",
       "\t<li>1</li>\n",
       "\t<li>1.4142135623731</li>\n",
       "\t<li>1.73205080756888</li>\n",
       "\t<li>2</li>\n",
       "\t<li>2.23606797749979</li>\n",
       "</ol>\n"
      ],
      "text/latex": [
       "\\begin{enumerate*}\n",
       "\\item <NA>\n",
       "\\item <NA>\n",
       "\\item <NA>\n",
       "\\item <NA>\n",
       "\\item <NA>\n",
       "\\item 0\n",
       "\\item 1\n",
       "\\item 1.4142135623731\n",
       "\\item 1.73205080756888\n",
       "\\item 2\n",
       "\\item 2.23606797749979\n",
       "\\end{enumerate*}\n"
      ],
      "text/markdown": [
       "1. &lt;NA&gt;\n",
       "2. &lt;NA&gt;\n",
       "3. &lt;NA&gt;\n",
       "4. &lt;NA&gt;\n",
       "5. &lt;NA&gt;\n",
       "6. 0\n",
       "7. 1\n",
       "8. 1.4142135623731\n",
       "9. 1.73205080756888\n",
       "10. 2\n",
       "11. 2.23606797749979\n",
       "\n",
       "\n"
      ],
      "text/plain": [
       " [1]   NA   NA   NA   NA   NA 0.00 1.00 1.41 1.73 2.00 2.24"
      ]
     },
     "metadata": {},
     "output_type": "display_data"
    }
   ],
   "source": [
    "sqrt(ifelse(x>=0, x, NA)) # NaN이 발생하지 않게 음수면 NA로 표시 "
   ]
  },
  {
   "cell_type": "markdown",
   "metadata": {},
   "source": [
    "파일로부터 데이터를 읽어 들인 후 조건문 처리 <br>\n",
    "점수가 0~100점 이외의 값이 입력된 경우 NA로 처리하는 프로그램"
   ]
  },
  {
   "cell_type": "markdown",
   "metadata": {},
   "source": [
    "### 반복문\n",
    "- R 에서 제거하는 반복문은 repeat , while, for 문이 있다.\n",
    "\n",
    "|반복문|의미|\n",
    "|----|-----------|\n",
    "|repeat{ 반복 수행할 문장 }| 블록 안의 문장을 반복해서 수행한다. |\n",
    "|while(조건식){조건식이 참일 때 수행할 문장}| 조건식이 참일 때 블록 안의 문장을 수행한다. |\n",
    "| for(변수 in 데이터){ 반복 수행할 문장 }| ifelse (조건식, 참인 경우 반환값, 거짓인 경우 반환값 |\n",
    "\n"
   ]
  },
  {
   "cell_type": "markdown",
   "metadata": {},
   "source": [
    "#### repeat 문 사용\n",
    " - 1부터 10까지 수를 1씩 증가시켜 출력하기\n"
   ]
  },
  {
   "cell_type": "code",
   "execution_count": 111,
   "metadata": {},
   "outputs": [
    {
     "name": "stdout",
     "output_type": "stream",
     "text": [
      "[1] 1\n",
      "[1] 2\n",
      "[1] 3\n",
      "[1] 4\n",
      "[1] 5\n",
      "[1] 6\n",
      "[1] 7\n",
      "[1] 8\n",
      "[1] 9\n",
      "[1] 10\n"
     ]
    }
   ],
   "source": [
    "i = 1\n",
    "repeat{\n",
    "    if(i>10){\n",
    "        break\n",
    "    } else{\n",
    "        print(i)\n",
    "        i = i+1\n",
    "    }\n",
    "}"
   ]
  },
  {
   "cell_type": "markdown",
   "metadata": {},
   "source": [
    "while 문 사용\n",
    " - 1 붜 10까지 수를 1씩 증가시키기"
   ]
  },
  {
   "cell_type": "code",
   "execution_count": 112,
   "metadata": {},
   "outputs": [
    {
     "name": "stdout",
     "output_type": "stream",
     "text": [
      "[1] 1\n",
      "[1] 2\n",
      "[1] 3\n",
      "[1] 4\n",
      "[1] 5\n",
      "[1] 6\n",
      "[1] 7\n",
      "[1] 8\n",
      "[1] 9\n"
     ]
    }
   ],
   "source": [
    "i = 1\n",
    "while(i < 10){\n",
    "    print(i)\n",
    "    i = i+1\n",
    "}"
   ]
  },
  {
   "cell_type": "code",
   "execution_count": 114,
   "metadata": {},
   "outputs": [
    {
     "name": "stdout",
     "output_type": "stream",
     "text": [
      "[1] \"2 X 1 = 2\"\n",
      "[1] \"2 X 2 = 4\"\n",
      "[1] \"2 X 3 = 6\"\n",
      "[1] \"2 X 4 = 8\"\n",
      "[1] \"2 X 5 = 10\"\n",
      "[1] \"2 X 6 = 12\"\n",
      "[1] \"2 X 7 = 14\"\n",
      "[1] \"2 X 8 = 16\"\n",
      "[1] \"2 X 9 = 18\"\n"
     ]
    }
   ],
   "source": [
    "i = 1\n",
    "while(i < 10){\n",
    "    print(paste(2, \"X\",i, \"=\", 2*i)) # past : 문자열 만드는 함수\n",
    "    i = i+1\n",
    "}"
   ]
  },
  {
   "cell_type": "markdown",
   "metadata": {},
   "source": [
    "#### for 문 사용"
   ]
  },
  {
   "cell_type": "code",
   "execution_count": 115,
   "metadata": {},
   "outputs": [
    {
     "name": "stdout",
     "output_type": "stream",
     "text": [
      "[1] 1\n",
      "[1] 2\n",
      "[1] 3\n",
      "[1] 4\n",
      "[1] 5\n",
      "[1] 6\n",
      "[1] 7\n",
      "[1] 8\n",
      "[1] 9\n",
      "[1] 10\n"
     ]
    }
   ],
   "source": [
    "for(i in 1:10){\n",
    "    print(i)\n",
    "}"
   ]
  },
  {
   "cell_type": "markdown",
   "metadata": {},
   "source": [
    "### 조건문과 반복문을 사용하기"
   ]
  },
  {
   "cell_type": "code",
   "execution_count": 116,
   "metadata": {},
   "outputs": [
    {
     "name": "stdout",
     "output_type": "stream",
     "text": [
      "[1] 2\n",
      "[1] 4\n",
      "[1] 6\n",
      "[1] 8\n",
      "[1] 10\n"
     ]
    }
   ],
   "source": [
    "for(i in 1:10){\n",
    "    if(i%%2 == 0){\n",
    "        print(i)\n",
    "    }\n",
    "}"
   ]
  },
  {
   "cell_type": "markdown",
   "metadata": {},
   "source": [
    "소수(prime number) : 1 보다 큰 자연수들 중에서 1과 자기 자신으로만 나누어 떨어지는 수, 2, 3, 5, 6, 11, 13, 17..."
   ]
  },
  {
   "cell_type": "code",
   "execution_count": 117,
   "metadata": {},
   "outputs": [
    {
     "name": "stdout",
     "output_type": "stream",
     "text": [
      "[1] 2\n",
      "[1] 3\n",
      "[1] 4\n",
      "[1] 4\n",
      "[1] 5\n",
      "[1] 6\n",
      "[1] 7\n",
      "[1] 8\n",
      "[1] 8\n",
      "[1] 9\n",
      "[1] 9\n",
      "[1] 9\n",
      "[1] 9\n",
      "[1] 9\n",
      "[1] 9\n",
      "[1] 10\n",
      "[1] 10\n",
      "[1] 10\n"
     ]
    }
   ],
   "source": [
    "for(i in 1:10){\n",
    "    check = 0\n",
    "    for(j in 1:i){\n",
    "        if(i%%j ==0){\n",
    "            check = check +1\n",
    "        }\n",
    "        if(check == 2){\n",
    "            print(i)\n",
    "        }\n",
    "    }\n",
    "}"
   ]
  },
  {
   "cell_type": "markdown",
   "metadata": {},
   "source": [
    "### 함수\n",
    " - 입력과 출력간의 관계식을 함수라고 할 수 있다.\n",
    " - 사용자의 목적에 맞는 다양한 함수를 만들어 보자.\n",
    "\n",
    "함수명 = function (전달인자1, 전달인자2, ...){\n",
    "   \\+ 함수 동작시 수행할 코드<br>\n",
    "   \\+ return(반환값)<br>\n",
    "    }"
   ]
  },
  {
   "cell_type": "code",
   "execution_count": 143,
   "metadata": {},
   "outputs": [
    {
     "ename": "ERROR",
     "evalue": "Error in eval(expr, envir, enclos): 객체 'DF'를 찾을 수 없습니다\n",
     "output_type": "error",
     "traceback": [
      "Error in eval(expr, envir, enclos): 객체 'DF'를 찾을 수 없습니다\nTraceback:\n"
     ]
    }
   ],
   "source": [
    "fact = function(x){\n",
    "    fa = 1\n",
    "    while(x>1){\n",
    "        fa = fa * x\n",
    "        x = x - 1\n",
    "    }\n",
    "    return(fa)\n",
    "}"
   ]
  },
  {
   "cell_type": "code",
   "execution_count": 151,
   "metadata": {},
   "outputs": [
    {
     "name": "stdout",
     "output_type": "stream",
     "text": [
      "[1] \"batter_id\"\n",
      "[1] \"batter_name\"\n",
      "[1] \"year\"\n",
      "[1] \"team\"\n",
      "[1] \"avg\"\n",
      "[1] \"G\"\n",
      "[1] \"AB\"\n",
      "[1] \"R\"\n",
      "[1] \"H\"\n",
      "[1] \"X2B\"\n",
      "[1] \"X3B\"\n",
      "[1] \"HR\"\n",
      "[1] \"TB\"\n",
      "[1] \"RBI\"\n",
      "[1] \"SB\"\n",
      "[1] \"CS\"\n",
      "[1] \"BB\"\n",
      "[1] \"HBP\"\n",
      "[1] \"SO\"\n",
      "[1] \"GDP\"\n",
      "[1] \"SLG\"\n",
      "[1] \"OBP\"\n",
      "[1] \"E\"\n",
      "[1] \"height.weight\"\n",
      "[1] \"year_born\"\n",
      "[1] \"position\"\n",
      "[1] \"career\"\n",
      "[1] \"starting_salary\"\n",
      "[1] \"OPS\"\n"
     ]
    }
   ],
   "source": [
    "DF <- read.csv(\"Pre_Season_Batter.csv\")\n",
    "for(value in names(DF)){\n",
    "  print(value)\n",
    "}"
   ]
  },
  {
   "cell_type": "code",
   "execution_count": null,
   "metadata": {},
   "outputs": [],
   "source": []
  },
  {
   "cell_type": "code",
   "execution_count": null,
   "metadata": {},
   "outputs": [],
   "source": []
  }
 ],
 "metadata": {
  "kernelspec": {
   "display_name": "R",
   "language": "R",
   "name": "ir"
  },
  "language_info": {
   "codemirror_mode": "r",
   "file_extension": ".r",
   "mimetype": "text/x-r-source",
   "name": "R",
   "pygments_lexer": "r",
   "version": "3.6.1"
  }
 },
 "nbformat": 4,
 "nbformat_minor": 4
}
