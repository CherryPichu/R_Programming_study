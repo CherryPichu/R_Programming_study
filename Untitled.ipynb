{
 "cells": [
  {
   "cell_type": "code",
   "execution_count": 1,
   "metadata": {},
   "outputs": [
    {
     "name": "stderr",
     "output_type": "stream",
     "text": [
      "Warning message:\n",
      "\"package 'tidyverse' was built under R version 3.6.3\"-- Attaching packages --------------------------------------- tidyverse 1.3.0 --\n",
      "√ ggplot2 3.3.3     √ purrr   0.3.4\n",
      "√ tibble  3.1.0     √ dplyr   1.0.5\n",
      "√ tidyr   1.1.3     √ stringr 1.4.0\n",
      "√ readr   1.3.1     √ forcats 0.4.0\n",
      "Warning message:\n",
      "\"package 'ggplot2' was built under R version 3.6.3\"Warning message:\n",
      "\"package 'tibble' was built under R version 3.6.3\"Warning message:\n",
      "\"package 'tidyr' was built under R version 3.6.3\"Warning message:\n",
      "\"package 'purrr' was built under R version 3.6.3\"Warning message:\n",
      "\"package 'dplyr' was built under R version 3.6.3\"-- Conflicts ------------------------------------------ tidyverse_conflicts() --\n",
      "x dplyr::filter() masks stats::filter()\n",
      "x dplyr::lag()    masks stats::lag()\n"
     ]
    }
   ],
   "source": [
    "library(tidyverse) # tibble 을 가지고 있다."
   ]
  },
  {
   "cell_type": "code",
   "execution_count": 259,
   "metadata": {},
   "outputs": [],
   "source": [
    "df_Pre = data.table::fread('Pre_Season_Batter.csv', header = T ,encoding = \"UTF-8\")\n",
    "df_Reg = data.table::fread('Regular_Season_Batter.csv',  header = T,encoding = \"UTF-8\")"
   ]
  },
  {
   "cell_type": "code",
   "execution_count": 260,
   "metadata": {},
   "outputs": [
    {
     "data": {
      "text/html": [
       "<table>\n",
       "<thead><tr><th scope=col>AB</th><th scope=col>R</th><th scope=col>H</th><th scope=col>E</th><th scope=col>SLG</th><th scope=col>OBP</th></tr></thead>\n",
       "<tbody>\n",
       "\t<tr><td>20   </td><td> 1   </td><td>7    </td><td>1    </td><td>0.550</td><td>0.409</td></tr>\n",
       "\t<tr><td> 2   </td><td> 2   </td><td>0    </td><td>0    </td><td>0.000</td><td>0.500</td></tr>\n",
       "\t<tr><td> 0   </td><td> 2   </td><td>0    </td><td>0    </td><td>   NA</td><td>   NA</td></tr>\n",
       "\t<tr><td>23   </td><td> 3   </td><td>3    </td><td>2    </td><td>0.130</td><td>0.286</td></tr>\n",
       "\t<tr><td>32   </td><td> 4   </td><td>6    </td><td>0    </td><td>0.281</td><td>0.212</td></tr>\n",
       "\t<tr><td>36   </td><td>10   </td><td>8    </td><td>1    </td><td>0.389</td><td>0.282</td></tr>\n",
       "</tbody>\n",
       "</table>\n"
      ],
      "text/latex": [
       "\\begin{tabular}{r|llllll}\n",
       " AB & R & H & E & SLG & OBP\\\\\n",
       "\\hline\n",
       "\t 20    &  1    & 7     & 1     & 0.550 & 0.409\\\\\n",
       "\t  2    &  2    & 0     & 0     & 0.000 & 0.500\\\\\n",
       "\t  0    &  2    & 0     & 0     &    NA &    NA\\\\\n",
       "\t 23    &  3    & 3     & 2     & 0.130 & 0.286\\\\\n",
       "\t 32    &  4    & 6     & 0     & 0.281 & 0.212\\\\\n",
       "\t 36    & 10    & 8     & 1     & 0.389 & 0.282\\\\\n",
       "\\end{tabular}\n"
      ],
      "text/markdown": [
       "\n",
       "| AB | R | H | E | SLG | OBP |\n",
       "|---|---|---|---|---|---|\n",
       "| 20    |  1    | 7     | 1     | 0.550 | 0.409 |\n",
       "|  2    |  2    | 0     | 0     | 0.000 | 0.500 |\n",
       "|  0    |  2    | 0     | 0     |    NA |    NA |\n",
       "| 23    |  3    | 3     | 2     | 0.130 | 0.286 |\n",
       "| 32    |  4    | 6     | 0     | 0.281 | 0.212 |\n",
       "| 36    | 10    | 8     | 1     | 0.389 | 0.282 |\n",
       "\n"
      ],
      "text/plain": [
       "  AB R  H E SLG   OBP  \n",
       "1 20  1 7 1 0.550 0.409\n",
       "2  2  2 0 0 0.000 0.500\n",
       "3  0  2 0 0    NA    NA\n",
       "4 23  3 3 2 0.130 0.286\n",
       "5 32  4 6 0 0.281 0.212\n",
       "6 36 10 8 1 0.389 0.282"
      ]
     },
     "metadata": {},
     "output_type": "display_data"
    }
   ],
   "source": [
    "head(select(df_Pre, AB, R, H, E, SLG, OBP))\n",
    "df_Pre_out <- select(df_Pre, AB, R, H, E, SLG, OBP)"
   ]
  },
  {
   "cell_type": "code",
   "execution_count": 261,
   "metadata": {},
   "outputs": [
    {
     "data": {
      "text/html": [
       "<table>\n",
       "<thead><tr><th scope=col>AB</th><th scope=col>R</th><th scope=col>H</th><th scope=col>SLG</th><th scope=col>OBP</th></tr></thead>\n",
       "<tbody>\n",
       "\t<tr><td>183  </td><td>27   </td><td>62   </td><td>0.519</td><td>0.383</td></tr>\n",
       "\t<tr><td>  1  </td><td> 0   </td><td> 0   </td><td>0.000</td><td>0.000</td></tr>\n",
       "\t<tr><td> 86  </td><td>11   </td><td>19   </td><td>0.349</td><td>0.337</td></tr>\n",
       "\t<tr><td>311  </td><td>50   </td><td>80   </td><td>0.325</td><td>0.348</td></tr>\n",
       "\t<tr><td>101  </td><td>16   </td><td>16   </td><td>0.257</td><td>0.232</td></tr>\n",
       "\t<tr><td> 84  </td><td>17   </td><td>18   </td><td>0.262</td><td>0.290</td></tr>\n",
       "</tbody>\n",
       "</table>\n"
      ],
      "text/latex": [
       "\\begin{tabular}{r|lllll}\n",
       " AB & R & H & SLG & OBP\\\\\n",
       "\\hline\n",
       "\t 183   & 27    & 62    & 0.519 & 0.383\\\\\n",
       "\t   1   &  0    &  0    & 0.000 & 0.000\\\\\n",
       "\t  86   & 11    & 19    & 0.349 & 0.337\\\\\n",
       "\t 311   & 50    & 80    & 0.325 & 0.348\\\\\n",
       "\t 101   & 16    & 16    & 0.257 & 0.232\\\\\n",
       "\t  84   & 17    & 18    & 0.262 & 0.290\\\\\n",
       "\\end{tabular}\n"
      ],
      "text/markdown": [
       "\n",
       "| AB | R | H | SLG | OBP |\n",
       "|---|---|---|---|---|\n",
       "| 183   | 27    | 62    | 0.519 | 0.383 |\n",
       "|   1   |  0    |  0    | 0.000 | 0.000 |\n",
       "|  86   | 11    | 19    | 0.349 | 0.337 |\n",
       "| 311   | 50    | 80    | 0.325 | 0.348 |\n",
       "| 101   | 16    | 16    | 0.257 | 0.232 |\n",
       "|  84   | 17    | 18    | 0.262 | 0.290 |\n",
       "\n"
      ],
      "text/plain": [
       "  AB  R  H  SLG   OBP  \n",
       "1 183 27 62 0.519 0.383\n",
       "2   1  0  0 0.000 0.000\n",
       "3  86 11 19 0.349 0.337\n",
       "4 311 50 80 0.325 0.348\n",
       "5 101 16 16 0.257 0.232\n",
       "6  84 17 18 0.262 0.290"
      ]
     },
     "metadata": {},
     "output_type": "display_data"
    }
   ],
   "source": [
    "head(select(df_Reg, AB, R, H, SLG, OBP)) \n",
    "df_Reg_out <- select(df_Reg, AB, R, H, E, SLG, OBP) # 필요한 원소만 뽑아낸다."
   ]
  },
  {
   "cell_type": "code",
   "execution_count": 372,
   "metadata": {},
   "outputs": [
    {
     "name": "stdout",
     "output_type": "stream",
     "text": [
      "      AB R  H E   SLG   OBP\n",
      "   1: 20 1  7 1 0.550 0.409\n",
      "   2:  2 2  0 0 0.000 0.500\n",
      "   3:  0 2  0 0    NA    NA\n",
      "   4: 23 3  3 2 0.130 0.286\n",
      "   5: 32 4  6 0 0.281 0.212\n",
      "  ---                      \n",
      "1389: 27 3 11 1 0.593 0.448\n",
      "1390: 30 8 10 0 0.433 0.389\n",
      "1391: 42 8 13 1 0.429 0.370\n",
      "1392: 16 3  4 3 0.500 0.333\n",
      "1393:  1 1  0 0 0.000 0.000\n"
     ]
    }
   ],
   "source": [
    "df_Pre_out %>% show()"
   ]
  },
  {
   "cell_type": "code",
   "execution_count": 263,
   "metadata": {},
   "outputs": [
    {
     "name": "stdout",
     "output_type": "stream",
     "text": [
      "Classes 'data.table' and 'data.frame':\t1393 obs. of  6 variables:\n",
      " $ AB : int  20 2 0 23 32 36 4 1 1 15 ...\n",
      " $ R  : int  1 2 2 3 4 10 0 0 0 0 ...\n",
      " $ H  : int  7 0 0 3 6 8 0 0 1 3 ...\n",
      " $ E  : int  1 0 0 2 0 1 0 0 0 0 ...\n",
      " $ SLG: num  0.55 0 NA 0.13 0.281 0.389 0 0 1 0.2 ...\n",
      " $ OBP: num  0.409 0.5 NA 0.286 0.212 0.282 0 0.5 1 0.278 ...\n",
      " - attr(*, \".internal.selfref\")=<externalptr> \n"
     ]
    }
   ],
   "source": [
    "df_Pre_out %>% str()"
   ]
  },
  {
   "cell_type": "code",
   "execution_count": 323,
   "metadata": {},
   "outputs": [],
   "source": [
    "removeOutliers <- function(df){\n",
    "    for(name in names(df)){ # 컬럼(열)의 이름을 하나씩 가져온다.\n",
    "        # 이는 각 열의 이름을 기준으로 하나씩 처러하기 위함이다.\n",
    "        # 이러한 방법은 python 스타일이지만, 똑같은 함수형 프로그래밍인 R에서\n",
    "        # 사용한다고 문제가 되지 않는다.\n",
    "        df_IQR <- (1.5 * (df[[name]] %>% IQR(., na.rm =T))) # IQR함수를 통해 IQR 수치 계산\n",
    "        lower_fence <- df[[name]] %>% quantile(., 0.25, na.rm =T) - df_IQR # Q1 - (1.5 * IQR)\n",
    "        up_fence <- df[[name]] %>% quantile(., 0.75, na.rm =T) + df_IQR  # Q3 + (1.5 * IQR)\n",
    "        df[[name]] <- ifelse((df[[name]] > lower_fence) & (df[[name]] < up_fence), df[[name]], NA)\n",
    "        # outlier에 NA값을 넣은 df 반환\n",
    "    }\n",
    "    return(df)\n",
    "}"
   ]
  },
  {
   "cell_type": "code",
   "execution_count": 361,
   "metadata": {},
   "outputs": [
    {
     "data": {
      "text/html": [
       "633"
      ],
      "text/latex": [
       "633"
      ],
      "text/markdown": [
       "633"
      ],
      "text/plain": [
       "[1] 633"
      ]
     },
     "metadata": {},
     "output_type": "display_data"
    },
    {
     "data": {
      "text/html": [
       "633"
      ],
      "text/latex": [
       "633"
      ],
      "text/markdown": [
       "633"
      ],
      "text/plain": [
       "[1] 633"
      ]
     },
     "metadata": {},
     "output_type": "display_data"
    },
    {
     "data": {
      "text/html": [
       "<strong>75%:</strong> 0.436"
      ],
      "text/latex": [
       "\\textbf{75\\textbackslash{}\\%:} 0.436"
      ],
      "text/markdown": [
       "**75%:** 0.436"
      ],
      "text/plain": [
       "  75% \n",
       "0.436 "
      ]
     },
     "metadata": {},
     "output_type": "display_data"
    },
    {
     "data": {
      "text/html": [
       "<strong>75%:</strong> 0.439023371"
      ],
      "text/latex": [
       "\\textbf{75\\textbackslash{}\\%:} 0.439023371"
      ],
      "text/markdown": [
       "**75%:** 0.439023371"
      ],
      "text/plain": [
       "      75% \n",
       "0.4390234 "
      ]
     },
     "metadata": {},
     "output_type": "display_data"
    }
   ],
   "source": [
    "result_Reg <- removeOutliers(df_Reg_out)\n",
    "sum(is.na(result_Reg))  # NA 수를 센다.\n",
    "result_Pre <- removeOutliers(df_Pre_out)\n",
    "sum(is.na(result_Reg))"
   ]
  },
  {
   "cell_type": "code",
   "execution_count": 370,
   "metadata": {},
   "outputs": [
    {
     "data": {
      "image/png": "[encoded data removed]",
      "text/plain": [
       "plot without title"
      ]
     },
     "metadata": {},
     "output_type": "display_data"
    },
    {
     "data": {
      "image/png": "[encoded data removed]",
      "text/plain": [
       "plot without title"
      ]
     },
     "metadata": {},
     "output_type": "display_data"
    }
   ],
   "source": [
    "result_Reg %>% boxplot(na.omit=T) # NA 수치는 무시하기 na.omit=T\n",
    "df_Reg_out %>% boxplot()"
   ]
  },
  {
   "cell_type": "code",
   "execution_count": 371,
   "metadata": {},
   "outputs": [
    {
     "data": {
      "image/png": "[encoded data removed]",
      "text/plain": [
       "plot without title"
      ]
     },
     "metadata": {},
     "output_type": "display_data"
    },
    {
     "data": {
      "image/png": "[encoded data removed]",
      "text/plain": [
       "plot without title"
      ]
     },
     "metadata": {},
     "output_type": "display_data"
    }
   ],
   "source": [
    "result_Pre %>% boxplot(na.omit=T)\n",
    "df_Pre_out %>% boxplot()"
   ]
  },
  {
   "cell_type": "markdown",
   "metadata": {},
   "source": [
    "#### 실습 3번"
   ]
  },
  {
   "cell_type": "code",
   "execution_count": 375,
   "metadata": {},
   "outputs": [],
   "source": [
    "df <- read.csv(\"Pre_Season_Batter.csv\", header = T, stringsAsFactors = T) %>% as.tibble()"
   ]
  },
  {
   "cell_type": "code",
   "execution_count": 382,
   "metadata": {},
   "outputs": [
    {
     "name": "stdout",
     "output_type": "stream",
     "text": [
      "# A tibble: 13 x 6\n",
      "   team     G_AVG HR_SUM X3B_sum X2B_sum H_sum\n",
      "   <fct>    <dbl>  <int>   <int>   <int> <int>\n",
      " 1 KIA       7.87     41      20     104   608\n",
      " 2 KT        7.63     17       3      52   273\n",
      " 3 LG        8.74     72      22     168   928\n",
      " 4 NC        8.49     36      10      76   389\n",
      " 5 SK        8.37     57      16     181   856\n",
      " 6 넥센      9.10     55      18      96   562\n",
      " 7 두산     10.7      66      31     195  1064\n",
      " 8 롯데      8.21     68      16     153   789\n",
      " 9 삼성      8.79     55      15     166   775\n",
      "10 우리      7.33      1       0       1    20\n",
      "11 한화      7.76     68      16     117   614\n",
      "12 현대     10.1       9       0      16   101\n",
      "13 히어로즈  8.2       1       0       5    16\n"
     ]
    }
   ],
   "source": [
    "df %>% group_by(team) %>% summarise(., G_AVG = mean(G), HR_SUM = sum(HR), X3B_sum = sum(X3B), X2B_sum = sum(X2B), H_sum = sum(H)) %>% show()"
   ]
  },
  {
   "cell_type": "code",
   "execution_count": null,
   "metadata": {},
   "outputs": [],
   "source": []
  },
  {
   "cell_type": "code",
   "execution_count": null,
   "metadata": {},
   "outputs": [],
   "source": []
  }
 ],
 "metadata": {
  "kernelspec": {
   "display_name": "R",
   "language": "R",
   "name": "ir"
  },
  "language_info": {
   "codemirror_mode": "r",
   "file_extension": ".r",
   "mimetype": "text/x-r-source",
   "name": "R",
   "pygments_lexer": "r",
   "version": "3.6.1"
  }
 },
 "nbformat": 4,
 "nbformat_minor": 4
}
