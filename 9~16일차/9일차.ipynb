{
 "cells": [
  {
   "cell_type": "markdown",
   "metadata": {},
   "source": [
    "### 데이터 시각화란? : 데이터 시각화의 필용성\n",
    "데이터이 시각화는 데이털르 관찰하는 과정에서 선태상황이 아니라 반드시 거쳐야 하는 필수 과정!!"
   ]
  },
  {
   "cell_type": "markdown",
   "metadata": {},
   "source": [
    "분석할 데이터 : 앤스콤의 4분할 데이터 셋 <br>\n",
    "  \n",
    "  **앤스컴의 4분활(Anscombe's quartet)**는 기술통계량은 유사하지만 분포나 그래프는 매우 다른 4개의 데이터셋이다. 통계학자 프란시스 앤스컴이 데이터 분석 전 시각화의 중요성을 등을 보여주기 위해 만들었다."
   ]
  },
  {
   "cell_type": "code",
   "execution_count": 4,
   "metadata": {},
   "outputs": [
    {
     "data": {
      "text/html": [
       "<dl class=dl-horizontal>\n",
       "\t<dt>x1</dt>\n",
       "\t\t<dd>9</dd>\n",
       "\t<dt>x2</dt>\n",
       "\t\t<dd>9</dd>\n",
       "\t<dt>x3</dt>\n",
       "\t\t<dd>9</dd>\n",
       "\t<dt>x4</dt>\n",
       "\t\t<dd>9</dd>\n",
       "\t<dt>y1</dt>\n",
       "\t\t<dd>7.50090909090909</dd>\n",
       "\t<dt>y2</dt>\n",
       "\t\t<dd>7.50090909090909</dd>\n",
       "\t<dt>y3</dt>\n",
       "\t\t<dd>7.5</dd>\n",
       "\t<dt>y4</dt>\n",
       "\t\t<dd>7.50090909090909</dd>\n",
       "</dl>\n"
      ],
      "text/latex": [
       "\\begin{description*}\n",
       "\\item[x1] 9\n",
       "\\item[x2] 9\n",
       "\\item[x3] 9\n",
       "\\item[x4] 9\n",
       "\\item[y1] 7.50090909090909\n",
       "\\item[y2] 7.50090909090909\n",
       "\\item[y3] 7.5\n",
       "\\item[y4] 7.50090909090909\n",
       "\\end{description*}\n"
      ],
      "text/markdown": [
       "x1\n",
       ":   9x2\n",
       ":   9x3\n",
       ":   9x4\n",
       ":   9y1\n",
       ":   7.50090909090909y2\n",
       ":   7.50090909090909y3\n",
       ":   7.5y4\n",
       ":   7.50090909090909\n",
       "\n"
      ],
      "text/plain": [
       "      x1       x2       x3       x4       y1       y2       y3       y4 \n",
       "9.000000 9.000000 9.000000 9.000000 7.500909 7.500909 7.500000 7.500909 "
      ]
     },
     "metadata": {},
     "output_type": "display_data"
    }
   ],
   "source": [
    "# 평균\n",
    "apply(anscombe, 2, mean) # data1~data4 를 구성하는 각 11개의 데이터 샘플은 평균, 분산, 그리고 x y 간의 상관관계가 모두 동일"
   ]
  },
  {
   "cell_type": "code",
   "execution_count": 5,
   "metadata": {},
   "outputs": [
    {
     "data": {
      "text/html": [
       "<dl class=dl-horizontal>\n",
       "\t<dt>x1</dt>\n",
       "\t\t<dd>11</dd>\n",
       "\t<dt>x2</dt>\n",
       "\t\t<dd>11</dd>\n",
       "\t<dt>x3</dt>\n",
       "\t\t<dd>11</dd>\n",
       "\t<dt>x4</dt>\n",
       "\t\t<dd>11</dd>\n",
       "\t<dt>y1</dt>\n",
       "\t\t<dd>4.12726909090909</dd>\n",
       "\t<dt>y2</dt>\n",
       "\t\t<dd>4.12762909090909</dd>\n",
       "\t<dt>y3</dt>\n",
       "\t\t<dd>4.12262</dd>\n",
       "\t<dt>y4</dt>\n",
       "\t\t<dd>4.12324909090909</dd>\n",
       "</dl>\n"
      ],
      "text/latex": [
       "\\begin{description*}\n",
       "\\item[x1] 11\n",
       "\\item[x2] 11\n",
       "\\item[x3] 11\n",
       "\\item[x4] 11\n",
       "\\item[y1] 4.12726909090909\n",
       "\\item[y2] 4.12762909090909\n",
       "\\item[y3] 4.12262\n",
       "\\item[y4] 4.12324909090909\n",
       "\\end{description*}\n"
      ],
      "text/markdown": [
       "x1\n",
       ":   11x2\n",
       ":   11x3\n",
       ":   11x4\n",
       ":   11y1\n",
       ":   4.12726909090909y2\n",
       ":   4.12762909090909y3\n",
       ":   4.12262y4\n",
       ":   4.12324909090909\n",
       "\n"
      ],
      "text/plain": [
       "       x1        x2        x3        x4        y1        y2        y3        y4 \n",
       "11.000000 11.000000 11.000000 11.000000  4.127269  4.127629  4.122620  4.123249 "
      ]
     },
     "metadata": {},
     "output_type": "display_data"
    }
   ],
   "source": [
    "# 분산\n",
    "apply(anscombe, 2, var)"
   ]
  },
  {
   "cell_type": "code",
   "execution_count": 6,
   "metadata": {},
   "outputs": [
    {
     "data": {
      "text/html": [
       "0.81642051634484"
      ],
      "text/latex": [
       "0.81642051634484"
      ],
      "text/markdown": [
       "0.81642051634484"
      ],
      "text/plain": [
       "[1] 0.8164205"
      ]
     },
     "metadata": {},
     "output_type": "display_data"
    }
   ],
   "source": [
    "# 상관관계(상관계수)\n",
    "cor(anscombe$x1, anscombe$y1)"
   ]
  },
  {
   "cell_type": "code",
   "execution_count": 7,
   "metadata": {},
   "outputs": [
    {
     "data": {
      "text/html": [
       "0.816236506000243"
      ],
      "text/latex": [
       "0.816236506000243"
      ],
      "text/markdown": [
       "0.816236506000243"
      ],
      "text/plain": [
       "[1] 0.8162365"
      ]
     },
     "metadata": {},
     "output_type": "display_data"
    }
   ],
   "source": [
    "cor(anscombe$x2, anscombe$y2)"
   ]
  },
  {
   "cell_type": "markdown",
   "metadata": {},
   "source": [
    "1. 평균(mean, average): 주어진 수의 합을 측정개수로 나눈 값으로, 대표값 중 하나\n",
    "2. 분산(Variance): 변량들이 퍼져있는 정도, 분산이 크면 들죽날죽 불안정하다는 의미\n",
    "3. 표준편차(standard deviation) : 분산은 수치가 너무 커서, 제곱근으로 적당하게 줄인 값.\n",
    "4. 공분산(covariance): 2개의 확률변수의 상관정도를 나타냄.\n",
    "5. 상관관계(correlation): 공분산을 2개 확률 변수의 표준 편차 값으로 나누어 준 값.<br> 공분산 값을 정규화하여 특정범위 값을 나오게 하는 상관계수의 의미 <br> Ex) correlation이 0이다! : x 값과 y값이 상관관계가 없다. <br> correlation이 1이다! : x값과 y값이 완벽하게 상관관계가 있다. <br> correlation이 2이다! : x값과 y값이 완벽하게 반산관관계를 갖는다.\n",
    "\n",
    "https://leedakyeong.tistory.com/entry/%EA%B8%B0%EC%B4%88%ED%86%B5%EA%B3%84-%EC%83%81%EA%B4%80%EA%B3%84%EC%88%98%EB%9E%80-What-is-correlation-coefficient"
   ]
  },
  {
   "cell_type": "markdown",
   "metadata": {},
   "source": [
    "- 통계 지표와 분석 수치만으로 비교해보면, 4개의 데이터 셋은 거의 동일하다고 판단됨!\n",
    "- 그러나 <mark>그래프로 나타내보면 서로 다른 분포를 가진 데이터!!</mark>"
   ]
  },
  {
   "cell_type": "code",
   "execution_count": 1,
   "metadata": {},
   "outputs": [
    {
     "name": "stderr",
     "output_type": "stream",
     "text": [
      "Warning message:\n",
      "\"package 'gapminder' was built under R version 3.6.3\"Warning message:\n",
      "\"package 'dplyr' was built under R version 3.6.3\"\n",
      "Attaching package: 'dplyr'\n",
      "\n",
      "The following objects are masked from 'package:stats':\n",
      "\n",
      "    filter, lag\n",
      "\n",
      "The following objects are masked from 'package:base':\n",
      "\n",
      "    intersect, setdiff, setequal, union\n",
      "\n"
     ]
    }
   ],
   "source": [
    "library(gapminder)\n",
    "library(dplyr)"
   ]
  },
  {
   "cell_type": "markdown",
   "metadata": {},
   "source": [
    "- gapminder 데이터는 5개 대륙, 총 142개 국가에 대한 1952~2007 년의 인구 데이터가 5년 간격으로 담겨 있음.\n",
    "- 인구 변화의 추이는 개별 국가보다는 대륙별로 묶어 관찰하는 것이 편리"
   ]
  },
  {
   "cell_type": "code",
   "execution_count": 8,
   "metadata": {},
   "outputs": [
    {
     "name": "stderr",
     "output_type": "stream",
     "text": [
      "`summarise()` has grouped output by 'year'. You can override using the `.groups` argument.\n"
     ]
    }
   ],
   "source": [
    "y <- gapminder %>% group_by(year, continent) %>% summarize(c_pop = sum(pop))"
   ]
  },
  {
   "cell_type": "code",
   "execution_count": 10,
   "metadata": {},
   "outputs": [
    {
     "data": {
      "text/html": [
       "<table>\n",
       "<thead><tr><th scope=col>year</th><th scope=col>continent</th><th scope=col>c_pop</th></tr></thead>\n",
       "<tbody>\n",
       "\t<tr><td>1952      </td><td>Africa    </td><td> 237640501</td></tr>\n",
       "\t<tr><td>1952      </td><td>Americas  </td><td> 345152446</td></tr>\n",
       "\t<tr><td>1952      </td><td>Asia      </td><td>1395357351</td></tr>\n",
       "\t<tr><td>1952      </td><td>Europe    </td><td> 418120846</td></tr>\n",
       "\t<tr><td>1952      </td><td>Oceania   </td><td>  10686006</td></tr>\n",
       "\t<tr><td>1957      </td><td>Africa    </td><td> 264837738</td></tr>\n",
       "\t<tr><td>1957      </td><td>Americas  </td><td> 386953916</td></tr>\n",
       "\t<tr><td>1957      </td><td>Asia      </td><td>1562780599</td></tr>\n",
       "\t<tr><td>1957      </td><td>Europe    </td><td> 437890351</td></tr>\n",
       "\t<tr><td>1957      </td><td>Oceania   </td><td>  11941976</td></tr>\n",
       "\t<tr><td>1962      </td><td>Africa    </td><td> 296516865</td></tr>\n",
       "\t<tr><td>1962      </td><td>Americas  </td><td> 433270254</td></tr>\n",
       "\t<tr><td>1962      </td><td>Asia      </td><td>1696357182</td></tr>\n",
       "\t<tr><td>1962      </td><td>Europe    </td><td> 460355155</td></tr>\n",
       "\t<tr><td>1962      </td><td>Oceania   </td><td>  13283518</td></tr>\n",
       "\t<tr><td>1967      </td><td>Africa    </td><td> 335289489</td></tr>\n",
       "\t<tr><td>1967      </td><td>Americas  </td><td> 480746623</td></tr>\n",
       "\t<tr><td>1967      </td><td>Asia      </td><td>1905662900</td></tr>\n",
       "\t<tr><td>1967      </td><td>Europe    </td><td> 481178958</td></tr>\n",
       "\t<tr><td>1967      </td><td>Oceania   </td><td>  14600414</td></tr>\n",
       "</tbody>\n",
       "</table>\n"
      ],
      "text/latex": [
       "\\begin{tabular}{r|lll}\n",
       " year & continent & c\\_pop\\\\\n",
       "\\hline\n",
       "\t 1952       & Africa     &  237640501\\\\\n",
       "\t 1952       & Americas   &  345152446\\\\\n",
       "\t 1952       & Asia       & 1395357351\\\\\n",
       "\t 1952       & Europe     &  418120846\\\\\n",
       "\t 1952       & Oceania    &   10686006\\\\\n",
       "\t 1957       & Africa     &  264837738\\\\\n",
       "\t 1957       & Americas   &  386953916\\\\\n",
       "\t 1957       & Asia       & 1562780599\\\\\n",
       "\t 1957       & Europe     &  437890351\\\\\n",
       "\t 1957       & Oceania    &   11941976\\\\\n",
       "\t 1962       & Africa     &  296516865\\\\\n",
       "\t 1962       & Americas   &  433270254\\\\\n",
       "\t 1962       & Asia       & 1696357182\\\\\n",
       "\t 1962       & Europe     &  460355155\\\\\n",
       "\t 1962       & Oceania    &   13283518\\\\\n",
       "\t 1967       & Africa     &  335289489\\\\\n",
       "\t 1967       & Americas   &  480746623\\\\\n",
       "\t 1967       & Asia       & 1905662900\\\\\n",
       "\t 1967       & Europe     &  481178958\\\\\n",
       "\t 1967       & Oceania    &   14600414\\\\\n",
       "\\end{tabular}\n"
      ],
      "text/markdown": [
       "\n",
       "| year | continent | c_pop |\n",
       "|---|---|---|\n",
       "| 1952       | Africa     |  237640501 |\n",
       "| 1952       | Americas   |  345152446 |\n",
       "| 1952       | Asia       | 1395357351 |\n",
       "| 1952       | Europe     |  418120846 |\n",
       "| 1952       | Oceania    |   10686006 |\n",
       "| 1957       | Africa     |  264837738 |\n",
       "| 1957       | Americas   |  386953916 |\n",
       "| 1957       | Asia       | 1562780599 |\n",
       "| 1957       | Europe     |  437890351 |\n",
       "| 1957       | Oceania    |   11941976 |\n",
       "| 1962       | Africa     |  296516865 |\n",
       "| 1962       | Americas   |  433270254 |\n",
       "| 1962       | Asia       | 1696357182 |\n",
       "| 1962       | Europe     |  460355155 |\n",
       "| 1962       | Oceania    |   13283518 |\n",
       "| 1967       | Africa     |  335289489 |\n",
       "| 1967       | Americas   |  480746623 |\n",
       "| 1967       | Asia       | 1905662900 |\n",
       "| 1967       | Europe     |  481178958 |\n",
       "| 1967       | Oceania    |   14600414 |\n",
       "\n"
      ],
      "text/plain": [
       "   year continent c_pop     \n",
       "1  1952 Africa     237640501\n",
       "2  1952 Americas   345152446\n",
       "3  1952 Asia      1395357351\n",
       "4  1952 Europe     418120846\n",
       "5  1952 Oceania     10686006\n",
       "6  1957 Africa     264837738\n",
       "7  1957 Americas   386953916\n",
       "8  1957 Asia      1562780599\n",
       "9  1957 Europe     437890351\n",
       "10 1957 Oceania     11941976\n",
       "11 1962 Africa     296516865\n",
       "12 1962 Americas   433270254\n",
       "13 1962 Asia      1696357182\n",
       "14 1962 Europe     460355155\n",
       "15 1962 Oceania     13283518\n",
       "16 1967 Africa     335289489\n",
       "17 1967 Americas   480746623\n",
       "18 1967 Asia      1905662900\n",
       "19 1967 Europe     481178958\n",
       "20 1967 Oceania     14600414"
      ]
     },
     "metadata": {},
     "output_type": "display_data"
    }
   ],
   "source": [
    "head(y, 20)"
   ]
  },
  {
   "cell_type": "code",
   "execution_count": 12,
   "metadata": {},
   "outputs": [
    {
     "data": {
      "image/png": "[encoded data removed]",
      "text/plain": [
       "plot without title"
      ]
     },
     "metadata": {},
     "output_type": "display_data"
    }
   ],
   "source": [
    "plot(y$year, y$c_pop) # x축에는 year , y축에는 pop을 넣어달라"
   ]
  },
  {
   "cell_type": "markdown",
   "metadata": {},
   "source": [
    "<mark>plot() 함수의 주요 옵션</mark>\n",
    "\n",
    "|Graoh option | Meaning |\n",
    "|-----------|-------------|\n",
    "| xlabel, ylabel | x , y 축 이름 |\n",
    "| main| 그래프 제목|\n",
    "| pch(plotting character) | 그래프 제목|\n",
    "|cex(character size) | 점의 크기|\n",
    "| col | 색상 |\n",
    "| xlim , ylim | x, y 축의 값 범위|\n",
    "| type | 그래프의 유형|\n",
    "plot(x, y , xlab=\"x축 이름\", ylab=\"y축 이름\", main=\"제목\")\n",
    "xlim = c(하한, 상한) , ylim = c(하한, 상한)\n",
    "plot(x, y, type=\"l\" , main=\"lines\")\n",
    "plot(x, y, type=\"h\" , main=\"histogram\")\n",
    "plot(x, y, type=\"n\" , main=\"no plotting\")\n",
    "plot(x, y, type=\"b\" , main = \"both points and lines\")\n",
    "plot(x, y, type=\"s\" , main = \"stair steps\")\n",
    "plot(x, y, main = \"default : points)"
   ]
  },
  {
   "cell_type": "code",
   "execution_count": 14,
   "metadata": {},
   "outputs": [
    {
     "ename": "ERROR",
     "evalue": "Error in plot(x, y, xlab = \"x축 이름\", ylab = \"y축 이름\", main = \"제목\"): 객체 'x'를 찾을 수 없습니다\n",
     "output_type": "error",
     "traceback": [
      "Error in plot(x, y, xlab = \"x축 이름\", ylab = \"y축 이름\", main = \"제목\"): 객체 'x'를 찾을 수 없습니다\nTraceback:\n",
      "1. plot(x, y, xlab = \"x축 이름\", ylab = \"y축 이름\", main = \"제목\")"
     ]
    }
   ],
   "source": [
    "plot(x, y , xlab=\"x축 이름\", ylab=\"y축 이름\", main=\"제목\")"
   ]
  },
  {
   "cell_type": "code",
   "execution_count": 15,
   "metadata": {},
   "outputs": [
    {
     "ename": "ERROR",
     "evalue": "Error in parse(text = x, srcfile = src): <text>:1:22: 예기치 않은 ','입니다\n1: xlim = c(하한, 상한) ,\n                         ^\n",
     "output_type": "error",
     "traceback": [
      "Error in parse(text = x, srcfile = src): <text>:1:22: 예기치 않은 ','입니다\n1: xlim = c(하한, 상한) ,\n                         ^\nTraceback:\n"
     ]
    }
   ],
   "source": [
    "xlim = c(하한, 상한) , ylim = c(하한, 상한)"
   ]
  },
  {
   "cell_type": "code",
   "execution_count": null,
   "metadata": {},
   "outputs": [],
   "source": []
  }
 ],
 "metadata": {
  "kernelspec": {
   "display_name": "R",
   "language": "R",
   "name": "ir"
  },
  "language_info": {
   "codemirror_mode": "r",
   "file_extension": ".r",
   "mimetype": "text/x-r-source",
   "name": "R",
   "pygments_lexer": "r",
   "version": "3.6.1"
  }
 },
 "nbformat": 4,
 "nbformat_minor": 4
}
